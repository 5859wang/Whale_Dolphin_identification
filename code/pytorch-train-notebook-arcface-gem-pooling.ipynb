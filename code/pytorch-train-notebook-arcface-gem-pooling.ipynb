{
 "cells": [
  {
   "cell_type": "code",
   "execution_count": 1,
   "id": "c608f30d",
   "metadata": {
    "ExecuteTime": {
     "end_time": "2022-02-19T07:13:41.452243Z",
     "start_time": "2022-02-19T07:13:39.607186Z"
    },
    "execution": {
     "iopub.execute_input": "2022-02-18T12:54:05.018224Z",
     "iopub.status.busy": "2022-02-18T12:54:05.017397Z",
     "iopub.status.idle": "2022-02-18T12:54:09.310593Z",
     "shell.execute_reply": "2022-02-18T12:54:09.310122Z",
     "shell.execute_reply.started": "2022-02-18T11:00:49.008702Z"
    },
    "papermill": {
     "duration": 4.338339,
     "end_time": "2022-02-18T12:54:09.310733",
     "exception": false,
     "start_time": "2022-02-18T12:54:04.972394",
     "status": "completed"
    },
    "tags": []
   },
   "outputs": [],
   "source": [
    "import os\n",
    "import gc\n",
    "import cv2\n",
    "import math\n",
    "import copy\n",
    "import time\n",
    "import random\n",
    "\n",
    "# For data manipulation\n",
    "import numpy as np\n",
    "import pandas as pd\n",
    "\n",
    "# Pytorch Imports\n",
    "import torch\n",
    "import torch.nn as nn\n",
    "import torch.optim as optim\n",
    "import torch.nn.functional as F\n",
    "from torch.optim import lr_scheduler\n",
    "from torch.utils.data import Dataset, DataLoader\n",
    "from torch.cuda import amp\n",
    "\n",
    "# Utils\n",
    "import joblib\n",
    "from tqdm import tqdm\n",
    "from collections import defaultdict\n",
    "\n",
    "# Sklearn Imports\n",
    "from sklearn.preprocessing import LabelEncoder\n",
    "from sklearn.model_selection import StratifiedKFold\n",
    "\n",
    "# For Image Models\n",
    "import timm\n",
    "\n",
    "# Albumentations for augmentations\n",
    "import albumentations as A\n",
    "from albumentations.pytorch import ToTensorV2\n",
    "\n",
    "# For colored terminal text\n",
    "from colorama import Fore, Back, Style\n",
    "b_ = Fore.BLUE\n",
    "sr_ = Style.RESET_ALL\n",
    "\n",
    "import warnings\n",
    "warnings.filterwarnings(\"ignore\")\n",
    "\n",
    "# For descriptive error messages\n",
    "os.environ['CUDA_LAUNCH_BLOCKING'] = \"1\""
   ]
  },
  {
   "cell_type": "code",
   "execution_count": 2,
   "id": "e09a6f6d",
   "metadata": {
    "ExecuteTime": {
     "end_time": "2022-02-19T07:13:41.456674Z",
     "start_time": "2022-02-19T07:13:41.453520Z"
    },
    "execution": {
     "iopub.execute_input": "2022-02-18T12:54:09.474134Z",
     "iopub.status.busy": "2022-02-18T12:54:09.473548Z",
     "iopub.status.idle": "2022-02-18T12:54:09.759304Z",
     "shell.execute_reply": "2022-02-18T12:54:09.759897Z",
     "shell.execute_reply.started": "2022-02-18T11:00:49.021893Z"
    },
    "papermill": {
     "duration": 0.335453,
     "end_time": "2022-02-18T12:54:09.760088",
     "exception": false,
     "start_time": "2022-02-18T12:54:09.424635",
     "status": "completed"
    },
    "tags": []
   },
   "outputs": [
    {
     "name": "stdout",
     "output_type": "stream",
     "text": [
      "If you want to use your W&B account, go to Add-ons -> Secrets and provide your W&B access token. Use the Label name as wandb_api. \n",
      "Get your W&B access token from here: https://wandb.ai/authorize\n"
     ]
    }
   ],
   "source": [
    "import wandb\n",
    "\n",
    "try:\n",
    "    from kaggle_secrets import UserSecretsClient\n",
    "    user_secrets = UserSecretsClient()\n",
    "    api_key = user_secrets.get_secret(\"wandb_api\")\n",
    "    wandb.login(key=api_key)\n",
    "    anony = None\n",
    "except:\n",
    "    anony = \"must\"\n",
    "    print('If you want to use your W&B account, go to Add-ons -> Secrets and provide your W&B access token. Use the Label name as wandb_api. \\nGet your W&B access token from here: https://wandb.ai/authorize')"
   ]
  },
  {
   "cell_type": "code",
   "execution_count": 4,
   "id": "45a9f183",
   "metadata": {
    "ExecuteTime": {
     "end_time": "2022-02-19T07:08:48.849972Z",
     "start_time": "2022-02-19T07:08:48.794038Z"
    },
    "execution": {
     "iopub.execute_input": "2022-02-18T12:54:09.951737Z",
     "iopub.status.busy": "2022-02-18T12:54:09.951030Z",
     "iopub.status.idle": "2022-02-18T12:54:09.954239Z",
     "shell.execute_reply": "2022-02-18T12:54:09.953769Z",
     "shell.execute_reply.started": "2022-02-18T11:00:49.242326Z"
    },
    "papermill": {
     "duration": 0.083922,
     "end_time": "2022-02-18T12:54:09.954373",
     "exception": false,
     "start_time": "2022-02-18T12:54:09.870451",
     "status": "completed"
    },
    "tags": []
   },
   "outputs": [],
   "source": [
    "CONFIG = {\"seed\": 2022,\n",
    "          \"epochs\": 50,\n",
    "          \"img_size\": 768,\n",
    "          \"model_name\": \"tf_efficientnet_b0\",\n",
    "          \"num_classes\": 15587,\n",
    "          \"train_batch_size\": 8,\n",
    "          \"valid_batch_size\": 8,\n",
    "          \"learning_rate\": 1e-4,\n",
    "          \"scheduler\": 'OneCycleLR',\n",
    "          \"min_lr\": 1e-6,\n",
    "          \"T_max\": 50,\n",
    "          \"weight_decay\": 1e-6,\n",
    "          \"n_fold\": 5,\n",
    "          \"n_accumulate\": 1,\n",
    "          \"device\": torch.device(\"cuda\" if torch.cuda.is_available() else \"cpu\"),\n",
    "          \"test_mode\":True, # enable for testing pipeline, changes epochs to 2 and uses just 100 training samples\n",
    "          # ArcFace Hyperparameters\n",
    "          \"s\": 30.0, \n",
    "          \"m\": 0.30,\n",
    "          \"ls_eps\": 0.0,\n",
    "          \"easy_margin\": False\n",
    "          }"
   ]
  },
  {
   "cell_type": "code",
   "execution_count": 5,
   "id": "fa005907",
   "metadata": {
    "ExecuteTime": {
     "end_time": "2022-02-19T07:08:48.858845Z",
     "start_time": "2022-02-19T07:08:48.850760Z"
    },
    "execution": {
     "iopub.execute_input": "2022-02-18T12:54:10.107974Z",
     "iopub.status.busy": "2022-02-18T12:54:10.107300Z",
     "iopub.status.idle": "2022-02-18T12:54:10.112213Z",
     "shell.execute_reply": "2022-02-18T12:54:10.111746Z",
     "shell.execute_reply.started": "2022-02-18T11:00:49.254614Z"
    },
    "papermill": {
     "duration": 0.047425,
     "end_time": "2022-02-18T12:54:10.112329",
     "exception": false,
     "start_time": "2022-02-18T12:54:10.064904",
     "status": "completed"
    },
    "tags": []
   },
   "outputs": [],
   "source": [
    "def set_seed(seed=42):\n",
    "    '''Sets the seed of the entire notebook so results are the same every time we run.\n",
    "    This is for REPRODUCIBILITY.'''\n",
    "    np.random.seed(seed)\n",
    "    torch.manual_seed(seed)\n",
    "    torch.cuda.manual_seed(seed)\n",
    "    # When running on the CuDNN backend, two further options must be set\n",
    "    torch.backends.cudnn.deterministic = True\n",
    "    torch.backends.cudnn.benchmark = False\n",
    "    # Set a fixed value for the hash seed\n",
    "    os.environ['PYTHONHASHSEED'] = str(seed)\n",
    "    \n",
    "set_seed(CONFIG['seed'])"
   ]
  },
  {
   "cell_type": "code",
   "execution_count": 6,
   "id": "a4f7200a",
   "metadata": {
    "ExecuteTime": {
     "end_time": "2022-02-19T07:08:48.862836Z",
     "start_time": "2022-02-19T07:08:48.860722Z"
    },
    "execution": {
     "iopub.execute_input": "2022-02-18T12:54:10.190842Z",
     "iopub.status.busy": "2022-02-18T12:54:10.189235Z",
     "iopub.status.idle": "2022-02-18T12:54:10.191537Z",
     "shell.execute_reply": "2022-02-18T12:54:10.192036Z",
     "shell.execute_reply.started": "2022-02-18T11:00:49.267391Z"
    },
    "papermill": {
     "duration": 0.042999,
     "end_time": "2022-02-18T12:54:10.192165",
     "exception": false,
     "start_time": "2022-02-18T12:54:10.149166",
     "status": "completed"
    },
    "tags": []
   },
   "outputs": [],
   "source": [
    "ROOT_DIR = '../data/happy-whale-and-dolphin'\n",
    "TRAIN_DIR = '../data/happy-whale-and-dolphin/train_images'\n",
    "TEST_DIR = '../data/happy-whale-and-dolphin/test_images'"
   ]
  },
  {
   "cell_type": "code",
   "execution_count": 7,
   "id": "e1589294",
   "metadata": {
    "ExecuteTime": {
     "end_time": "2022-02-19T07:08:48.867930Z",
     "start_time": "2022-02-19T07:08:48.865438Z"
    },
    "execution": {
     "iopub.execute_input": "2022-02-18T12:54:10.270397Z",
     "iopub.status.busy": "2022-02-18T12:54:10.268752Z",
     "iopub.status.idle": "2022-02-18T12:54:10.270983Z",
     "shell.execute_reply": "2022-02-18T12:54:10.271387Z",
     "shell.execute_reply.started": "2022-02-18T11:00:49.277442Z"
    },
    "papermill": {
     "duration": 0.042569,
     "end_time": "2022-02-18T12:54:10.271511",
     "exception": false,
     "start_time": "2022-02-18T12:54:10.228942",
     "status": "completed"
    },
    "tags": []
   },
   "outputs": [],
   "source": [
    "def get_train_file_path(id):\n",
    "    return f\"{TRAIN_DIR}/{id}\""
   ]
  },
  {
   "cell_type": "code",
   "execution_count": 8,
   "id": "91c7d357",
   "metadata": {
    "ExecuteTime": {
     "end_time": "2022-02-19T07:08:48.908838Z",
     "start_time": "2022-02-19T07:08:48.869250Z"
    },
    "execution": {
     "iopub.execute_input": "2022-02-18T12:54:10.425253Z",
     "iopub.status.busy": "2022-02-18T12:54:10.424396Z",
     "iopub.status.idle": "2022-02-18T12:54:10.532347Z",
     "shell.execute_reply": "2022-02-18T12:54:10.532757Z",
     "shell.execute_reply.started": "2022-02-18T11:00:49.286304Z"
    },
    "papermill": {
     "duration": 0.151418,
     "end_time": "2022-02-18T12:54:10.532942",
     "exception": false,
     "start_time": "2022-02-18T12:54:10.381524",
     "status": "completed"
    },
    "tags": []
   },
   "outputs": [],
   "source": [
    "df = pd.read_csv(f\"{ROOT_DIR}/train.csv\")\n",
    "df['file_path'] = df['image'].apply(get_train_file_path)\n",
    "df.head()\n",
    "\n",
    "if CONFIG[\"test_mode\"]==True:\n",
    "    df=df[:100]\n",
    "    CONFIG[\"epochs\"] = 2\n",
    "    CONFIG[\"n_fold\"] = 2\n",
    "encoder = LabelEncoder()\n",
    "df['individual_id'] = encoder.fit_transform(df['individual_id'])\n",
    "\n",
    "with open(\"le.pkl\", \"wb\") as fp:\n",
    "    joblib.dump(encoder, fp)"
   ]
  },
  {
   "cell_type": "code",
   "execution_count": 9,
   "id": "10ecd445",
   "metadata": {
    "ExecuteTime": {
     "end_time": "2022-02-19T07:08:48.914516Z",
     "start_time": "2022-02-19T07:08:48.909639Z"
    },
    "execution": {
     "iopub.execute_input": "2022-02-18T12:54:10.686963Z",
     "iopub.status.busy": "2022-02-18T12:54:10.686231Z",
     "iopub.status.idle": "2022-02-18T12:54:10.693743Z",
     "shell.execute_reply": "2022-02-18T12:54:10.693318Z",
     "shell.execute_reply.started": "2022-02-18T11:00:49.440604Z"
    },
    "papermill": {
     "duration": 0.049322,
     "end_time": "2022-02-18T12:54:10.693855",
     "exception": false,
     "start_time": "2022-02-18T12:54:10.644533",
     "status": "completed"
    },
    "tags": []
   },
   "outputs": [],
   "source": [
    "skf = StratifiedKFold(n_splits=CONFIG['n_fold'])\n",
    "\n",
    "for fold, ( _, val_) in enumerate(skf.split(X=df, y=df.individual_id)):\n",
    "      df.loc[val_ , \"kfold\"] = fold"
   ]
  },
  {
   "cell_type": "code",
   "execution_count": 10,
   "id": "1958353a",
   "metadata": {
    "ExecuteTime": {
     "end_time": "2022-02-19T07:08:48.918592Z",
     "start_time": "2022-02-19T07:08:48.915180Z"
    },
    "execution": {
     "iopub.execute_input": "2022-02-18T12:54:10.854405Z",
     "iopub.status.busy": "2022-02-18T12:54:10.853557Z",
     "iopub.status.idle": "2022-02-18T12:54:10.855463Z",
     "shell.execute_reply": "2022-02-18T12:54:10.855911Z",
     "shell.execute_reply.started": "2022-02-18T11:00:49.915336Z"
    },
    "papermill": {
     "duration": 0.047661,
     "end_time": "2022-02-18T12:54:10.856052",
     "exception": false,
     "start_time": "2022-02-18T12:54:10.808391",
     "status": "completed"
    },
    "tags": []
   },
   "outputs": [],
   "source": [
    "class HappyWhaleDataset(Dataset):\n",
    "    def __init__(self, df, transforms=None):\n",
    "        self.df = df\n",
    "        self.file_names = df['file_path'].values\n",
    "        self.labels = df['individual_id'].values\n",
    "        self.transforms = transforms\n",
    "        \n",
    "    def __len__(self):\n",
    "        return len(self.df)\n",
    "    \n",
    "    def __getitem__(self, index):\n",
    "        img_path = self.file_names[index]\n",
    "        img = cv2.imread(img_path)\n",
    "        img = cv2.cvtColor(img, cv2.COLOR_BGR2RGB)\n",
    "        label = self.labels[index]\n",
    "        \n",
    "        if self.transforms:\n",
    "            img = self.transforms(image=img)[\"image\"]\n",
    "            \n",
    "        return {\n",
    "            'image': img,\n",
    "            'label': torch.tensor(label, dtype=torch.long)\n",
    "        }"
   ]
  },
  {
   "cell_type": "code",
   "execution_count": 11,
   "id": "c4ba230b",
   "metadata": {
    "ExecuteTime": {
     "end_time": "2022-02-19T07:08:48.922989Z",
     "start_time": "2022-02-19T07:08:48.919249Z"
    },
    "execution": {
     "iopub.execute_input": "2022-02-18T12:54:11.011030Z",
     "iopub.status.busy": "2022-02-18T12:54:11.010203Z",
     "iopub.status.idle": "2022-02-18T12:54:11.012153Z",
     "shell.execute_reply": "2022-02-18T12:54:11.012553Z",
     "shell.execute_reply.started": "2022-02-18T11:00:49.92621Z"
    },
    "papermill": {
     "duration": 0.045855,
     "end_time": "2022-02-18T12:54:11.012689",
     "exception": false,
     "start_time": "2022-02-18T12:54:10.966834",
     "status": "completed"
    },
    "tags": []
   },
   "outputs": [],
   "source": [
    "data_transforms = {\n",
    "    \"train\": A.Compose([\n",
    "        A.Resize(CONFIG['img_size'], CONFIG['img_size']),\n",
    "        A.HorizontalFlip(p=0.5),\n",
    "        A.Normalize(\n",
    "                mean=[0.485, 0.456, 0.406], \n",
    "                std=[0.229, 0.224, 0.225], \n",
    "                max_pixel_value=255.0, \n",
    "                p=1.0\n",
    "            ),\n",
    "        ToTensorV2()], p=1.),\n",
    "    \n",
    "    \"valid\": A.Compose([\n",
    "        A.Resize(CONFIG['img_size'], CONFIG['img_size']),\n",
    "        A.Normalize(\n",
    "                mean=[0.485, 0.456, 0.406], \n",
    "                std=[0.229, 0.224, 0.225], \n",
    "                max_pixel_value=255.0, \n",
    "                p=1.0\n",
    "            ),\n",
    "        ToTensorV2()], p=1.)\n",
    "}"
   ]
  },
  {
   "cell_type": "code",
   "execution_count": 12,
   "id": "ce747cca",
   "metadata": {
    "ExecuteTime": {
     "end_time": "2022-02-19T07:08:48.928058Z",
     "start_time": "2022-02-19T07:08:48.923686Z"
    },
    "execution": {
     "iopub.execute_input": "2022-02-18T12:54:11.167257Z",
     "iopub.status.busy": "2022-02-18T12:54:11.166455Z",
     "iopub.status.idle": "2022-02-18T12:54:11.168432Z",
     "shell.execute_reply": "2022-02-18T12:54:11.168798Z",
     "shell.execute_reply.started": "2022-02-18T11:00:49.94312Z"
    },
    "papermill": {
     "duration": 0.046411,
     "end_time": "2022-02-18T12:54:11.168952",
     "exception": false,
     "start_time": "2022-02-18T12:54:11.122541",
     "status": "completed"
    },
    "tags": []
   },
   "outputs": [],
   "source": [
    "class GeM(nn.Module):\n",
    "    def __init__(self, p=3, eps=1e-6):\n",
    "        super(GeM, self).__init__()\n",
    "        self.p = nn.Parameter(torch.ones(1)*p)\n",
    "        self.eps = eps\n",
    "\n",
    "    def forward(self, x):\n",
    "        return self.gem(x, p=self.p, eps=self.eps)\n",
    "        \n",
    "    def gem(self, x, p=3, eps=1e-6):\n",
    "        return F.avg_pool2d(x.clamp(min=eps).pow(p), (x.size(-2), x.size(-1))).pow(1./p)\n",
    "        \n",
    "    def __repr__(self):\n",
    "        return self.__class__.__name__ + \\\n",
    "                '(' + 'p=' + '{:.4f}'.format(self.p.data.tolist()[0]) + \\\n",
    "                ', ' + 'eps=' + str(self.eps) + ')'"
   ]
  },
  {
   "cell_type": "code",
   "execution_count": 13,
   "id": "18a099d8",
   "metadata": {
    "ExecuteTime": {
     "end_time": "2022-02-19T07:08:48.934903Z",
     "start_time": "2022-02-19T07:08:48.929190Z"
    },
    "execution": {
     "iopub.execute_input": "2022-02-18T12:54:11.328334Z",
     "iopub.status.busy": "2022-02-18T12:54:11.327491Z",
     "iopub.status.idle": "2022-02-18T12:54:11.329352Z",
     "shell.execute_reply": "2022-02-18T12:54:11.330026Z",
     "shell.execute_reply.started": "2022-02-18T11:00:49.969033Z"
    },
    "papermill": {
     "duration": 0.050958,
     "end_time": "2022-02-18T12:54:11.330159",
     "exception": false,
     "start_time": "2022-02-18T12:54:11.279201",
     "status": "completed"
    },
    "tags": []
   },
   "outputs": [],
   "source": [
    "class ArcMarginProduct(nn.Module):\n",
    "    r\"\"\"Implement of large margin arc distance: :\n",
    "        Args:\n",
    "            in_features: size of each input sample\n",
    "            out_features: size of each output sample\n",
    "            s: norm of input feature\n",
    "            m: margin\n",
    "            cos(theta + m)\n",
    "        \"\"\"\n",
    "    def __init__(self, in_features, out_features, s=30.0, \n",
    "                 m=0.50, easy_margin=False, ls_eps=0.0):\n",
    "        super(ArcMarginProduct, self).__init__()\n",
    "        self.in_features = in_features\n",
    "        self.out_features = out_features\n",
    "        self.s = s\n",
    "        self.m = m\n",
    "        self.ls_eps = ls_eps  # label smoothing\n",
    "        self.weight = nn.Parameter(torch.FloatTensor(out_features, in_features))\n",
    "        nn.init.xavier_uniform_(self.weight)\n",
    "\n",
    "        self.easy_margin = easy_margin\n",
    "        self.cos_m = math.cos(m)\n",
    "        self.sin_m = math.sin(m)\n",
    "        self.th = math.cos(math.pi - m)\n",
    "        self.mm = math.sin(math.pi - m) * m\n",
    "\n",
    "    def forward(self, input, label):\n",
    "        # --------------------------- cos(theta) & phi(theta) ---------------------\n",
    "        cosine = F.linear(F.normalize(input), F.normalize(self.weight))\n",
    "        sine = torch.sqrt(1.0 - torch.pow(cosine, 2))\n",
    "        phi = cosine * self.cos_m - sine * self.sin_m\n",
    "        if self.easy_margin:\n",
    "            phi = torch.where(cosine > 0, phi, cosine)\n",
    "        else:\n",
    "            phi = torch.where(cosine > self.th, phi, cosine - self.mm)\n",
    "        # --------------------------- convert label to one-hot ---------------------\n",
    "        # one_hot = torch.zeros(cosine.size(), requires_grad=True, device='cuda')\n",
    "        one_hot = torch.zeros(cosine.size(), device=CONFIG['device'])\n",
    "        one_hot.scatter_(1, label.view(-1, 1).long(), 1)\n",
    "        if self.ls_eps > 0:\n",
    "            one_hot = (1 - self.ls_eps) * one_hot + self.ls_eps / self.out_features\n",
    "        # -------------torch.where(out_i = {x_i if condition_i else y_i) ------------\n",
    "        output = (one_hot * phi) + ((1.0 - one_hot) * cosine)\n",
    "        output *= self.s\n",
    "\n",
    "        return output"
   ]
  },
  {
   "cell_type": "code",
   "execution_count": 14,
   "id": "37c2dc5a",
   "metadata": {
    "ExecuteTime": {
     "end_time": "2022-02-19T07:08:52.086286Z",
     "start_time": "2022-02-19T07:08:48.935598Z"
    },
    "execution": {
     "iopub.execute_input": "2022-02-18T12:54:11.479569Z",
     "iopub.status.busy": "2022-02-18T12:54:11.478727Z",
     "iopub.status.idle": "2022-02-18T12:54:17.914586Z",
     "shell.execute_reply": "2022-02-18T12:54:17.915027Z",
     "shell.execute_reply.started": "2022-02-18T11:00:50.013201Z"
    },
    "papermill": {
     "duration": 6.475266,
     "end_time": "2022-02-18T12:54:17.915205",
     "exception": false,
     "start_time": "2022-02-18T12:54:11.439939",
     "status": "completed"
    },
    "tags": []
   },
   "outputs": [],
   "source": [
    "class HappyWhaleModel(nn.Module):\n",
    "    def __init__(self, model_name, pretrained=True):\n",
    "        super(HappyWhaleModel, self).__init__()\n",
    "        self.model = timm.create_model(model_name, pretrained=pretrained)\n",
    "        in_features = self.model.classifier.in_features\n",
    "        self.model.classifier = nn.Identity()\n",
    "        self.model.global_pool = nn.Identity()\n",
    "        self.pooling = GeM()\n",
    "        self.fc = nn.Linear(in_features,512)\n",
    "\n",
    "    def forward(self, images):\n",
    "#        print(\"images: \", images.size())\n",
    "#        print(\"labels: \", labels.size())\n",
    "        features = self.model(images)\n",
    "#        print(\"features: \", features.size())\n",
    "        pooled_features = self.pooling(features).flatten(1)\n",
    "        output = self.fc(pooled_features)\n",
    "#        print(\"output: \", output.size())\n",
    "        return output\n",
    "    \n",
    "model = HappyWhaleModel(CONFIG['model_name'])\n",
    "model.to(CONFIG['device']);\n",
    "arc = ArcMarginProduct(512, \n",
    "                               CONFIG[\"num_classes\"],\n",
    "                               s=CONFIG[\"s\"], \n",
    "                               m=CONFIG[\"m\"], \n",
    "                               easy_margin=CONFIG[\"ls_eps\"], \n",
    "                               ls_eps=CONFIG[\"ls_eps\"]).to(CONFIG['device'], dtype=torch.float)  "
   ]
  },
  {
   "cell_type": "code",
   "execution_count": 15,
   "id": "8be3008f",
   "metadata": {
    "ExecuteTime": {
     "end_time": "2022-02-19T07:08:52.089087Z",
     "start_time": "2022-02-19T07:08:52.087351Z"
    },
    "execution": {
     "iopub.execute_input": "2022-02-18T12:54:18.074513Z",
     "iopub.status.busy": "2022-02-18T12:54:18.073769Z",
     "iopub.status.idle": "2022-02-18T12:54:18.076455Z",
     "shell.execute_reply": "2022-02-18T12:54:18.075989Z",
     "shell.execute_reply.started": "2022-02-18T11:00:50.644683Z"
    },
    "papermill": {
     "duration": 0.043743,
     "end_time": "2022-02-18T12:54:18.076579",
     "exception": false,
     "start_time": "2022-02-18T12:54:18.032836",
     "status": "completed"
    },
    "tags": []
   },
   "outputs": [],
   "source": [
    "def criterion(outputs, labels):\n",
    "    return nn.CrossEntropyLoss()(outputs, labels)"
   ]
  },
  {
   "cell_type": "code",
   "execution_count": 16,
   "id": "56c9fcdb",
   "metadata": {
    "ExecuteTime": {
     "end_time": "2022-02-19T07:08:52.095175Z",
     "start_time": "2022-02-19T07:08:52.089788Z"
    },
    "execution": {
     "iopub.execute_input": "2022-02-18T12:54:18.232632Z",
     "iopub.status.busy": "2022-02-18T12:54:18.231829Z",
     "iopub.status.idle": "2022-02-18T12:54:18.239085Z",
     "shell.execute_reply": "2022-02-18T12:54:18.239657Z",
     "shell.execute_reply.started": "2022-02-18T11:00:50.651407Z"
    },
    "papermill": {
     "duration": 0.052032,
     "end_time": "2022-02-18T12:54:18.239795",
     "exception": false,
     "start_time": "2022-02-18T12:54:18.187763",
     "status": "completed"
    },
    "tags": []
   },
   "outputs": [],
   "source": [
    "def train_one_epoch(model, optimizer, scheduler, dataloader, device, epoch):\n",
    "    model.train()\n",
    "    \n",
    "    dataset_size = 0\n",
    "    running_loss = 0.0\n",
    "    \n",
    "    bar = tqdm(enumerate(dataloader), total=len(dataloader))\n",
    "    for step, data in bar:\n",
    "        images = data['image'].to(device, dtype=torch.float)\n",
    "        labels = data['label'].to(device, dtype=torch.long)\n",
    "        \n",
    "        batch_size = images.size(0)\n",
    "        \n",
    "        outputs = model(images)\n",
    "        arcOutput = arc(outputs,labels)\n",
    "        loss = criterion(arcOutput, labels)\n",
    "        loss = loss / CONFIG['n_accumulate']\n",
    "            \n",
    "        loss.backward()\n",
    "    \n",
    "        if (step + 1) % CONFIG['n_accumulate'] == 0:\n",
    "            optimizer.step()\n",
    "\n",
    "            # zero the parameter gradients\n",
    "            optimizer.zero_grad()\n",
    "\n",
    "            if scheduler is not None:\n",
    "                scheduler.step()\n",
    "                \n",
    "        running_loss += (loss.item() * batch_size)\n",
    "        dataset_size += batch_size\n",
    "        \n",
    "        epoch_loss = running_loss / dataset_size\n",
    "        \n",
    "        bar.set_postfix(Epoch=epoch, Train_Loss=epoch_loss,\n",
    "                        LR=optimizer.param_groups[0]['lr'])\n",
    "    gc.collect()\n",
    "    \n",
    "    return epoch_loss"
   ]
  },
  {
   "cell_type": "code",
   "execution_count": 17,
   "id": "465a3a0b",
   "metadata": {
    "ExecuteTime": {
     "end_time": "2022-02-19T07:08:52.102405Z",
     "start_time": "2022-02-19T07:08:52.095862Z"
    },
    "execution": {
     "iopub.execute_input": "2022-02-18T12:54:18.513192Z",
     "iopub.status.busy": "2022-02-18T12:54:18.512383Z",
     "iopub.status.idle": "2022-02-18T12:54:18.516932Z",
     "shell.execute_reply": "2022-02-18T12:54:18.517631Z",
     "shell.execute_reply.started": "2022-02-18T11:00:50.673043Z"
    },
    "papermill": {
     "duration": 0.074799,
     "end_time": "2022-02-18T12:54:18.517767",
     "exception": false,
     "start_time": "2022-02-18T12:54:18.442968",
     "status": "completed"
    },
    "tags": []
   },
   "outputs": [],
   "source": [
    "def valid_one_epoch(model, dataloader, device, epoch):\n",
    "    model.eval()\n",
    "    \n",
    "    dataset_size = 0\n",
    "    running_loss = 0.0\n",
    "    \n",
    "    bar = tqdm(enumerate(dataloader), total=len(dataloader))\n",
    "    for step, data in bar:        \n",
    "        images = data['image'].to(device, dtype=torch.float)\n",
    "        labels = data['label'].to(device, dtype=torch.long)\n",
    "        \n",
    "        batch_size = images.size(0)\n",
    "\n",
    "        outputs = model(images)\n",
    "        arcOutput = arc(outputs,labels)\n",
    "        loss = criterion(arcOutput, labels)\n",
    "        \n",
    "        running_loss += (loss.item() * batch_size)\n",
    "        dataset_size += batch_size\n",
    "        \n",
    "        epoch_loss = running_loss / dataset_size\n",
    "        \n",
    "        bar.set_postfix(Epoch=epoch, Valid_Loss=epoch_loss,\n",
    "                        LR=optimizer.param_groups[0]['lr'])   \n",
    "    \n",
    "    gc.collect()\n",
    "    \n",
    "    return epoch_loss"
   ]
  },
  {
   "cell_type": "code",
   "execution_count": 18,
   "id": "882d075f",
   "metadata": {
    "ExecuteTime": {
     "end_time": "2022-02-19T07:08:52.110022Z",
     "start_time": "2022-02-19T07:08:52.103395Z"
    },
    "execution": {
     "iopub.execute_input": "2022-02-18T12:54:18.781269Z",
     "iopub.status.busy": "2022-02-18T12:54:18.780467Z",
     "iopub.status.idle": "2022-02-18T12:54:18.791151Z",
     "shell.execute_reply": "2022-02-18T12:54:18.791635Z",
     "shell.execute_reply.started": "2022-02-18T11:00:50.696788Z"
    },
    "papermill": {
     "duration": 0.085068,
     "end_time": "2022-02-18T12:54:18.791764",
     "exception": false,
     "start_time": "2022-02-18T12:54:18.706696",
     "status": "completed"
    },
    "tags": []
   },
   "outputs": [],
   "source": [
    "def run_training(model, optimizer, scheduler, device, num_epochs):\n",
    "    # To automatically log gradients\n",
    "    wandb.watch(model, log_freq=100)\n",
    "    \n",
    "    if torch.cuda.is_available():\n",
    "        print(\"[INFO] Using GPU: {}\\n\".format(torch.cuda.get_device_name()))\n",
    "    \n",
    "    start = time.time()\n",
    "    best_model_wts = copy.deepcopy(model.state_dict())\n",
    "    best_epoch_loss = np.inf\n",
    "    history = defaultdict(list)\n",
    "    \n",
    "    for epoch in range(1, num_epochs + 1): \n",
    "        gc.collect()\n",
    "        train_epoch_loss = train_one_epoch(model, optimizer, scheduler, \n",
    "                                           dataloader=train_loader, \n",
    "                                           device=CONFIG['device'], epoch=epoch)\n",
    "        \n",
    "        val_epoch_loss = valid_one_epoch(model, valid_loader, device=CONFIG['device'], \n",
    "                                         epoch=epoch)\n",
    "    \n",
    "        history['Train Loss'].append(train_epoch_loss)\n",
    "        history['Valid Loss'].append(val_epoch_loss)\n",
    "        \n",
    "        # Log the metrics\n",
    "        wandb.log({\"Train Loss\": train_epoch_loss})\n",
    "        wandb.log({\"Valid Loss\": val_epoch_loss})\n",
    "        wandb.log({\"LR\": optimizer.param_groups[0]['lr']})\n",
    "        \n",
    "        # deep copy the model\n",
    "        if val_epoch_loss <= best_epoch_loss:\n",
    "            print(f\"{b_}Validation Loss Improved ({best_epoch_loss} ---> {val_epoch_loss})\")\n",
    "            best_epoch_loss = val_epoch_loss\n",
    "            run.summary[\"Best Loss\"] = best_epoch_loss\n",
    "            best_model_wts = copy.deepcopy(model.state_dict())\n",
    "            PATH = \"Loss{:.4f}_epoch{:.0f}.bin\".format(best_epoch_loss, epoch)\n",
    "            torch.save(model.state_dict(), PATH)\n",
    "            # Save a model file from the current directory\n",
    "            print(f\"Model Saved{sr_}\")\n",
    "            \n",
    "        print()\n",
    "    \n",
    "    end = time.time()\n",
    "    time_elapsed = end - start\n",
    "    print('Training complete in {:.0f}h {:.0f}m {:.0f}s'.format(\n",
    "        time_elapsed // 3600, (time_elapsed % 3600) // 60, (time_elapsed % 3600) % 60))\n",
    "    print(\"Best Loss: {:.4f}\".format(best_epoch_loss))\n",
    "    \n",
    "    # load best model weights\n",
    "    model.load_state_dict(best_model_wts)\n",
    "    \n",
    "    return model, history"
   ]
  },
  {
   "cell_type": "code",
   "execution_count": 19,
   "id": "ec0058e4",
   "metadata": {
    "ExecuteTime": {
     "end_time": "2022-02-19T07:08:52.117287Z",
     "start_time": "2022-02-19T07:08:52.110963Z"
    },
    "execution": {
     "iopub.execute_input": "2022-02-18T12:54:18.905409Z",
     "iopub.status.busy": "2022-02-18T12:54:18.904580Z",
     "iopub.status.idle": "2022-02-18T12:54:18.906525Z",
     "shell.execute_reply": "2022-02-18T12:54:18.907025Z",
     "shell.execute_reply.started": "2022-02-18T11:00:50.732648Z"
    },
    "papermill": {
     "duration": 0.050449,
     "end_time": "2022-02-18T12:54:18.907183",
     "exception": false,
     "start_time": "2022-02-18T12:54:18.856734",
     "status": "completed"
    },
    "tags": []
   },
   "outputs": [],
   "source": [
    "def fetch_scheduler(optimizer):\n",
    "    if CONFIG['scheduler'] == 'CosineAnnealingLR':\n",
    "        scheduler = lr_scheduler.CosineAnnealingLR(optimizer,T_max=CONFIG['T_max'], \n",
    "                                                   eta_min=CONFIG['min_lr'])\n",
    "    elif CONFIG['scheduler'] == 'CosineAnnealingWarmRestarts':\n",
    "        scheduler = lr_scheduler.CosineAnnealingWarmRestarts(optimizer,T_0=CONFIG['T_0'], \n",
    "                                                             eta_min=CONFIG['min_lr'])\n",
    "                \n",
    "    elif CONFIG['scheduler'] == 'OneCycleLR':\n",
    "        scheduler = lr_scheduler.OneCycleLR(optimizer,max_lr =CONFIG['learning_rate'],total_steps = CONFIG['epochs'] * len(train_loader))\n",
    "        \n",
    "    elif CONFIG['scheduler'] == None:\n",
    "        return None\n",
    "        \n",
    "    return scheduler"
   ]
  },
  {
   "cell_type": "code",
   "execution_count": 20,
   "id": "aa27250d",
   "metadata": {
    "ExecuteTime": {
     "end_time": "2022-02-19T07:08:52.124608Z",
     "start_time": "2022-02-19T07:08:52.117891Z"
    },
    "execution": {
     "iopub.execute_input": "2022-02-18T12:54:18.988975Z",
     "iopub.status.busy": "2022-02-18T12:54:18.988140Z",
     "iopub.status.idle": "2022-02-18T12:54:18.990182Z",
     "shell.execute_reply": "2022-02-18T12:54:18.990548Z",
     "shell.execute_reply.started": "2022-02-18T11:00:50.764371Z"
    },
    "papermill": {
     "duration": 0.045754,
     "end_time": "2022-02-18T12:54:18.990684",
     "exception": false,
     "start_time": "2022-02-18T12:54:18.944930",
     "status": "completed"
    },
    "tags": []
   },
   "outputs": [],
   "source": [
    "def prepare_loaders(df, fold):\n",
    "    df_train = df[df.kfold != fold].reset_index(drop=True)\n",
    "    df_valid = df[df.kfold == fold].reset_index(drop=True)\n",
    "    \n",
    "    train_dataset = HappyWhaleDataset(df_train, transforms=data_transforms[\"train\"])\n",
    "    valid_dataset = HappyWhaleDataset(df_valid, transforms=data_transforms[\"valid\"])\n",
    "\n",
    "    train_loader = DataLoader(train_dataset, batch_size=CONFIG['train_batch_size'], \n",
    "                              num_workers=2, shuffle=True, pin_memory=True, drop_last=True)\n",
    "    valid_loader = DataLoader(valid_dataset, batch_size=CONFIG['valid_batch_size'], \n",
    "                              num_workers=2, shuffle=False, pin_memory=True)\n",
    "    \n",
    "    return train_loader, valid_loader"
   ]
  },
  {
   "cell_type": "markdown",
   "id": "b6262ddd",
   "metadata": {
    "papermill": {
     "duration": 0.036653,
     "end_time": "2022-02-18T12:54:19.064658",
     "exception": false,
     "start_time": "2022-02-18T12:54:19.028005",
     "status": "completed"
    },
    "tags": []
   },
   "source": [
    "<span style=\"color: #000508; font-family: Segoe UI; font-size: 1.5em; font-weight: 300;\">Prepare Dataloaders</span>"
   ]
  },
  {
   "cell_type": "code",
   "execution_count": 21,
   "id": "da218ca9",
   "metadata": {
    "ExecuteTime": {
     "end_time": "2022-02-19T07:08:52.161001Z",
     "start_time": "2022-02-19T07:08:52.125526Z"
    },
    "execution": {
     "iopub.execute_input": "2022-02-18T12:54:19.151719Z",
     "iopub.status.busy": "2022-02-18T12:54:19.150210Z",
     "iopub.status.idle": "2022-02-18T12:54:19.152350Z",
     "shell.execute_reply": "2022-02-18T12:54:19.152738Z",
     "shell.execute_reply.started": "2022-02-18T11:00:50.791871Z"
    },
    "papermill": {
     "duration": 0.050911,
     "end_time": "2022-02-18T12:54:19.152858",
     "exception": false,
     "start_time": "2022-02-18T12:54:19.101947",
     "status": "completed"
    },
    "tags": []
   },
   "outputs": [],
   "source": [
    "train_loader, valid_loader = prepare_loaders(df, fold=0)"
   ]
  },
  {
   "cell_type": "code",
   "execution_count": 22,
   "id": "ae7c9018",
   "metadata": {
    "ExecuteTime": {
     "end_time": "2022-02-19T07:08:52.165270Z",
     "start_time": "2022-02-19T07:08:52.162677Z"
    },
    "execution": {
     "iopub.execute_input": "2022-02-18T12:54:19.233291Z",
     "iopub.status.busy": "2022-02-18T12:54:19.232543Z",
     "iopub.status.idle": "2022-02-18T12:54:19.235550Z",
     "shell.execute_reply": "2022-02-18T12:54:19.236011Z",
     "shell.execute_reply.started": "2022-02-18T11:00:50.839272Z"
    },
    "papermill": {
     "duration": 0.046222,
     "end_time": "2022-02-18T12:54:19.236155",
     "exception": false,
     "start_time": "2022-02-18T12:54:19.189933",
     "status": "completed"
    },
    "tags": []
   },
   "outputs": [
    {
     "data": {
      "text/plain": [
       "6"
      ]
     },
     "execution_count": 22,
     "metadata": {},
     "output_type": "execute_result"
    }
   ],
   "source": [
    "len(train_loader)"
   ]
  },
  {
   "cell_type": "markdown",
   "id": "5f74117d",
   "metadata": {
    "papermill": {
     "duration": 0.038012,
     "end_time": "2022-02-18T12:54:19.311742",
     "exception": false,
     "start_time": "2022-02-18T12:54:19.273730",
     "status": "completed"
    },
    "tags": []
   },
   "source": [
    "<span style=\"color: #000508; font-family: Segoe UI; font-size: 1.5em; font-weight: 300;\">Define Optimizer and Scheduler</span>"
   ]
  },
  {
   "cell_type": "code",
   "execution_count": 23,
   "id": "989f9d2f",
   "metadata": {
    "ExecuteTime": {
     "end_time": "2022-02-19T07:08:52.170243Z",
     "start_time": "2022-02-19T07:08:52.165844Z"
    },
    "execution": {
     "iopub.execute_input": "2022-02-18T12:54:19.393390Z",
     "iopub.status.busy": "2022-02-18T12:54:19.392648Z",
     "iopub.status.idle": "2022-02-18T12:54:19.394612Z",
     "shell.execute_reply": "2022-02-18T12:54:19.395015Z",
     "shell.execute_reply.started": "2022-02-18T11:00:50.859114Z"
    },
    "papermill": {
     "duration": 0.046083,
     "end_time": "2022-02-18T12:54:19.395154",
     "exception": false,
     "start_time": "2022-02-18T12:54:19.349071",
     "status": "completed"
    },
    "tags": []
   },
   "outputs": [],
   "source": [
    "optimizer = optim.Adam(model.parameters(), lr=CONFIG['learning_rate'], \n",
    "                       weight_decay=CONFIG['weight_decay'])\n",
    "scheduler = fetch_scheduler(optimizer)"
   ]
  },
  {
   "cell_type": "markdown",
   "id": "ec3f6315",
   "metadata": {
    "papermill": {
     "duration": 0.037186,
     "end_time": "2022-02-18T12:54:19.469436",
     "exception": false,
     "start_time": "2022-02-18T12:54:19.432250",
     "status": "completed"
    },
    "tags": []
   },
   "source": [
    "<span style=\"color: #000508; font-family: Segoe UI; font-size: 1.5em; font-weight: 300;\">Start Training</span>"
   ]
  },
  {
   "cell_type": "code",
   "execution_count": null,
   "id": "2e067269",
   "metadata": {
    "ExecuteTime": {
     "start_time": "2022-02-19T07:10:31.777Z"
    },
    "execution": {
     "iopub.execute_input": "2022-02-18T12:54:19.548548Z",
     "iopub.status.busy": "2022-02-18T12:54:19.547729Z",
     "iopub.status.idle": "2022-02-18T12:54:28.182324Z",
     "shell.execute_reply": "2022-02-18T12:54:28.181834Z",
     "shell.execute_reply.started": "2022-02-18T11:00:50.881031Z"
    },
    "papermill": {
     "duration": 8.674634,
     "end_time": "2022-02-18T12:54:28.182456",
     "exception": false,
     "start_time": "2022-02-18T12:54:19.507822",
     "status": "completed"
    },
    "tags": []
   },
   "outputs": [],
   "source": [
    "run = wandb.init(project='HappyWhale', \n",
    "                 entity=\"0239\",\n",
    "                 config=CONFIG,\n",
    "                 job_type='Train',\n",
    "                 tags=['arcface', 'gem-pooling', 'effnet-b0', '448'],\n",
    "                 anonymous='must')"
   ]
  },
  {
   "cell_type": "code",
   "execution_count": null,
   "id": "c0d1e120",
   "metadata": {
    "ExecuteTime": {
     "start_time": "2022-02-19T07:10:33.797Z"
    },
    "execution": {
     "iopub.execute_input": "2022-02-18T12:54:28.273582Z",
     "iopub.status.busy": "2022-02-18T12:54:28.272797Z",
     "iopub.status.idle": "2022-02-18T12:54:57.271976Z",
     "shell.execute_reply": "2022-02-18T12:54:57.272558Z",
     "shell.execute_reply.started": "2022-02-18T11:01:02.440528Z"
    },
    "papermill": {
     "duration": 29.051628,
     "end_time": "2022-02-18T12:54:57.272754",
     "exception": false,
     "start_time": "2022-02-18T12:54:28.221126",
     "status": "completed"
    },
    "tags": []
   },
   "outputs": [],
   "source": [
    "model, history = run_training(model, optimizer, scheduler,\n",
    "                              device=CONFIG['device'],\n",
    "                              num_epochs=CONFIG['epochs'])"
   ]
  },
  {
   "cell_type": "code",
   "execution_count": null,
   "id": "2b4a0887",
   "metadata": {
    "ExecuteTime": {
     "start_time": "2022-02-19T07:10:34.847Z"
    },
    "execution": {
     "iopub.execute_input": "2022-02-18T12:54:57.396105Z",
     "iopub.status.busy": "2022-02-18T12:54:57.391537Z",
     "iopub.status.idle": "2022-02-18T12:55:02.661060Z",
     "shell.execute_reply": "2022-02-18T12:55:02.661566Z",
     "shell.execute_reply.started": "2022-02-18T11:01:04.718896Z"
    },
    "papermill": {
     "duration": 5.330691,
     "end_time": "2022-02-18T12:55:02.661722",
     "exception": false,
     "start_time": "2022-02-18T12:54:57.331031",
     "status": "completed"
    },
    "tags": []
   },
   "outputs": [],
   "source": [
    "run.finish()"
   ]
  },
  {
   "cell_type": "markdown",
   "id": "802a0db9",
   "metadata": {
    "papermill": {
     "duration": 0.062044,
     "end_time": "2022-02-18T12:55:02.814309",
     "exception": false,
     "start_time": "2022-02-18T12:55:02.752265",
     "status": "completed"
    },
    "tags": []
   },
   "source": [
    "# <h1 style = \"font-family: garamond; font-size: 40px; font-style: normal; letter-spcaing: 3px; background-color: #f6f5f5; color :#fe346e; border-radius: 100px 100px; text-align:center\">Visualizations</h1>\n",
    "\n",
    "<span style=\"color: #000508; font-family: Segoe UI; font-size: 1.5em; font-weight: 300;\"><a href=\"https://wandb.ai/dchanda/HappyWhale/runs/3j25um1k\">View the Complete Dashboard Here ⮕</a></span>"
   ]
  },
  {
   "cell_type": "markdown",
   "id": "b652319f",
   "metadata": {
    "papermill": {
     "duration": 0.056986,
     "end_time": "2022-02-18T12:55:02.930897",
     "exception": false,
     "start_time": "2022-02-18T12:55:02.873911",
     "status": "completed"
    },
    "tags": []
   },
   "source": [
    "![](https://i.imgur.com/zD3rD0W.jpg)"
   ]
  },
  {
   "cell_type": "markdown",
   "id": "0d34d699",
   "metadata": {
    "papermill": {
     "duration": 0.057422,
     "end_time": "2022-02-18T12:55:03.045521",
     "exception": false,
     "start_time": "2022-02-18T12:55:02.988099",
     "status": "completed"
    },
    "tags": []
   },
   "source": [
    "![Upvote!](https://img.shields.io/badge/Upvote-If%20you%20like%20my%20work-07b3c8?style=for-the-badge&logo=kaggle)"
   ]
  }
 ],
 "metadata": {
  "kernelspec": {
   "display_name": "Python 3",
   "language": "python",
   "name": "python3"
  },
  "language_info": {
   "codemirror_mode": {
    "name": "ipython",
    "version": 3
   },
   "file_extension": ".py",
   "mimetype": "text/x-python",
   "name": "python",
   "nbconvert_exporter": "python",
   "pygments_lexer": "ipython3",
   "version": "3.7.11"
  },
  "papermill": {
   "default_parameters": {},
   "duration": 90.208593,
   "end_time": "2022-02-18T12:55:04.715856",
   "environment_variables": {},
   "exception": null,
   "input_path": "__notebook__.ipynb",
   "output_path": "__notebook__.ipynb",
   "parameters": {},
   "start_time": "2022-02-18T12:53:34.507263",
   "version": "2.3.3"
  },
  "toc": {
   "base_numbering": 1,
   "nav_menu": {},
   "number_sections": true,
   "sideBar": true,
   "skip_h1_title": false,
   "title_cell": "Table of Contents",
   "title_sidebar": "Contents",
   "toc_cell": false,
   "toc_position": {},
   "toc_section_display": true,
   "toc_window_display": false
  },
  "widgets": {
   "application/vnd.jupyter.widget-state+json": {
    "state": {
     "1be11b34fe124f34971ae86b65d074c8": {
      "model_module": "@jupyter-widgets/controls",
      "model_module_version": "1.5.0",
      "model_name": "ProgressStyleModel",
      "state": {
       "_model_module": "@jupyter-widgets/controls",
       "_model_module_version": "1.5.0",
       "_model_name": "ProgressStyleModel",
       "_view_count": null,
       "_view_module": "@jupyter-widgets/base",
       "_view_module_version": "1.2.0",
       "_view_name": "StyleView",
       "bar_color": null,
       "description_width": ""
      }
     },
     "4d700d635a674b20915975c953301c33": {
      "model_module": "@jupyter-widgets/controls",
      "model_module_version": "1.5.0",
      "model_name": "DescriptionStyleModel",
      "state": {
       "_model_module": "@jupyter-widgets/controls",
       "_model_module_version": "1.5.0",
       "_model_name": "DescriptionStyleModel",
       "_view_count": null,
       "_view_module": "@jupyter-widgets/base",
       "_view_module_version": "1.2.0",
       "_view_name": "StyleView",
       "description_width": ""
      }
     },
     "54afebe54716424c871d2e65171a1bfe": {
      "model_module": "@jupyter-widgets/base",
      "model_module_version": "1.2.0",
      "model_name": "LayoutModel",
      "state": {
       "_model_module": "@jupyter-widgets/base",
       "_model_module_version": "1.2.0",
       "_model_name": "LayoutModel",
       "_view_count": null,
       "_view_module": "@jupyter-widgets/base",
       "_view_module_version": "1.2.0",
       "_view_name": "LayoutView",
       "align_content": null,
       "align_items": null,
       "align_self": null,
       "border": null,
       "bottom": null,
       "display": null,
       "flex": null,
       "flex_flow": null,
       "grid_area": null,
       "grid_auto_columns": null,
       "grid_auto_flow": null,
       "grid_auto_rows": null,
       "grid_column": null,
       "grid_gap": null,
       "grid_row": null,
       "grid_template_areas": null,
       "grid_template_columns": null,
       "grid_template_rows": null,
       "height": null,
       "justify_content": null,
       "justify_items": null,
       "left": null,
       "margin": null,
       "max_height": null,
       "max_width": null,
       "min_height": null,
       "min_width": null,
       "object_fit": null,
       "object_position": null,
       "order": null,
       "overflow": null,
       "overflow_x": null,
       "overflow_y": null,
       "padding": null,
       "right": null,
       "top": null,
       "visibility": null,
       "width": null
      }
     },
     "6035c2f2542649fbb2af7c70da650262": {
      "model_module": "@jupyter-widgets/controls",
      "model_module_version": "1.5.0",
      "model_name": "FloatProgressModel",
      "state": {
       "_dom_classes": [],
       "_model_module": "@jupyter-widgets/controls",
       "_model_module_version": "1.5.0",
       "_model_name": "FloatProgressModel",
       "_view_count": null,
       "_view_module": "@jupyter-widgets/controls",
       "_view_module_version": "1.5.0",
       "_view_name": "ProgressView",
       "bar_style": "",
       "description": "",
       "description_tooltip": null,
       "layout": "IPY_MODEL_8a7504d3141b49119a53b96e5d14a0c9",
       "max": 1,
       "min": 0,
       "orientation": "horizontal",
       "style": "IPY_MODEL_1be11b34fe124f34971ae86b65d074c8",
       "value": 1
      }
     },
     "8a7504d3141b49119a53b96e5d14a0c9": {
      "model_module": "@jupyter-widgets/base",
      "model_module_version": "1.2.0",
      "model_name": "LayoutModel",
      "state": {
       "_model_module": "@jupyter-widgets/base",
       "_model_module_version": "1.2.0",
       "_model_name": "LayoutModel",
       "_view_count": null,
       "_view_module": "@jupyter-widgets/base",
       "_view_module_version": "1.2.0",
       "_view_name": "LayoutView",
       "align_content": null,
       "align_items": null,
       "align_self": null,
       "border": null,
       "bottom": null,
       "display": null,
       "flex": null,
       "flex_flow": null,
       "grid_area": null,
       "grid_auto_columns": null,
       "grid_auto_flow": null,
       "grid_auto_rows": null,
       "grid_column": null,
       "grid_gap": null,
       "grid_row": null,
       "grid_template_areas": null,
       "grid_template_columns": null,
       "grid_template_rows": null,
       "height": null,
       "justify_content": null,
       "justify_items": null,
       "left": null,
       "margin": null,
       "max_height": null,
       "max_width": null,
       "min_height": null,
       "min_width": null,
       "object_fit": null,
       "object_position": null,
       "order": null,
       "overflow": null,
       "overflow_x": null,
       "overflow_y": null,
       "padding": null,
       "right": null,
       "top": null,
       "visibility": null,
       "width": null
      }
     },
     "932eea59ed634380917953effd4425fc": {
      "model_module": "@jupyter-widgets/base",
      "model_module_version": "1.2.0",
      "model_name": "LayoutModel",
      "state": {
       "_model_module": "@jupyter-widgets/base",
       "_model_module_version": "1.2.0",
       "_model_name": "LayoutModel",
       "_view_count": null,
       "_view_module": "@jupyter-widgets/base",
       "_view_module_version": "1.2.0",
       "_view_name": "LayoutView",
       "align_content": null,
       "align_items": null,
       "align_self": null,
       "border": null,
       "bottom": null,
       "display": null,
       "flex": null,
       "flex_flow": null,
       "grid_area": null,
       "grid_auto_columns": null,
       "grid_auto_flow": null,
       "grid_auto_rows": null,
       "grid_column": null,
       "grid_gap": null,
       "grid_row": null,
       "grid_template_areas": null,
       "grid_template_columns": null,
       "grid_template_rows": null,
       "height": null,
       "justify_content": null,
       "justify_items": null,
       "left": null,
       "margin": null,
       "max_height": null,
       "max_width": null,
       "min_height": null,
       "min_width": null,
       "object_fit": null,
       "object_position": null,
       "order": null,
       "overflow": null,
       "overflow_x": null,
       "overflow_y": null,
       "padding": null,
       "right": null,
       "top": null,
       "visibility": null,
       "width": null
      }
     },
     "c73db22868e341e5bcca74f23c5bfb8a": {
      "model_module": "@jupyter-widgets/controls",
      "model_module_version": "1.5.0",
      "model_name": "VBoxModel",
      "state": {
       "_dom_classes": [],
       "_model_module": "@jupyter-widgets/controls",
       "_model_module_version": "1.5.0",
       "_model_name": "VBoxModel",
       "_view_count": null,
       "_view_module": "@jupyter-widgets/controls",
       "_view_module_version": "1.5.0",
       "_view_name": "VBoxView",
       "box_style": "",
       "children": [
        "IPY_MODEL_e3fa19454a4c4cc7b6f329b6529a78f6",
        "IPY_MODEL_6035c2f2542649fbb2af7c70da650262"
       ],
       "layout": "IPY_MODEL_54afebe54716424c871d2e65171a1bfe"
      }
     },
     "e3fa19454a4c4cc7b6f329b6529a78f6": {
      "model_module": "@jupyter-widgets/controls",
      "model_module_version": "1.5.0",
      "model_name": "LabelModel",
      "state": {
       "_dom_classes": [],
       "_model_module": "@jupyter-widgets/controls",
       "_model_module_version": "1.5.0",
       "_model_name": "LabelModel",
       "_view_count": null,
       "_view_module": "@jupyter-widgets/controls",
       "_view_module_version": "1.5.0",
       "_view_name": "LabelView",
       "description": "",
       "description_tooltip": null,
       "layout": "IPY_MODEL_932eea59ed634380917953effd4425fc",
       "placeholder": "​",
       "style": "IPY_MODEL_4d700d635a674b20915975c953301c33",
       "value": " 0.02MB of 0.02MB uploaded (0.00MB deduped)\r"
      }
     }
    },
    "version_major": 2,
    "version_minor": 0
   }
  }
 },
 "nbformat": 4,
 "nbformat_minor": 5
}
