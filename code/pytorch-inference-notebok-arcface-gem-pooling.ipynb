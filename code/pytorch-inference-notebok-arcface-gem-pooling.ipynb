{
 "cells": [
  {
   "cell_type": "markdown",
   "id": "5ecf0271",
   "metadata": {
    "papermill": {
     "duration": 0.020961,
     "end_time": "2022-02-19T12:37:44.464562",
     "exception": false,
     "start_time": "2022-02-19T12:37:44.443601",
     "status": "completed"
    },
    "tags": []
   },
   "source": [
    "Next steps:\n",
    "* Calculate threhold based on OOF predictions, \n",
    "* Make a system for prediction from all training folds, \n",
    "* Including TTA in the predictions"
   ]
  },
  {
   "cell_type": "code",
   "execution_count": 1,
   "id": "0f2c0415",
   "metadata": {
    "ExecuteTime": {
     "end_time": "2022-02-20T06:50:29.953889Z",
     "start_time": "2022-02-20T06:50:27.494266Z"
    },
    "_kg_hide-input": true,
    "execution": {
     "iopub.execute_input": "2022-02-19T12:37:44.528253Z",
     "iopub.status.busy": "2022-02-19T12:37:44.526670Z",
     "iopub.status.idle": "2022-02-19T12:37:50.036655Z",
     "shell.execute_reply": "2022-02-19T12:37:50.035934Z",
     "shell.execute_reply.started": "2022-02-17T17:03:30.537796Z"
    },
    "papermill": {
     "duration": 5.550548,
     "end_time": "2022-02-19T12:37:50.036800",
     "exception": false,
     "start_time": "2022-02-19T12:37:44.486252",
     "status": "completed"
    },
    "tags": []
   },
   "outputs": [],
   "source": [
    "import pickle\n",
    "import os\n",
    "import gc\n",
    "import cv2\n",
    "import math\n",
    "import copy\n",
    "import time\n",
    "import random\n",
    "import numpy as np\n",
    "import pandas as pd\n",
    "import torch\n",
    "import torch.nn as nn\n",
    "import torch.optim as optim\n",
    "import torch.nn.functional as F\n",
    "from torch.optim import lr_scheduler\n",
    "from torch.utils.data import Dataset, DataLoader\n",
    "from torch.cuda import amp\n",
    "import joblib\n",
    "from tqdm import tqdm\n",
    "from collections import defaultdict\n",
    "from sklearn.preprocessing import LabelEncoder\n",
    "from sklearn.model_selection import StratifiedKFold\n",
    "import albumentations as A\n",
    "from albumentations.pytorch import ToTensorV2\n",
    "import warnings\n",
    "warnings.filterwarnings(\"ignore\")\n",
    "# import sys\n",
    "# sys.path.append(\"../input/timm-pytorch-image-models\")\n",
    "import timm\n",
    "import seaborn as sns"
   ]
  },
  {
   "cell_type": "code",
   "execution_count": 2,
   "id": "47fd28b1",
   "metadata": {
    "ExecuteTime": {
     "end_time": "2022-02-20T06:50:30.019295Z",
     "start_time": "2022-02-20T06:50:29.954762Z"
    },
    "execution": {
     "iopub.execute_input": "2022-02-19T12:37:50.127834Z",
     "iopub.status.busy": "2022-02-19T12:37:50.127127Z",
     "iopub.status.idle": "2022-02-19T12:37:50.130545Z",
     "shell.execute_reply": "2022-02-19T12:37:50.130110Z",
     "shell.execute_reply.started": "2022-02-17T17:03:30.630728Z"
    },
    "papermill": {
     "duration": 0.070515,
     "end_time": "2022-02-19T12:37:50.130665",
     "exception": false,
     "start_time": "2022-02-19T12:37:50.060150",
     "status": "completed"
    },
    "tags": []
   },
   "outputs": [],
   "source": [
    "CONFIG = {\"seed\": 21, # choose your lucky seed\n",
    "          \"img_size\": 768, # training image size\n",
    "          \"model_name\": \"tf_efficientnet_b0\", # training model arhitecture\n",
    "          \"num_classes\": 15587, # total individuals in training data\n",
    "          \"test_batch_size\": 64, # choose acording to the training arhitecture and image size \n",
    "          \"device\": torch.device(\"cuda:0\" if torch.cuda.is_available() else \"cpu\"), # gpu\n",
    "          \"test_mode\":False, # selects just the first 200 samples from the test data, usefull for debuging purposes\n",
    "          \"threshold\":0.1,\n",
    "          \"neigh\":5\n",
    "          }"
   ]
  },
  {
   "cell_type": "code",
   "execution_count": 3,
   "id": "f9026e51",
   "metadata": {
    "ExecuteTime": {
     "end_time": "2022-02-20T06:50:30.028188Z",
     "start_time": "2022-02-20T06:50:30.020346Z"
    },
    "execution": {
     "iopub.execute_input": "2022-02-19T12:37:50.178251Z",
     "iopub.status.busy": "2022-02-19T12:37:50.177766Z",
     "iopub.status.idle": "2022-02-19T12:37:50.184192Z",
     "shell.execute_reply": "2022-02-19T12:37:50.183282Z",
     "shell.execute_reply.started": "2022-02-17T17:03:30.638557Z"
    },
    "papermill": {
     "duration": 0.032589,
     "end_time": "2022-02-19T12:37:50.184300",
     "exception": false,
     "start_time": "2022-02-19T12:37:50.151711",
     "status": "completed"
    },
    "tags": []
   },
   "outputs": [],
   "source": [
    "def set_seed(seed=42):\n",
    "    '''Sets the seed of the entire notebook so results are the same every time we run.\n",
    "    This is for REPRODUCIBILITY.'''\n",
    "    np.random.seed(seed)\n",
    "    torch.manual_seed(seed)\n",
    "    torch.cuda.manual_seed(seed)\n",
    "    # When running on the CuDNN backend, two further options must be set\n",
    "    torch.backends.cudnn.deterministic = True\n",
    "    torch.backends.cudnn.benchmark = False\n",
    "    # Set a fixed value for the hash seed\n",
    "    os.environ['PYTHONHASHSEED'] = str(seed)\n",
    "    \n",
    "set_seed(CONFIG['seed'])"
   ]
  },
  {
   "cell_type": "code",
   "execution_count": 4,
   "id": "d4c3bc00",
   "metadata": {
    "ExecuteTime": {
     "end_time": "2022-02-20T06:50:30.092708Z",
     "start_time": "2022-02-20T06:50:30.029328Z"
    },
    "execution": {
     "iopub.execute_input": "2022-02-19T12:37:50.235354Z",
     "iopub.status.busy": "2022-02-19T12:37:50.234746Z",
     "iopub.status.idle": "2022-02-19T12:37:50.394225Z",
     "shell.execute_reply": "2022-02-19T12:37:50.393189Z",
     "shell.execute_reply.started": "2022-02-17T17:03:30.650166Z"
    },
    "papermill": {
     "duration": 0.187268,
     "end_time": "2022-02-19T12:37:50.394355",
     "exception": false,
     "start_time": "2022-02-19T12:37:50.207087",
     "status": "completed"
    },
    "tags": []
   },
   "outputs": [],
   "source": [
    "def get_test_file_path(id):\n",
    "    return f\"{TEST_DIR}/{id}\"\n",
    "\n",
    "def get_train_file_path(id):\n",
    "    return f\"{TRAIN_DIR}/{id}\"\n",
    "\n",
    "ROOT_DIR = '../data/happy-whale-and-dolphin/'\n",
    "TEST_DIR = '../data/happy-whale-and-dolphin/test_images'\n",
    "TRAIN_DIR = '../data/happy-whale-and-dolphin/train_images'\n",
    "weights_path = \"./Loss14.8786_epoch33.pth\"\n",
    "\n",
    "if CONFIG[\"test_mode\"]==True:\n",
    "    df_test = pd.read_csv(f\"{ROOT_DIR}/sample_submission.csv\")[:200]\n",
    "    df_train = pd.read_csv(f\"{ROOT_DIR}/train.csv\")[:200]\n",
    "else:\n",
    "    df_test = pd.read_csv(f\"{ROOT_DIR}/sample_submission.csv\")\n",
    "    df_train = pd.read_csv(f\"{ROOT_DIR}/train.csv\")  \n",
    "\n",
    "\n",
    "df_test['file_path'] = df_test['image'].apply(get_test_file_path)\n",
    "df_train['file_path'] = df_train['image'].apply(get_train_file_path)"
   ]
  },
  {
   "cell_type": "code",
   "execution_count": 5,
   "id": "8c9affde",
   "metadata": {
    "ExecuteTime": {
     "end_time": "2022-02-20T06:50:30.095856Z",
     "start_time": "2022-02-20T06:50:30.093452Z"
    },
    "execution": {
     "iopub.execute_input": "2022-02-19T12:37:50.444732Z",
     "iopub.status.busy": "2022-02-19T12:37:50.443159Z",
     "iopub.status.idle": "2022-02-19T12:37:50.445301Z",
     "shell.execute_reply": "2022-02-19T12:37:50.445752Z",
     "shell.execute_reply.started": "2022-02-17T17:03:30.752344Z"
    },
    "papermill": {
     "duration": 0.029753,
     "end_time": "2022-02-19T12:37:50.445883",
     "exception": false,
     "start_time": "2022-02-19T12:37:50.416130",
     "status": "completed"
    },
    "tags": []
   },
   "outputs": [],
   "source": [
    "class HappyWhaleDataset(Dataset):\n",
    "    def __init__(self, df, transforms=None):\n",
    "        self.df = df\n",
    "        self.file_names = df['file_path'].values\n",
    "        self.transforms = transforms\n",
    "        \n",
    "    def __len__(self):\n",
    "        return len(self.df)\n",
    "    \n",
    "    def __getitem__(self, index):\n",
    "        img_path = self.file_names[index]\n",
    "        img = cv2.imread(img_path)\n",
    "        img = cv2.cvtColor(img, cv2.COLOR_BGR2RGB)\n",
    "\n",
    "        \n",
    "        if self.transforms:\n",
    "            img = self.transforms(image=img)[\"image\"]\n",
    "            \n",
    "        return {\n",
    "            'image': img\n",
    "        }"
   ]
  },
  {
   "cell_type": "code",
   "execution_count": 6,
   "id": "5158f246",
   "metadata": {
    "ExecuteTime": {
     "end_time": "2022-02-20T06:50:30.100365Z",
     "start_time": "2022-02-20T06:50:30.096441Z"
    },
    "execution": {
     "iopub.execute_input": "2022-02-19T12:37:50.495928Z",
     "iopub.status.busy": "2022-02-19T12:37:50.495221Z",
     "iopub.status.idle": "2022-02-19T12:37:50.499226Z",
     "shell.execute_reply": "2022-02-19T12:37:50.498828Z",
     "shell.execute_reply.started": "2022-02-17T17:03:30.762085Z"
    },
    "papermill": {
     "duration": 0.032541,
     "end_time": "2022-02-19T12:37:50.499331",
     "exception": false,
     "start_time": "2022-02-19T12:37:50.466790",
     "status": "completed"
    },
    "tags": []
   },
   "outputs": [],
   "source": [
    "class GeM(nn.Module):\n",
    "    def __init__(self, p=3, eps=1e-6):\n",
    "        super(GeM, self).__init__()\n",
    "        self.p = nn.Parameter(torch.ones(1)*p)\n",
    "        self.eps = eps\n",
    "\n",
    "    def forward(self, x):\n",
    "        return self.gem(x, p=self.p, eps=self.eps)\n",
    "        \n",
    "    def gem(self, x, p=3, eps=1e-6):\n",
    "        return F.avg_pool2d(x.clamp(min=eps).pow(p), (x.size(-2), x.size(-1))).pow(1./p)\n",
    "        \n",
    "    def __repr__(self):\n",
    "        return self.__class__.__name__ + \\\n",
    "                '(' + 'p=' + '{:.4f}'.format(self.p.data.tolist()[0]) + \\\n",
    "                ', ' + 'eps=' + str(self.eps) + ')'"
   ]
  },
  {
   "cell_type": "code",
   "execution_count": 7,
   "id": "8a56dcfc",
   "metadata": {
    "ExecuteTime": {
     "end_time": "2022-02-20T06:50:30.107312Z",
     "start_time": "2022-02-20T06:50:30.100957Z"
    },
    "execution": {
     "iopub.execute_input": "2022-02-19T12:37:50.552824Z",
     "iopub.status.busy": "2022-02-19T12:37:50.549124Z",
     "iopub.status.idle": "2022-02-19T12:37:50.554986Z",
     "shell.execute_reply": "2022-02-19T12:37:50.554590Z",
     "shell.execute_reply.started": "2022-02-17T17:03:30.776516Z"
    },
    "papermill": {
     "duration": 0.034919,
     "end_time": "2022-02-19T12:37:50.555090",
     "exception": false,
     "start_time": "2022-02-19T12:37:50.520171",
     "status": "completed"
    },
    "tags": []
   },
   "outputs": [],
   "source": [
    "class ArcMarginProduct(nn.Module):\n",
    "    r\"\"\"Implement of large margin arc distance: :\n",
    "        Args:\n",
    "            in_features: size of each input sample\n",
    "            out_features: size of each output sample\n",
    "            s: norm of input feature\n",
    "            m: margin\n",
    "            cos(theta + m)\n",
    "        \"\"\"\n",
    "    def __init__(self, in_features, out_features, s=30.0, \n",
    "                 m=0.50, easy_margin=False, ls_eps=0.0):\n",
    "        super(ArcMarginProduct, self).__init__()\n",
    "        self.in_features = in_features\n",
    "        self.out_features = out_features\n",
    "        self.s = s\n",
    "        self.m = m\n",
    "        self.ls_eps = ls_eps  # label smoothing\n",
    "        self.weight = nn.Parameter(torch.FloatTensor(out_features, in_features))\n",
    "        nn.init.xavier_uniform_(self.weight)\n",
    "\n",
    "        self.easy_margin = easy_margin\n",
    "        self.cos_m = math.cos(m)\n",
    "        self.sin_m = math.sin(m)\n",
    "        self.th = math.cos(math.pi - m)\n",
    "        self.mm = math.sin(math.pi - m) * m\n",
    "\n",
    "    def forward(self, input, label):\n",
    "        # --------------------------- cos(theta) & phi(theta) ---------------------\n",
    "        cosine = F.linear(F.normalize(input), F.normalize(self.weight))\n",
    "        sine = torch.sqrt(1.0 - torch.pow(cosine, 2))\n",
    "        phi = cosine * self.cos_m - sine * self.sin_m\n",
    "        if self.easy_margin:\n",
    "            phi = torch.where(cosine > 0, phi, cosine)\n",
    "        else:\n",
    "            phi = torch.where(cosine > self.th, phi, cosine - self.mm)\n",
    "        # --------------------------- convert label to one-hot ---------------------\n",
    "        # one_hot = torch.zeros(cosine.size(), requires_grad=True, device='cuda')\n",
    "        one_hot = torch.zeros(cosine.size(), device=CONFIG['device'])\n",
    "        one_hot.scatter_(1, label.view(-1, 1).long(), 1)\n",
    "        if self.ls_eps > 0:\n",
    "            one_hot = (1 - self.ls_eps) * one_hot + self.ls_eps / self.out_features\n",
    "        # -------------torch.where(out_i = {x_i if condition_i else y_i) ------------\n",
    "        output = (one_hot * phi) + ((1.0 - one_hot) * cosine)\n",
    "        output *= self.s\n",
    "\n",
    "        return output"
   ]
  },
  {
   "cell_type": "code",
   "execution_count": 8,
   "id": "26fec3aa",
   "metadata": {
    "ExecuteTime": {
     "end_time": "2022-02-20T06:50:30.113650Z",
     "start_time": "2022-02-20T06:50:30.108314Z"
    },
    "execution": {
     "iopub.execute_input": "2022-02-19T12:37:50.604596Z",
     "iopub.status.busy": "2022-02-19T12:37:50.603065Z",
     "iopub.status.idle": "2022-02-19T12:37:50.605237Z",
     "shell.execute_reply": "2022-02-19T12:37:50.605668Z",
     "shell.execute_reply.started": "2022-02-17T17:03:30.795188Z"
    },
    "papermill": {
     "duration": 0.029684,
     "end_time": "2022-02-19T12:37:50.605786",
     "exception": false,
     "start_time": "2022-02-19T12:37:50.576102",
     "status": "completed"
    },
    "tags": []
   },
   "outputs": [],
   "source": [
    "class HappyWhaleModel(nn.Module):\n",
    "    def __init__(self, model_name, pretrained=True):\n",
    "        super(HappyWhaleModel, self).__init__()\n",
    "        self.model = timm.create_model(model_name, pretrained=pretrained)\n",
    "        in_features = self.model.classifier.in_features\n",
    "        self.model.classifier = nn.Identity()\n",
    "        self.model.global_pool = nn.Identity()\n",
    "        self.pooling = GeM()\n",
    "        self.fc = nn.Linear(in_features,512)\n",
    "\n",
    "    def forward(self, images):\n",
    "#        print(\"images: \", images.size())\n",
    "#        print(\"labels: \", labels.size())\n",
    "        features = self.model(images)\n",
    "#        print(\"features: \", features.size())\n",
    "        pooled_features = self.pooling(features).flatten(1)\n",
    "#        print(\"pooled_features: \", pooled_features.size())\n",
    "        output = self.fc(pooled_features)\n",
    "#        print(\"output: \", output.size())\n",
    "        return output"
   ]
  },
  {
   "cell_type": "code",
   "execution_count": 9,
   "id": "1dd1e023",
   "metadata": {
    "ExecuteTime": {
     "end_time": "2022-02-20T06:50:30.119902Z",
     "start_time": "2022-02-20T06:50:30.114279Z"
    },
    "execution": {
     "iopub.execute_input": "2022-02-19T12:37:50.652607Z",
     "iopub.status.busy": "2022-02-19T12:37:50.651885Z",
     "iopub.status.idle": "2022-02-19T12:37:50.654362Z",
     "shell.execute_reply": "2022-02-19T12:37:50.653940Z",
     "shell.execute_reply.started": "2022-02-17T17:03:30.807027Z"
    },
    "papermill": {
     "duration": 0.027905,
     "end_time": "2022-02-19T12:37:50.654520",
     "exception": false,
     "start_time": "2022-02-19T12:37:50.626615",
     "status": "completed"
    },
    "tags": []
   },
   "outputs": [],
   "source": [
    "data_transforms = {\n",
    "    \"test\": A.Compose([\n",
    "        A.Resize(CONFIG['img_size'], CONFIG['img_size']),\n",
    "        A.Normalize(\n",
    "                mean=[0.485, 0.456, 0.406], \n",
    "                std=[0.229, 0.224, 0.225], \n",
    "                max_pixel_value=255.0, \n",
    "                p=1.0\n",
    "            ),\n",
    "        ToTensorV2()], p=1.)\n",
    "    \n",
    "}"
   ]
  },
  {
   "cell_type": "code",
   "execution_count": 10,
   "id": "40b7443c",
   "metadata": {
    "ExecuteTime": {
     "end_time": "2022-02-20T06:50:30.124722Z",
     "start_time": "2022-02-20T06:50:30.120796Z"
    },
    "execution": {
     "iopub.execute_input": "2022-02-19T12:37:50.703107Z",
     "iopub.status.busy": "2022-02-19T12:37:50.701602Z",
     "iopub.status.idle": "2022-02-19T12:37:50.703726Z",
     "shell.execute_reply": "2022-02-19T12:37:50.704124Z",
     "shell.execute_reply.started": "2022-02-17T17:03:30.819336Z"
    },
    "papermill": {
     "duration": 0.028587,
     "end_time": "2022-02-19T12:37:50.704235",
     "exception": false,
     "start_time": "2022-02-19T12:37:50.675648",
     "status": "completed"
    },
    "tags": []
   },
   "outputs": [],
   "source": [
    "def inference(model, dataloader, device):\n",
    "    model.eval()  \n",
    "    outputList=[]\n",
    "    bar = tqdm(enumerate(dataloader), total=len(dataloader))\n",
    "    for step, data in bar:        \n",
    "        with torch.no_grad():\n",
    "            images = data['image'].to(device, dtype=torch.float)\n",
    "            batch_size = images.size(0)\n",
    "            outputs = model(images)\n",
    "            outputList.extend(outputs.cpu().detach().numpy())\n",
    "    return outputList"
   ]
  },
  {
   "cell_type": "code",
   "execution_count": 11,
   "id": "45c217f5",
   "metadata": {
    "ExecuteTime": {
     "end_time": "2022-02-20T06:50:32.763081Z",
     "start_time": "2022-02-20T06:50:30.125660Z"
    },
    "execution": {
     "iopub.execute_input": "2022-02-19T12:37:50.754206Z",
     "iopub.status.busy": "2022-02-19T12:37:50.753701Z",
     "iopub.status.idle": "2022-02-19T12:37:59.238474Z",
     "shell.execute_reply": "2022-02-19T12:37:59.237965Z",
     "shell.execute_reply.started": "2022-02-17T17:03:30.828143Z"
    },
    "papermill": {
     "duration": 8.513201,
     "end_time": "2022-02-19T12:37:59.238617",
     "exception": false,
     "start_time": "2022-02-19T12:37:50.725416",
     "status": "completed"
    },
    "tags": []
   },
   "outputs": [
    {
     "data": {
      "text/plain": [
       "<All keys matched successfully>"
      ]
     },
     "execution_count": 11,
     "metadata": {},
     "output_type": "execute_result"
    }
   ],
   "source": [
    "model = HappyWhaleModel(CONFIG['model_name'])\n",
    "model.to(CONFIG['device']);\n",
    "model.load_state_dict(torch.load(weights_path))"
   ]
  },
  {
   "cell_type": "code",
   "execution_count": 12,
   "id": "511b17ca",
   "metadata": {
    "ExecuteTime": {
     "end_time": "2022-02-20T06:50:32.765882Z",
     "start_time": "2022-02-20T06:50:32.763700Z"
    },
    "execution": {
     "iopub.execute_input": "2022-02-19T12:37:50.754206Z",
     "iopub.status.busy": "2022-02-19T12:37:50.753701Z",
     "iopub.status.idle": "2022-02-19T12:37:59.238474Z",
     "shell.execute_reply": "2022-02-19T12:37:59.237965Z",
     "shell.execute_reply.started": "2022-02-17T17:03:30.828143Z"
    },
    "papermill": {
     "duration": 8.513201,
     "end_time": "2022-02-19T12:37:59.238617",
     "exception": false,
     "start_time": "2022-02-19T12:37:50.725416",
     "status": "completed"
    },
    "tags": []
   },
   "outputs": [],
   "source": [
    "#predict first on train dataset to extract embeddings\n",
    "train_dataset = HappyWhaleDataset(df_train, transforms=data_transforms[\"test\"])\n",
    "train_loader = DataLoader(train_dataset, batch_size=CONFIG['test_batch_size'], \n",
    "                          num_workers=8, shuffle=False, pin_memory=True)\n",
    "\n",
    "test_dataset = HappyWhaleDataset(df_test, transforms=data_transforms[\"test\"])\n",
    "test_loader = DataLoader(test_dataset, batch_size=CONFIG['test_batch_size'], \n",
    "                          num_workers=8, shuffle=False, pin_memory=True)"
   ]
  },
  {
   "cell_type": "code",
   "execution_count": 13,
   "id": "1c9cfa72",
   "metadata": {
    "ExecuteTime": {
     "end_time": "2022-02-20T06:50:32.779313Z",
     "start_time": "2022-02-20T06:50:32.766456Z"
    },
    "execution": {
     "iopub.execute_input": "2022-02-19T12:37:59.289114Z",
     "iopub.status.busy": "2022-02-19T12:37:59.288391Z",
     "iopub.status.idle": "2022-02-19T12:37:59.300452Z",
     "shell.execute_reply": "2022-02-19T12:37:59.300015Z",
     "shell.execute_reply.started": "2022-02-17T17:03:31.290719Z"
    },
    "papermill": {
     "duration": 0.039003,
     "end_time": "2022-02-19T12:37:59.300567",
     "exception": false,
     "start_time": "2022-02-19T12:37:59.261564",
     "status": "completed"
    },
    "tags": []
   },
   "outputs": [
    {
     "data": {
      "text/html": [
       "<div>\n",
       "<style scoped>\n",
       "    .dataframe tbody tr th:only-of-type {\n",
       "        vertical-align: middle;\n",
       "    }\n",
       "\n",
       "    .dataframe tbody tr th {\n",
       "        vertical-align: top;\n",
       "    }\n",
       "\n",
       "    .dataframe thead th {\n",
       "        text-align: right;\n",
       "    }\n",
       "</style>\n",
       "<table border=\"1\" class=\"dataframe\">\n",
       "  <thead>\n",
       "    <tr style=\"text-align: right;\">\n",
       "      <th></th>\n",
       "      <th>image</th>\n",
       "      <th>species</th>\n",
       "      <th>individual_id</th>\n",
       "      <th>file_path</th>\n",
       "    </tr>\n",
       "  </thead>\n",
       "  <tbody>\n",
       "    <tr>\n",
       "      <th>0</th>\n",
       "      <td>00021adfb725ed.jpg</td>\n",
       "      <td>melon_headed_whale</td>\n",
       "      <td>cadddb1636b9</td>\n",
       "      <td>../data/happy-whale-and-dolphin/train_images/0...</td>\n",
       "    </tr>\n",
       "    <tr>\n",
       "      <th>1</th>\n",
       "      <td>000562241d384d.jpg</td>\n",
       "      <td>humpback_whale</td>\n",
       "      <td>1a71fbb72250</td>\n",
       "      <td>../data/happy-whale-and-dolphin/train_images/0...</td>\n",
       "    </tr>\n",
       "    <tr>\n",
       "      <th>2</th>\n",
       "      <td>0007c33415ce37.jpg</td>\n",
       "      <td>false_killer_whale</td>\n",
       "      <td>60008f293a2b</td>\n",
       "      <td>../data/happy-whale-and-dolphin/train_images/0...</td>\n",
       "    </tr>\n",
       "    <tr>\n",
       "      <th>3</th>\n",
       "      <td>0007d9bca26a99.jpg</td>\n",
       "      <td>bottlenose_dolphin</td>\n",
       "      <td>4b00fe572063</td>\n",
       "      <td>../data/happy-whale-and-dolphin/train_images/0...</td>\n",
       "    </tr>\n",
       "    <tr>\n",
       "      <th>4</th>\n",
       "      <td>00087baf5cef7a.jpg</td>\n",
       "      <td>humpback_whale</td>\n",
       "      <td>8e5253662392</td>\n",
       "      <td>../data/happy-whale-and-dolphin/train_images/0...</td>\n",
       "    </tr>\n",
       "  </tbody>\n",
       "</table>\n",
       "</div>"
      ],
      "text/plain": [
       "                image             species individual_id  \\\n",
       "0  00021adfb725ed.jpg  melon_headed_whale  cadddb1636b9   \n",
       "1  000562241d384d.jpg      humpback_whale  1a71fbb72250   \n",
       "2  0007c33415ce37.jpg  false_killer_whale  60008f293a2b   \n",
       "3  0007d9bca26a99.jpg  bottlenose_dolphin  4b00fe572063   \n",
       "4  00087baf5cef7a.jpg      humpback_whale  8e5253662392   \n",
       "\n",
       "                                           file_path  \n",
       "0  ../data/happy-whale-and-dolphin/train_images/0...  \n",
       "1  ../data/happy-whale-and-dolphin/train_images/0...  \n",
       "2  ../data/happy-whale-and-dolphin/train_images/0...  \n",
       "3  ../data/happy-whale-and-dolphin/train_images/0...  \n",
       "4  ../data/happy-whale-and-dolphin/train_images/0...  "
      ]
     },
     "execution_count": 13,
     "metadata": {},
     "output_type": "execute_result"
    }
   ],
   "source": [
    "df_train.head()"
   ]
  },
  {
   "cell_type": "code",
   "execution_count": 14,
   "id": "2eea5240",
   "metadata": {
    "ExecuteTime": {
     "end_time": "2022-02-20T06:58:27.626206Z",
     "start_time": "2022-02-20T06:50:57.193730Z"
    },
    "execution": {
     "iopub.execute_input": "2022-02-19T12:37:59.350403Z",
     "iopub.status.busy": "2022-02-19T12:37:59.349809Z",
     "iopub.status.idle": "2022-02-19T13:42:43.432359Z",
     "shell.execute_reply": "2022-02-19T13:42:43.432818Z",
     "shell.execute_reply.started": "2022-02-17T17:03:31.306903Z"
    },
    "papermill": {
     "duration": 3884.110171,
     "end_time": "2022-02-19T13:42:43.432983",
     "exception": false,
     "start_time": "2022-02-19T12:37:59.322812",
     "status": "completed"
    },
    "tags": []
   },
   "outputs": [
    {
     "name": "stderr",
     "output_type": "stream",
     "text": [
      "100%|██████████| 798/798 [07:30<00:00,  1.77it/s]\n"
     ]
    }
   ],
   "source": [
    "train_predictions = inference(model, train_loader, CONFIG['device'])"
   ]
  },
  {
   "cell_type": "code",
   "execution_count": 15,
   "id": "cdddcf14",
   "metadata": {
    "ExecuteTime": {
     "end_time": "2022-02-20T06:58:27.629169Z",
     "start_time": "2022-02-20T06:58:27.627096Z"
    },
    "execution": {
     "iopub.execute_input": "2022-02-19T13:42:44.473117Z",
     "iopub.status.busy": "2022-02-19T13:42:44.472484Z",
     "iopub.status.idle": "2022-02-19T13:42:44.475220Z",
     "shell.execute_reply": "2022-02-19T13:42:44.475728Z",
     "shell.execute_reply.started": "2022-02-17T17:03:48.383343Z"
    },
    "papermill": {
     "duration": 0.530633,
     "end_time": "2022-02-19T13:42:44.475901",
     "exception": false,
     "start_time": "2022-02-19T13:42:43.945268",
     "status": "completed"
    },
    "tags": []
   },
   "outputs": [],
   "source": [
    "train_labels = df_train['individual_id'].values"
   ]
  },
  {
   "cell_type": "code",
   "execution_count": 16,
   "id": "da429610",
   "metadata": {
    "ExecuteTime": {
     "end_time": "2022-02-20T06:58:27.658226Z",
     "start_time": "2022-02-20T06:58:27.630174Z"
    },
    "execution": {
     "iopub.execute_input": "2022-02-19T13:42:45.525196Z",
     "iopub.status.busy": "2022-02-19T13:42:45.524310Z",
     "iopub.status.idle": "2022-02-19T13:42:45.526313Z",
     "shell.execute_reply": "2022-02-19T13:42:45.526704Z",
     "shell.execute_reply.started": "2022-02-17T17:03:48.391082Z"
    },
    "papermill": {
     "duration": 0.540983,
     "end_time": "2022-02-19T13:42:45.526843",
     "exception": false,
     "start_time": "2022-02-19T13:42:44.985860",
     "status": "completed"
    },
    "tags": []
   },
   "outputs": [],
   "source": [
    "encoder = LabelEncoder()\n",
    "encodedLabels = encoder.fit_transform(train_labels)"
   ]
  },
  {
   "cell_type": "code",
   "execution_count": 17,
   "id": "62eeb75b",
   "metadata": {
    "ExecuteTime": {
     "end_time": "2022-02-20T06:58:27.661345Z",
     "start_time": "2022-02-20T06:58:27.659101Z"
    },
    "execution": {
     "iopub.execute_input": "2022-02-19T13:42:46.572362Z",
     "iopub.status.busy": "2022-02-19T13:42:46.571766Z",
     "iopub.status.idle": "2022-02-19T13:42:46.574452Z",
     "shell.execute_reply": "2022-02-19T13:42:46.574870Z",
     "shell.execute_reply.started": "2022-02-17T17:03:48.400924Z"
    },
    "papermill": {
     "duration": 0.537898,
     "end_time": "2022-02-19T13:42:46.575000",
     "exception": false,
     "start_time": "2022-02-19T13:42:46.037102",
     "status": "completed"
    },
    "tags": []
   },
   "outputs": [
    {
     "data": {
      "text/plain": [
       "51033"
      ]
     },
     "execution_count": 17,
     "metadata": {},
     "output_type": "execute_result"
    }
   ],
   "source": [
    "len(train_predictions)"
   ]
  },
  {
   "cell_type": "code",
   "execution_count": 18,
   "id": "c5afb754",
   "metadata": {
    "ExecuteTime": {
     "end_time": "2022-02-20T06:58:27.732991Z",
     "start_time": "2022-02-20T06:58:27.662013Z"
    },
    "execution": {
     "iopub.execute_input": "2022-02-19T13:42:47.593827Z",
     "iopub.status.busy": "2022-02-19T13:42:47.593043Z",
     "iopub.status.idle": "2022-02-19T13:42:47.785902Z",
     "shell.execute_reply": "2022-02-19T13:42:47.786314Z",
     "shell.execute_reply.started": "2022-02-17T17:03:48.411368Z"
    },
    "papermill": {
     "duration": 0.706472,
     "end_time": "2022-02-19T13:42:47.786485",
     "exception": false,
     "start_time": "2022-02-19T13:42:47.080013",
     "status": "completed"
    },
    "tags": []
   },
   "outputs": [
    {
     "data": {
      "text/plain": [
       "KNeighborsClassifier(metric='cosine')"
      ]
     },
     "execution_count": 18,
     "metadata": {},
     "output_type": "execute_result"
    }
   ],
   "source": [
    "from sklearn.neighbors import KNeighborsClassifier\n",
    "neigh = KNeighborsClassifier(n_neighbors=CONFIG['neigh'],metric='cosine')\n",
    "neigh.fit(train_predictions, encodedLabels)"
   ]
  },
  {
   "cell_type": "code",
   "execution_count": 19,
   "id": "5e21961a",
   "metadata": {
    "ExecuteTime": {
     "end_time": "2022-02-20T07:02:35.493348Z",
     "start_time": "2022-02-20T06:58:27.733618Z"
    },
    "execution": {
     "iopub.execute_input": "2022-02-19T13:42:48.812727Z",
     "iopub.status.busy": "2022-02-19T13:42:48.811824Z",
     "iopub.status.idle": "2022-02-19T14:18:16.677219Z",
     "shell.execute_reply": "2022-02-19T14:18:16.676706Z",
     "shell.execute_reply.started": "2022-02-17T17:03:48.42292Z"
    },
    "papermill": {
     "duration": 2128.38617,
     "end_time": "2022-02-19T14:18:16.677342",
     "exception": false,
     "start_time": "2022-02-19T13:42:48.291172",
     "status": "completed"
    },
    "tags": []
   },
   "outputs": [
    {
     "name": "stderr",
     "output_type": "stream",
     "text": [
      "100%|██████████| 437/437 [04:07<00:00,  1.76it/s]\n"
     ]
    }
   ],
   "source": [
    "test_predictions =  inference(model, test_loader, CONFIG['device'])"
   ]
  },
  {
   "cell_type": "code",
   "execution_count": 20,
   "id": "7aaf0345",
   "metadata": {
    "ExecuteTime": {
     "end_time": "2022-02-20T07:02:51.769968Z",
     "start_time": "2022-02-20T07:02:35.494580Z"
    },
    "execution": {
     "iopub.execute_input": "2022-02-19T14:18:18.237487Z",
     "iopub.status.busy": "2022-02-19T14:18:18.236573Z",
     "iopub.status.idle": "2022-02-19T14:18:57.587973Z",
     "shell.execute_reply": "2022-02-19T14:18:57.587483Z",
     "shell.execute_reply.started": "2022-02-17T17:04:05.378611Z"
    },
    "papermill": {
     "duration": 40.134866,
     "end_time": "2022-02-19T14:18:57.588107",
     "exception": false,
     "start_time": "2022-02-19T14:18:17.453241",
     "status": "completed"
    },
    "tags": []
   },
   "outputs": [],
   "source": [
    "raw_predictions = neigh.predict_proba(test_predictions)"
   ]
  },
  {
   "cell_type": "code",
   "execution_count": 21,
   "id": "0c0d93ac",
   "metadata": {
    "ExecuteTime": {
     "end_time": "2022-02-20T07:02:55.056567Z",
     "start_time": "2022-02-20T07:02:51.770796Z"
    },
    "execution": {
     "iopub.execute_input": "2022-02-19T14:18:59.441845Z",
     "iopub.status.busy": "2022-02-19T14:18:59.441231Z",
     "iopub.status.idle": "2022-02-19T14:19:07.726426Z",
     "shell.execute_reply": "2022-02-19T14:19:07.725995Z",
     "shell.execute_reply.started": "2022-02-17T17:04:05.401693Z"
    },
    "papermill": {
     "duration": 9.313418,
     "end_time": "2022-02-19T14:19:07.726559",
     "exception": false,
     "start_time": "2022-02-19T14:18:58.413141",
     "status": "completed"
    },
    "tags": []
   },
   "outputs": [
    {
     "name": "stdout",
     "output_type": "stream",
     "text": [
      "thres established to 0.0\n"
     ]
    },
    {
     "data": {
      "image/png": "[encoded data removed]",
      "text/plain": [
       "<Figure size 432x288 with 1 Axes>"
      ]
     },
     "metadata": {
      "needs_background": "light"
     },
     "output_type": "display_data"
    }
   ],
   "source": [
    "allPredictionsConfidences = []\n",
    "df = pd.read_csv(f\"{ROOT_DIR}/sample_submission.csv\")\n",
    "for i in range(len(raw_predictions)):\n",
    "    predictTop = raw_predictions[i].argsort()[-5:][::-1]\n",
    "    topValues = [raw_predictions[i][k] for k in predictTop]\n",
    "    allPredictionsConfidences.extend(topValues)\n",
    "sns.histplot(data=allPredictionsConfidences, bins=20)\n",
    "#naive threhold calculated by 5 percentile (we consider than 5% of the data are from unknown individuals)\n",
    "thres = np.percentile(allPredictionsConfidences, 5)\n",
    "print(\"thres established to\",thres)\n",
    "CONFIG['threshold'] = thres"
   ]
  },
  {
   "cell_type": "code",
   "execution_count": 22,
   "id": "00628835",
   "metadata": {
    "ExecuteTime": {
     "end_time": "2022-02-20T07:03:04.246975Z",
     "start_time": "2022-02-20T07:02:55.057582Z"
    },
    "execution": {
     "iopub.execute_input": "2022-02-19T14:19:09.317973Z",
     "iopub.status.busy": "2022-02-19T14:19:09.317347Z",
     "iopub.status.idle": "2022-02-19T14:19:28.987742Z",
     "shell.execute_reply": "2022-02-19T14:19:28.988161Z",
     "shell.execute_reply.started": "2022-02-17T17:04:05.77734Z"
    },
    "papermill": {
     "duration": 20.472984,
     "end_time": "2022-02-19T14:19:28.988305",
     "exception": false,
     "start_time": "2022-02-19T14:19:08.515321",
     "status": "completed"
    },
    "tags": []
   },
   "outputs": [
    {
     "name": "stderr",
     "output_type": "stream",
     "text": [
      "100%|██████████| 27956/27956 [00:00<00:00, 1525995.43it/s]\n"
     ]
    }
   ],
   "source": [
    "predictTopDecoded = {}\n",
    "df = pd.read_csv(f\"{ROOT_DIR}/sample_submission.csv\")\n",
    "for i in range(len(raw_predictions)):\n",
    "    predictTop = raw_predictions[i].argsort()[-5:][::-1]\n",
    "    topValues = [raw_predictions[i][k] for k in predictTop]\n",
    "    if topValues[0] <= CONFIG['threshold']:\n",
    "        tempList=encoder.inverse_transform(predictTop[:4])\n",
    "\n",
    "        tempList=['new_individual',tempList[0],tempList[1],tempList[2],tempList[3]]\n",
    "\n",
    "        predictTopDecoded[df.iloc[i]['image']] = tempList    \n",
    "        \n",
    "    elif topValues[1] <= CONFIG['threshold']:\n",
    "        tempList=encoder.inverse_transform(predictTop[:4])\n",
    "\n",
    "        tempList=[tempList[0],'new_individual',tempList[1],tempList[2],tempList[3]]\n",
    "\n",
    "        predictTopDecoded[df.iloc[i]['image']] = tempList\n",
    "        \n",
    "    elif topValues[2] <= CONFIG['threshold']:\n",
    "        tempList=encoder.inverse_transform(predictTop[:4])\n",
    "\n",
    "        tempList=[tempList[0],tempList[1],'new_individual',tempList[2],tempList[3]]\n",
    "\n",
    "        predictTopDecoded[df.iloc[i]['image']] = tempList\n",
    "        \n",
    "    elif topValues[3] <= CONFIG['threshold']:\n",
    "        tempList=encoder.inverse_transform(predictTop[:4])\n",
    "\n",
    "        tempList=[tempList[0],tempList[1],tempList[2],'new_individual',tempList[3]]\n",
    "\n",
    "        predictTopDecoded[df.iloc[i]['image']] = tempList \n",
    "        \n",
    "    elif topValues[4] <= CONFIG['threshold']:\n",
    "        tempList=encoder.inverse_transform(predictTop[:4])\n",
    "\n",
    "        tempList=[tempList[0],tempList[1],tempList[2],tempList[3],'new_individual']\n",
    "\n",
    "        predictTopDecoded[df.iloc[i]['image']] = tempList       \n",
    "        \n",
    "    else:\n",
    "        predictTopDecoded[df.iloc[i]['image']] = encoder.inverse_transform(predictTop)\n",
    "    \n",
    "        \n",
    "for x in tqdm(predictTopDecoded):\n",
    "    predictTopDecoded[x] = ' '.join(predictTopDecoded[x])"
   ]
  },
  {
   "cell_type": "code",
   "execution_count": 23,
   "id": "eb840646",
   "metadata": {
    "ExecuteTime": {
     "end_time": "2022-02-20T07:03:04.300740Z",
     "start_time": "2022-02-20T07:03:04.247758Z"
    },
    "execution": {
     "iopub.execute_input": "2022-02-19T14:19:30.562838Z",
     "iopub.status.busy": "2022-02-19T14:19:30.560993Z",
     "iopub.status.idle": "2022-02-19T14:19:30.685153Z",
     "shell.execute_reply": "2022-02-19T14:19:30.685566Z",
     "shell.execute_reply.started": "2022-02-17T17:04:05.859609Z"
    },
    "papermill": {
     "duration": 0.915582,
     "end_time": "2022-02-19T14:19:30.685721",
     "exception": false,
     "start_time": "2022-02-19T14:19:29.770139",
     "status": "completed"
    },
    "tags": []
   },
   "outputs": [
    {
     "data": {
      "text/html": [
       "<div>\n",
       "<style scoped>\n",
       "    .dataframe tbody tr th:only-of-type {\n",
       "        vertical-align: middle;\n",
       "    }\n",
       "\n",
       "    .dataframe tbody tr th {\n",
       "        vertical-align: top;\n",
       "    }\n",
       "\n",
       "    .dataframe thead th {\n",
       "        text-align: right;\n",
       "    }\n",
       "</style>\n",
       "<table border=\"1\" class=\"dataframe\">\n",
       "  <thead>\n",
       "    <tr style=\"text-align: right;\">\n",
       "      <th></th>\n",
       "      <th>image</th>\n",
       "      <th>predictions</th>\n",
       "    </tr>\n",
       "  </thead>\n",
       "  <tbody>\n",
       "    <tr>\n",
       "      <th>0</th>\n",
       "      <td>000110707af0ba.jpg</td>\n",
       "      <td>fbe2b15b5481 398bc836ee35 c4deab707116 new_ind...</td>\n",
       "    </tr>\n",
       "    <tr>\n",
       "      <th>1</th>\n",
       "      <td>0006287ec424cb.jpg</td>\n",
       "      <td>8f67f9930eb6 b2e5eac3bfba 13bfe4e2583b d842ff8...</td>\n",
       "    </tr>\n",
       "    <tr>\n",
       "      <th>2</th>\n",
       "      <td>000809ecb2ccad.jpg</td>\n",
       "      <td>44ba380d5bfa c80653b9edd0 cb0fed574200 263b0ea...</td>\n",
       "    </tr>\n",
       "    <tr>\n",
       "      <th>3</th>\n",
       "      <td>00098d1376dab2.jpg</td>\n",
       "      <td>6ad3713dda3a new_individual ffff6255f559 5560c...</td>\n",
       "    </tr>\n",
       "    <tr>\n",
       "      <th>4</th>\n",
       "      <td>000b8d89c738bd.jpg</td>\n",
       "      <td>ef2bf7f7553d 77b058712faf aabd3432117a 079981f...</td>\n",
       "    </tr>\n",
       "  </tbody>\n",
       "</table>\n",
       "</div>"
      ],
      "text/plain": [
       "                image                                        predictions\n",
       "0  000110707af0ba.jpg  fbe2b15b5481 398bc836ee35 c4deab707116 new_ind...\n",
       "1  0006287ec424cb.jpg  8f67f9930eb6 b2e5eac3bfba 13bfe4e2583b d842ff8...\n",
       "2  000809ecb2ccad.jpg  44ba380d5bfa c80653b9edd0 cb0fed574200 263b0ea...\n",
       "3  00098d1376dab2.jpg  6ad3713dda3a new_individual ffff6255f559 5560c...\n",
       "4  000b8d89c738bd.jpg  ef2bf7f7553d 77b058712faf aabd3432117a 079981f..."
      ]
     },
     "execution_count": 23,
     "metadata": {},
     "output_type": "execute_result"
    }
   ],
   "source": [
    "predictions = pd.Series(predictTopDecoded).reset_index()\n",
    "predictions.columns = ['image','predictions']\n",
    "predictions.to_csv('submission.csv',index=False)\n",
    "predictions.head()"
   ]
  },
  {
   "cell_type": "code",
   "execution_count": null,
   "id": "f8f8e37c",
   "metadata": {
    "papermill": {
     "duration": 0.901185,
     "end_time": "2022-02-19T14:19:32.529876",
     "exception": false,
     "start_time": "2022-02-19T14:19:31.628691",
     "status": "completed"
    },
    "tags": []
   },
   "outputs": [],
   "source": []
  }
 ],
 "metadata": {
  "kernelspec": {
   "display_name": "Python 3",
   "language": "python",
   "name": "python3"
  },
  "language_info": {
   "codemirror_mode": {
    "name": "ipython",
    "version": 3
   },
   "file_extension": ".py",
   "mimetype": "text/x-python",
   "name": "python",
   "nbconvert_exporter": "python",
   "pygments_lexer": "ipython3",
   "version": "3.7.11"
  },
  "papermill": {
   "default_parameters": {},
   "duration": 6119.855153,
   "end_time": "2022-02-19T14:19:36.240302",
   "environment_variables": {},
   "exception": null,
   "input_path": "__notebook__.ipynb",
   "output_path": "__notebook__.ipynb",
   "parameters": {},
   "start_time": "2022-02-19T12:37:36.385149",
   "version": "2.3.3"
  },
  "toc": {
   "base_numbering": 1,
   "nav_menu": {},
   "number_sections": true,
   "sideBar": true,
   "skip_h1_title": false,
   "title_cell": "Table of Contents",
   "title_sidebar": "Contents",
   "toc_cell": false,
   "toc_position": {},
   "toc_section_display": true,
   "toc_window_display": false
  }
 },
 "nbformat": 4,
 "nbformat_minor": 5
}
