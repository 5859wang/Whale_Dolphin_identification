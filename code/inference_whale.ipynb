{
 "cells": [
  {
   "cell_type": "code",
   "execution_count": 10,
   "id": "9251ff47",
   "metadata": {
    "ExecuteTime": {
     "end_time": "2022-02-18T07:19:34.114419Z",
     "start_time": "2022-02-18T07:19:34.102345Z"
    }
   },
   "outputs": [],
   "source": [
    "import sys\n",
    "sys.path.append('./Humpback-Whale-Identification-1st/')\n",
    "import pandas as pd\n",
    "import numpy as np\n",
    "import os\n",
    "import torch\n",
    "from tqdm import tqdm\n",
    "from models import *\n",
    "from dataSet import *\n",
    "import os\n",
    "import albumentations as A\n",
    "from albumentations.pytorch import ToTensorV2\n",
    "import shutil\n",
    "os.environ['CUDA_VISIBLE_DEVICES'] = '0'\n",
    "num_TTA = 2\n",
    "import joblib\n",
    "encoder = joblib.load('./le.pkl')"
   ]
  },
  {
   "cell_type": "code",
   "execution_count": null,
   "id": "e47db7ff",
   "metadata": {},
   "outputs": [],
   "source": [
    "checkPoint_start = 0\n",
    "fold_index = 1\n",
    "model_name = 'senet154'"
   ]
  },
  {
   "cell_type": "code",
   "execution_count": 3,
   "id": "6718b96a",
   "metadata": {
    "ExecuteTime": {
     "end_time": "2022-02-18T07:14:30.375084Z",
     "start_time": "2022-02-18T07:14:30.360632Z"
    }
   },
   "outputs": [],
   "source": [
    "names_test = os.listdir('../data/test_images-128-128')\n",
    "batch_size = 16"
   ]
  },
  {
   "cell_type": "code",
   "execution_count": 8,
   "id": "9b940550",
   "metadata": {
    "ExecuteTime": {
     "end_time": "2022-02-18T07:19:15.311864Z",
     "start_time": "2022-02-18T07:19:15.272743Z"
    }
   },
   "outputs": [],
   "source": [
    "CONFIG = {\"seed\": 2022,\n",
    "          \"epochs\": 3,\n",
    "          \"img_size\": 128,\n",
    "          \"model_name\": \"tf_efficientnet_b0\",\n",
    "          \"num_classes\": 15587,\n",
    "          \"train_batch_size\": 64,\n",
    "          \"valid_batch_size\": 128,\n",
    "          \"learning_rate\": 1e-4,\n",
    "          \"scheduler\": 'CosineAnnealingLR',\n",
    "          \"min_lr\": 1e-6,\n",
    "          \"T_max\": 500,\n",
    "          \"weight_decay\": 1e-6,\n",
    "          \"n_fold\": 5,\n",
    "          \"n_accumulate\": 1,\n",
    "          \"device\": torch.device(\"cuda:0\" if torch.cuda.is_available() else \"cpu\"),\n",
    "          # ArcFace Hyperparameters\n",
    "          \"s\": 30.0, \n",
    "          \"m\": 0.50,\n",
    "          \"ls_eps\": 0.0,\n",
    "          \"easy_margin\": False\n",
    "          }"
   ]
  },
  {
   "cell_type": "code",
   "execution_count": 16,
   "id": "959ebc80",
   "metadata": {
    "ExecuteTime": {
     "end_time": "2022-02-18T07:22:34.208144Z",
     "start_time": "2022-02-18T07:22:34.200793Z"
    }
   },
   "outputs": [],
   "source": [
    "data_transforms = {\n",
    "    \"train\": A.Compose([\n",
    "        A.Resize(CONFIG['img_size'], CONFIG['img_size']),\n",
    "        A.HorizontalFlip(p=0.5),\n",
    "        A.VerticalFlip(p=0.5),\n",
    "        A.Rotate(limit=30, p=0.5),\n",
    "        A.Normalize(\n",
    "                mean=[0.485, 0.456, 0.406], \n",
    "                std=[0.229, 0.224, 0.225], \n",
    "                max_pixel_value=255.0, \n",
    "                p=1.0\n",
    "            ),\n",
    "        ToTensorV2()], p=1.),\n",
    "    \n",
    "    \"valid\": A.Compose([\n",
    "        A.Resize(CONFIG['img_size'], CONFIG['img_size']),\n",
    "        A.Normalize(\n",
    "                mean=[0.485, 0.456, 0.406], \n",
    "                std=[0.229, 0.224, 0.225], \n",
    "                max_pixel_value=255.0, \n",
    "                p=1.0\n",
    "            ),\n",
    "        ToTensorV2()], p=1.)\n",
    "}\n",
    "class HappyWhaleDataset(Dataset):\n",
    "    def __init__(self, df, transforms=None):\n",
    "        self.df = df\n",
    "        self.file_names = df['image'].values\n",
    "#         self.labels = df['individual_id_map'].values\n",
    "        self.transforms = transforms\n",
    "        \n",
    "    def __len__(self):\n",
    "        return len(self.df)\n",
    "    \n",
    "    def __getitem__(self, index):\n",
    "        img_path = '../data/test_images-128-128/'+ self.file_names[index]\n",
    "        img = cv2.imread(img_path)\n",
    "        img = cv2.cvtColor(img, cv2.COLOR_BGR2RGB)\n",
    "#         label = self.labels[index]\n",
    "        \n",
    "        if self.transforms:\n",
    "            img = self.transforms(image=img)[\"image\"]\n",
    "            \n",
    "        return {\n",
    "            'image': img,\n",
    "        }"
   ]
  },
  {
   "cell_type": "code",
   "execution_count": 123,
   "id": "416f832c",
   "metadata": {
    "ExecuteTime": {
     "end_time": "2022-02-18T08:14:35.773300Z",
     "start_time": "2022-02-18T08:14:35.742963Z"
    }
   },
   "outputs": [],
   "source": [
    "df_test = pd.read_csv('../data/sample_submission.csv')"
   ]
  },
  {
   "cell_type": "code",
   "execution_count": 21,
   "id": "85a264ad",
   "metadata": {
    "ExecuteTime": {
     "end_time": "2022-02-18T07:24:37.022700Z",
     "start_time": "2022-02-18T07:24:37.019307Z"
    }
   },
   "outputs": [],
   "source": [
    "def train_collate(batch):\n",
    "\n",
    "    batch_size = len(batch)\n",
    "    images = [\n",
    "    ]\n",
    "    names = []\n",
    "    for b in range(batch_size):\n",
    "        if batch[b][0] is None:\n",
    "            continue\n",
    "        else:\n",
    "            images.extend(batch[b][0])\n",
    "    images = torch.stack(images, 0)\n",
    "    return images"
   ]
  },
  {
   "cell_type": "code",
   "execution_count": 29,
   "id": "29b5d687",
   "metadata": {
    "ExecuteTime": {
     "end_time": "2022-02-18T07:29:33.699168Z",
     "start_time": "2022-02-18T07:29:33.697097Z"
    }
   },
   "outputs": [],
   "source": [
    "test_dataset = HappyWhaleDataset(df_test, transforms=data_transforms[\"valid\"])\n",
    "dataloader_test = DataLoader(test_dataset, batch_size=batch_size, num_workers=8,%%shuffle=False, pin_memory=True)"
   ]
  },
  {
   "cell_type": "code",
   "execution_count": 23,
   "id": "5c177b4b",
   "metadata": {
    "ExecuteTime": {
     "end_time": "2022-02-18T07:25:30.325247Z",
     "start_time": "2022-02-18T07:25:25.890449Z"
    }
   },
   "outputs": [],
   "source": [
    "num_classes = 15587\n",
    "model = model_whale(num_classes=num_classes, inchannels=3, model_name='senet154').cuda()\n",
    "\n",
    "model.load_state_dict(torch.load(\"./weight/model_3.pth\"))"
   ]
  },
  {
   "cell_type": "code",
   "execution_count": 116,
   "id": "bf8a5ec8",
   "metadata": {
    "ExecuteTime": {
     "end_time": "2022-02-18T08:13:15.641893Z",
     "start_time": "2022-02-18T08:09:29.364170Z"
    }
   },
   "outputs": [
    {
     "name": "stderr",
     "output_type": "stream",
     "text": [
      "100%|██████████| 1748/1748 [03:46<00:00,  7.73it/s]  \n"
     ]
    }
   ],
   "source": [
    "with torch.no_grad():\n",
    "    labelstrs = []\n",
    "    model.eval()\n",
    "    for data in tqdm(dataloader_test):\n",
    "        images = data['image']\n",
    "        images = images.cuda()\n",
    "        _, _, outs = model(images)\n",
    "        outs = torch.sigmoid(outs)\n",
    "        \n",
    "\n",
    "        \n",
    "        for out in outs:\n",
    "            out = torch.cat([out, torch.ones(1).cuda()*0.5], 0)\n",
    "            out = out.data.cpu().numpy()\n",
    "#             np.save(os.path.join(npy_dir, '{}.npy'.format(name)), out)\n",
    "            top5_po = sorted(out)[-5:][::-1]\n",
    "            top5 = out.argsort()[-5:][::-1]\n",
    "            insert_idx = np.where(np.array(top5_po[:]) > 0.532)\n",
    "            result_list = encoder.inverse_transform(top5).tolist()\n",
    "            if len(insert_idx[0]) == 0:\n",
    "                result_list.insert(0,'new_individual')\n",
    "            else:\n",
    "                result_list.insert(insert_idx[0][-1]+1, 'new_individual')\n",
    "            str_top5 = ''\n",
    "            labelstrs.append(' '.join(result_list[:-1]))\n",
    "            \n",
    "        \n",
    "#             for t in top5:\n",
    "#                 str_top5 += '{} '.format(id_label[t])\n",
    "#             str_top5 = str_top5[:-1]\n",
    "#             allnames.append(name)\n",
    "#             labelstrs.append(str_top5)"
   ]
  },
  {
   "cell_type": "code",
   "execution_count": 132,
   "id": "061c548d",
   "metadata": {
    "ExecuteTime": {
     "end_time": "2022-02-18T08:17:00.013906Z",
     "start_time": "2022-02-18T08:17:00.002947Z"
    }
   },
   "outputs": [],
   "source": [
    "df_test['predictions'] = labelstrs"
   ]
  },
  {
   "cell_type": "code",
   "execution_count": null,
   "id": "ac66b56b",
   "metadata": {},
   "outputs": [],
   "source": []
  }
 ],
 "metadata": {
  "kernelspec": {
   "display_name": "new_env",
   "language": "python",
   "name": "new_env"
  },
  "language_info": {
   "codemirror_mode": {
    "name": "ipython",
    "version": 3
   },
   "file_extension": ".py",
   "mimetype": "text/x-python",
   "name": "python",
   "nbconvert_exporter": "python",
   "pygments_lexer": "ipython3",
   "version": "3.7.11"
  },
  "toc": {
   "base_numbering": 1,
   "nav_menu": {},
   "number_sections": true,
   "sideBar": true,
   "skip_h1_title": false,
   "title_cell": "Table of Contents",
   "title_sidebar": "Contents",
   "toc_cell": false,
   "toc_position": {},
   "toc_section_display": true,
   "toc_window_display": false
  }
 },
 "nbformat": 4,
 "nbformat_minor": 5
}
