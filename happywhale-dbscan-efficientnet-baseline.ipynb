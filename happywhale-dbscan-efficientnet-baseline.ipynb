{
 "cells": [
  {
   "cell_type": "markdown",
   "id": "83faadeb",
   "metadata": {
    "papermill": {
     "duration": 0.026508,
     "end_time": "2022-02-15T10:33:53.132726",
     "exception": false,
     "start_time": "2022-02-15T10:33:53.106218",
     "status": "completed"
    },
    "tags": []
   },
   "source": [
    "<h1 style=\"text-align: center; font-family: Verdana; font-size: 40px; font-style: normal; font-weight: bold; text-decoration: none; text-transform: none; font-variant: small-caps; letter-spacing: 3px; color: #42288a; background-color: #ffffff;\">DBSCAN + EfficientNet baseline</h1>\n",
    "\n",
    "<h1 style=\"text-align: left; font-family: roboto; font-size: 20px; font-style: normal; font-weight: none; text-decoration: none; text-transform: none; font-variant: none;  color: #429ef5; background-color: #ffffff;\">\n",
    "    Density-Based Spacial Clustering of Applications with noise. It is an efficient clustering algoritm designed to be fast and effective. It is better than Kmeans clustering as it does not require us to select the number of clusters. <br>     <br>\n",
    "    The Best case run time complexity of DBScan is <i> O(nlogn) </i> whereas for Kmeans, its <i> O(n<sup>2</sup>) </i> . It can even find arbitrary shaped clusters, for example a cluster that is surrounded by another cluster, but not connected to it. KMeans cannot do the same. <br>\n",
    "    <br>\n",
    "    In this notebook, we extract ImageNet EfficientNet embeddings and cluster them using <a href=\"https://scikit-learn.org/stable/modules/generated/sklearn.cluster.DBSCAN.html\"> DBSCAN </a>.\n",
    "    \n",
    "</h1>\n",
    "\n",
    "\n",
    "<br>\n",
    "<h1 style=\"text-align: left; font-family: roboto; font-size: 25px; font-style: normal; font-weight: bold; text-decoration: none; text-transform: none; letter-spacing: 3px; color: #c75d16; background-color: #ffffff;\">\n",
    "ACKNOWLEDGMENTS\n",
    "</h1>\n",
    "\n",
    "<h1 style=\"text-align: left; font-family: roboto; font-size: 20px; font-style: normal; font-weight: none; text-decoration: none; text-transform: none; font-variant: none;  color: #eb8f52; background-color: #ffffff;\">\n",
    "    Making this wouldn't have been possible without the help of following notebooks, do check them out!\n",
    "\n",
    "</h1>\n",
    "\n",
    "<ul>\n",
    "    <li> <a href=\"https://www.kaggle.com/jollibobert/efficientnet-dbscan-baseline-cv-0-658\"> https://www.kaggle.com/jollibobert/efficientnet-dbscan-baseline-cv-0-658 </a> </li>\n",
    "    <li> <a href=\"https://www.kaggle.com/ammarnassanalhajali/cnn-with-keras-stater\"> https://www.kaggle.com/ammarnassanalhajali/cnn-with-keras-stater </a> </li>\n",
    "    <li> <a href=\"https://www.kaggle.com/debarshichanda/pytorch-arcface-gem-pooling-starter\"> https://www.kaggle.com/debarshichanda/pytorch-arcface-gem-pooling-starter </a> </li>\n",
    "</ul>\n",
    " \n"
   ]
  },
  {
   "cell_type": "markdown",
   "id": "b93cf025",
   "metadata": {
    "papermill": {
     "duration": 0.022064,
     "end_time": "2022-02-15T10:33:53.178173",
     "exception": false,
     "start_time": "2022-02-15T10:33:53.156109",
     "status": "completed"
    },
    "tags": []
   },
   "source": [
    "### LOADING LIBRARIES AND DATA"
   ]
  },
  {
   "cell_type": "code",
   "execution_count": 1,
   "id": "e6e3fc80",
   "metadata": {
    "execution": {
     "iopub.execute_input": "2022-02-15T10:33:53.228224Z",
     "iopub.status.busy": "2022-02-15T10:33:53.226670Z",
     "iopub.status.idle": "2022-02-15T10:33:59.573777Z",
     "shell.execute_reply": "2022-02-15T10:33:59.573190Z",
     "shell.execute_reply.started": "2022-02-15T08:34:38.887258Z"
    },
    "papermill": {
     "duration": 6.373228,
     "end_time": "2022-02-15T10:33:59.573938",
     "exception": false,
     "start_time": "2022-02-15T10:33:53.200710",
     "status": "completed"
    },
    "tags": []
   },
   "outputs": [],
   "source": [
    "import sys\n",
    "sys.path.append(\"../input/efficientnet-pytorch/EfficientNet-PyTorch/EfficientNet-PyTorch-master\")\n",
    "\n",
    "# utils\n",
    "import numpy as np \n",
    "import pandas as pd \n",
    "import math\n",
    "import random \n",
    "import gc\n",
    "import os \n",
    "from glob import glob\n",
    "from tqdm.notebook import tqdm\n",
    "import matplotlib.pyplot as plt\n",
    "\n",
    "import warnings\n",
    "warnings.filterwarnings(\"ignore\")\n",
    "\n",
    "\n",
    "# image utils\n",
    "import albumentations as A\n",
    "from albumentations.pytorch import ToTensorV2\n",
    "import cv2\n",
    "\n",
    "# DBSCAN and sklearn\n",
    "from sklearn.preprocessing import StandardScaler\n",
    "from sklearn.preprocessing import MaxAbsScaler\n",
    "from cuml.cluster import DBSCAN\n",
    "from sklearn.model_selection import train_test_split\n",
    "from sklearn import metrics\n",
    "from cuml.metrics.pairwise_distances import pairwise_distances\n",
    "import cupy\n",
    "\n",
    "from sklearn.model_selection import StratifiedKFold\n",
    "\n",
    "# deep learning & models\n",
    "import torch\n",
    "from torch.utils.data import Dataset\n",
    "import torch.nn as nn\n",
    "from efficientnet_pytorch import EfficientNet"
   ]
  },
  {
   "cell_type": "code",
   "execution_count": 2,
   "id": "77fd0cd5",
   "metadata": {
    "execution": {
     "iopub.execute_input": "2022-02-15T10:33:59.622287Z",
     "iopub.status.busy": "2022-02-15T10:33:59.621717Z",
     "iopub.status.idle": "2022-02-15T10:33:59.798946Z",
     "shell.execute_reply": "2022-02-15T10:33:59.799382Z",
     "shell.execute_reply.started": "2022-02-15T08:34:45.262000Z"
    },
    "papermill": {
     "duration": 0.203359,
     "end_time": "2022-02-15T10:33:59.799524",
     "exception": false,
     "start_time": "2022-02-15T10:33:59.596165",
     "status": "completed"
    },
    "tags": []
   },
   "outputs": [
    {
     "data": {
      "text/html": [
       "<div>\n",
       "<style scoped>\n",
       "    .dataframe tbody tr th:only-of-type {\n",
       "        vertical-align: middle;\n",
       "    }\n",
       "\n",
       "    .dataframe tbody tr th {\n",
       "        vertical-align: top;\n",
       "    }\n",
       "\n",
       "    .dataframe thead th {\n",
       "        text-align: right;\n",
       "    }\n",
       "</style>\n",
       "<table border=\"1\" class=\"dataframe\">\n",
       "  <thead>\n",
       "    <tr style=\"text-align: right;\">\n",
       "      <th></th>\n",
       "      <th>image</th>\n",
       "      <th>species</th>\n",
       "      <th>individual_id</th>\n",
       "    </tr>\n",
       "  </thead>\n",
       "  <tbody>\n",
       "    <tr>\n",
       "      <th>0</th>\n",
       "      <td>00021adfb725ed.jpg</td>\n",
       "      <td>melon_headed_whale</td>\n",
       "      <td>cadddb1636b9</td>\n",
       "    </tr>\n",
       "    <tr>\n",
       "      <th>1</th>\n",
       "      <td>000562241d384d.jpg</td>\n",
       "      <td>humpback_whale</td>\n",
       "      <td>1a71fbb72250</td>\n",
       "    </tr>\n",
       "    <tr>\n",
       "      <th>2</th>\n",
       "      <td>0007c33415ce37.jpg</td>\n",
       "      <td>false_killer_whale</td>\n",
       "      <td>60008f293a2b</td>\n",
       "    </tr>\n",
       "    <tr>\n",
       "      <th>3</th>\n",
       "      <td>0007d9bca26a99.jpg</td>\n",
       "      <td>bottlenose_dolphin</td>\n",
       "      <td>4b00fe572063</td>\n",
       "    </tr>\n",
       "    <tr>\n",
       "      <th>4</th>\n",
       "      <td>00087baf5cef7a.jpg</td>\n",
       "      <td>humpback_whale</td>\n",
       "      <td>8e5253662392</td>\n",
       "    </tr>\n",
       "  </tbody>\n",
       "</table>\n",
       "</div>"
      ],
      "text/plain": [
       "                image             species individual_id\n",
       "0  00021adfb725ed.jpg  melon_headed_whale  cadddb1636b9\n",
       "1  000562241d384d.jpg      humpback_whale  1a71fbb72250\n",
       "2  0007c33415ce37.jpg  false_killer_whale  60008f293a2b\n",
       "3  0007d9bca26a99.jpg  bottlenose_dolphin  4b00fe572063\n",
       "4  00087baf5cef7a.jpg      humpback_whale  8e5253662392"
      ]
     },
     "execution_count": 2,
     "metadata": {},
     "output_type": "execute_result"
    }
   ],
   "source": [
    "train = pd.read_csv(\"../input/happy-whale-and-dolphin/train.csv\")\n",
    "test = pd.read_csv(\"../input/happy-whale-and-dolphin/sample_submission.csv\")\n",
    "\n",
    "train.head()"
   ]
  },
  {
   "cell_type": "code",
   "execution_count": 3,
   "id": "c216591c",
   "metadata": {
    "execution": {
     "iopub.execute_input": "2022-02-15T10:33:59.850712Z",
     "iopub.status.busy": "2022-02-15T10:33:59.850183Z",
     "iopub.status.idle": "2022-02-15T10:33:59.855245Z",
     "shell.execute_reply": "2022-02-15T10:33:59.855606Z",
     "shell.execute_reply.started": "2022-02-15T08:34:45.406790Z"
    },
    "papermill": {
     "duration": 0.033173,
     "end_time": "2022-02-15T10:33:59.855740",
     "exception": false,
     "start_time": "2022-02-15T10:33:59.822567",
     "status": "completed"
    },
    "tags": []
   },
   "outputs": [
    {
     "data": {
      "text/plain": [
       "(51033, 3)"
      ]
     },
     "execution_count": 3,
     "metadata": {},
     "output_type": "execute_result"
    }
   ],
   "source": [
    "train.shape"
   ]
  },
  {
   "cell_type": "markdown",
   "id": "27c9938e",
   "metadata": {
    "papermill": {
     "duration": 0.022715,
     "end_time": "2022-02-15T10:33:59.903205",
     "exception": false,
     "start_time": "2022-02-15T10:33:59.880490",
     "status": "completed"
    },
    "tags": []
   },
   "source": [
    "### SET CONFIG"
   ]
  },
  {
   "cell_type": "code",
   "execution_count": 4,
   "id": "d7619f62",
   "metadata": {
    "execution": {
     "iopub.execute_input": "2022-02-15T10:33:59.954533Z",
     "iopub.status.busy": "2022-02-15T10:33:59.953711Z",
     "iopub.status.idle": "2022-02-15T10:33:59.956154Z",
     "shell.execute_reply": "2022-02-15T10:33:59.955716Z",
     "shell.execute_reply.started": "2022-02-15T08:34:45.415235Z"
    },
    "papermill": {
     "duration": 0.030153,
     "end_time": "2022-02-15T10:33:59.956267",
     "exception": false,
     "start_time": "2022-02-15T10:33:59.926114",
     "status": "completed"
    },
    "tags": []
   },
   "outputs": [],
   "source": [
    "class Config:\n",
    "    \n",
    "    # models\n",
    "    efficientnet_name = 'efficientnet-b2'  # 0 for b0, 1 for b1, etc\n",
    "    \n",
    "    # image size\n",
    "    image_size = 256\n",
    "    \n",
    "    seed = 2022\n",
    "    batch_size = 16\n",
    "    device = torch.device('cuda:0' if torch.cuda.is_available() else 'cpu')\n",
    "    \n",
    "    # dbscan metric - cosine/euclidean\n",
    "    dbscan_metric = 'euclidean'\n",
    "    "
   ]
  },
  {
   "cell_type": "markdown",
   "id": "d39867e3",
   "metadata": {
    "papermill": {
     "duration": 0.02263,
     "end_time": "2022-02-15T10:34:00.001672",
     "exception": false,
     "start_time": "2022-02-15T10:33:59.979042",
     "status": "completed"
    },
    "tags": []
   },
   "source": [
    "### DEFINING DATASET AND DATALOADER\n",
    "\n",
    "<!-- <h1 style=\"text-align: left; font-family: arial; font-size: 15px; color: #91450a; background-color: #ffffff;\">\n",
    "    We will use a simple stratified train test split to tune the parameters of DBSCAN.\n",
    "    \n",
    "</h1> -->"
   ]
  },
  {
   "cell_type": "code",
   "execution_count": 5,
   "id": "999bab8f",
   "metadata": {
    "execution": {
     "iopub.execute_input": "2022-02-15T10:34:00.060822Z",
     "iopub.status.busy": "2022-02-15T10:34:00.059175Z",
     "iopub.status.idle": "2022-02-15T10:34:00.061379Z",
     "shell.execute_reply": "2022-02-15T10:34:00.061797Z",
     "shell.execute_reply.started": "2022-02-15T08:34:45.422621Z"
    },
    "papermill": {
     "duration": 0.037287,
     "end_time": "2022-02-15T10:34:00.061934",
     "exception": false,
     "start_time": "2022-02-15T10:34:00.024647",
     "status": "completed"
    },
    "tags": []
   },
   "outputs": [],
   "source": [
    "# transform for pytorch\n",
    "transforms = A.Compose([\n",
    "        A.Resize(Config.image_size, Config.image_size),\n",
    "        A.Normalize(\n",
    "                mean=[0.485, 0.456, 0.406], \n",
    "                std=[0.229, 0.224, 0.225], \n",
    "                max_pixel_value=255.0, \n",
    "                p=1.0\n",
    "            ),\n",
    "        ToTensorV2()], p=1.)\n",
    "\n",
    "\n",
    "# Dataset class\n",
    "class HappyWhaleDataset(Dataset):\n",
    "    def __init__(self, df, transforms, test=False):\n",
    "        self.df = df\n",
    "        self.transforms = transforms\n",
    "        self.test = test\n",
    "        \n",
    "    def __len__(self):\n",
    "        return len(self.df)\n",
    "    \n",
    "    def __getitem__(self, idx):\n",
    "        \n",
    "        if self.test:            \n",
    "            impath = f\"../input/happy-whale-and-dolphin/test_images/{self.df.loc[idx, 'image']}\"\n",
    "        else:\n",
    "            impath = f\"../input/happy-whale-and-dolphin/train_images/{self.df.loc[idx, 'image']}\"\n",
    "            \n",
    "        img = cv2.imread(impath)\n",
    "        img = cv2.cvtColor(img, cv2.COLOR_BGR2RGB)\n",
    "        \n",
    "        img = self.transforms(image=img)[\"image\"]\n",
    "        \n",
    "        return img\n",
    "\n",
    "\n",
    "# map@5\n",
    "# from - https://www.kaggle.com/pestipeti/explanation-of-map5-scoring-metric\n",
    "def map_per_image(label, predictions): \n",
    "    try:\n",
    "        return 1 / (predictions[:5].index(label) + 1)\n",
    "    except ValueError:\n",
    "        return 0.0\n",
    "\n",
    "def map_per_set(labels, predictions):\n",
    "    return np.mean([map_per_image(l, p) for l,p in zip(labels, predictions)])\n"
   ]
  },
  {
   "cell_type": "code",
   "execution_count": 6,
   "id": "7e4b49da",
   "metadata": {
    "execution": {
     "iopub.execute_input": "2022-02-15T10:34:00.119236Z",
     "iopub.status.busy": "2022-02-15T10:34:00.117985Z",
     "iopub.status.idle": "2022-02-15T10:34:00.121239Z",
     "shell.execute_reply": "2022-02-15T10:34:00.121626Z",
     "shell.execute_reply.started": "2022-02-15T08:34:45.437970Z"
    },
    "papermill": {
     "duration": 0.035901,
     "end_time": "2022-02-15T10:34:00.121755",
     "exception": false,
     "start_time": "2022-02-15T10:34:00.085854",
     "status": "completed"
    },
    "tags": []
   },
   "outputs": [
    {
     "data": {
      "text/plain": [
       "3190"
      ]
     },
     "execution_count": 6,
     "metadata": {},
     "output_type": "execute_result"
    }
   ],
   "source": [
    "whale_dt = HappyWhaleDataset(train, transforms)\n",
    "whale_dataloader = torch.utils.data.DataLoader(whale_dt, batch_size = Config.batch_size,\n",
    "                                              num_workers = 2, pin_memory=True, shuffle=False)\n",
    "\n",
    "whale_test_dt = HappyWhaleDataset(test, transforms, \"test\")\n",
    "whale_test_dataloader = torch.utils.data.DataLoader(whale_test_dt, batch_size = Config.batch_size,\n",
    "                                              num_workers = 2, pin_memory=True, shuffle=False)\n",
    "\n",
    "\n",
    "len(whale_dataloader)"
   ]
  },
  {
   "cell_type": "markdown",
   "id": "94e5ca6e",
   "metadata": {
    "papermill": {
     "duration": 0.024885,
     "end_time": "2022-02-15T10:34:00.172465",
     "exception": false,
     "start_time": "2022-02-15T10:34:00.147580",
     "status": "completed"
    },
    "tags": []
   },
   "source": [
    "### DEFINING THE EFFICIENTNET"
   ]
  },
  {
   "cell_type": "code",
   "execution_count": 7,
   "id": "b4430d79",
   "metadata": {
    "execution": {
     "iopub.execute_input": "2022-02-15T10:34:00.230905Z",
     "iopub.status.busy": "2022-02-15T10:34:00.230232Z",
     "iopub.status.idle": "2022-02-15T10:34:07.833532Z",
     "shell.execute_reply": "2022-02-15T10:34:07.833059Z",
     "shell.execute_reply.started": "2022-02-15T08:34:45.451997Z"
    },
    "papermill": {
     "duration": 7.636205,
     "end_time": "2022-02-15T10:34:07.833659",
     "exception": false,
     "start_time": "2022-02-15T10:34:00.197454",
     "status": "completed"
    },
    "tags": []
   },
   "outputs": [
    {
     "name": "stdout",
     "output_type": "stream",
     "text": [
      "efficientnet-b2 weights loaded\n"
     ]
    }
   ],
   "source": [
    "class WhaleModel(nn.Module):\n",
    "    def __init__(self):\n",
    "        super(WhaleModel, self).__init__()\n",
    "        \n",
    "        self.model = EfficientNet.from_name(Config.efficientnet_name, include_top=False)\n",
    "        self.model.load_state_dict(torch.load(glob(f\"../input/efficientnet-pytorch/{Config.efficientnet_name}*\")[0]), \n",
    "                                  strict=False)\n",
    "        print(f\"{Config.efficientnet_name} weights loaded\")\n",
    "                \n",
    "    def forward(self, img):\n",
    "        \n",
    "        return self.model.forward(img)\n",
    "        \n",
    "model = WhaleModel()\n",
    "model = model.to(Config.device)"
   ]
  },
  {
   "cell_type": "markdown",
   "id": "3ae9ac81",
   "metadata": {
    "papermill": {
     "duration": 0.026399,
     "end_time": "2022-02-15T10:34:07.885533",
     "exception": false,
     "start_time": "2022-02-15T10:34:07.859134",
     "status": "completed"
    },
    "tags": []
   },
   "source": [
    "### EXTRACT EMBEDDINGS"
   ]
  },
  {
   "cell_type": "code",
   "execution_count": 8,
   "id": "3f997450",
   "metadata": {
    "execution": {
     "iopub.execute_input": "2022-02-15T10:34:07.947655Z",
     "iopub.status.busy": "2022-02-15T10:34:07.946664Z",
     "iopub.status.idle": "2022-02-15T11:28:28.797267Z",
     "shell.execute_reply": "2022-02-15T11:28:28.797666Z",
     "shell.execute_reply.started": "2022-02-15T08:34:52.679174Z"
    },
    "papermill": {
     "duration": 3260.884715,
     "end_time": "2022-02-15T11:28:28.797852",
     "exception": false,
     "start_time": "2022-02-15T10:34:07.913137",
     "status": "completed"
    },
    "tags": []
   },
   "outputs": [
    {
     "data": {
      "application/vnd.jupyter.widget-view+json": {
       "model_id": "fb744f4e814e4df2a103f7e73500595d",
       "version_major": 2,
       "version_minor": 0
      },
      "text/plain": [
       "  0%|          | 0/3190 [00:00<?, ?it/s]"
      ]
     },
     "metadata": {},
     "output_type": "display_data"
    },
    {
     "data": {
      "text/plain": [
       "(51033, 1408)"
      ]
     },
     "execution_count": 8,
     "metadata": {},
     "output_type": "execute_result"
    }
   ],
   "source": [
    "# The embedding generation takes around 50 mins, I have generate the embeddings beforehand and uploaded it in a Dataset.\n",
    "# You can uncomment the below code to generate embeddings for some other efficientnet.\n",
    "\n",
    "# image_embs = np.load(\"../input/happywhaleeffnetembs/effb0-train.npy\")\n",
    "\n",
    "# Uncomment to generate embeddings\n",
    "model.eval()\n",
    "\n",
    "embeddings = []\n",
    "\n",
    "for bind, img in enumerate(tqdm(whale_dataloader)):\n",
    "    img = img.to(Config.device)\n",
    "    embs = model(img)\n",
    "    \n",
    "    embeddings.append(embs.cpu().detach().numpy())    \n",
    "    \n",
    "    del img, embs\n",
    "    gc.collect()\n",
    "\n",
    "image_embs = np.concatenate(embeddings).squeeze()\n",
    "\n",
    "del embeddings\n",
    "gc.collect()\n",
    "\n",
    "image_embs.shape"
   ]
  },
  {
   "cell_type": "code",
   "execution_count": 9,
   "id": "6fe60c01",
   "metadata": {
    "execution": {
     "iopub.execute_input": "2022-02-15T11:28:28.874418Z",
     "iopub.status.busy": "2022-02-15T11:28:28.873611Z",
     "iopub.status.idle": "2022-02-15T11:58:07.828205Z",
     "shell.execute_reply": "2022-02-15T11:58:07.827718Z",
     "shell.execute_reply.started": "2022-02-15T09:29:02.085085Z"
    },
    "papermill": {
     "duration": 1779.004309,
     "end_time": "2022-02-15T11:58:07.828339",
     "exception": false,
     "start_time": "2022-02-15T11:28:28.824030",
     "status": "completed"
    },
    "tags": []
   },
   "outputs": [
    {
     "data": {
      "application/vnd.jupyter.widget-view+json": {
       "model_id": "452923c4d3c3470bac9a2177a3067cb3",
       "version_major": 2,
       "version_minor": 0
      },
      "text/plain": [
       "  0%|          | 0/1748 [00:00<?, ?it/s]"
      ]
     },
     "metadata": {},
     "output_type": "display_data"
    },
    {
     "data": {
      "text/plain": [
       "(27956, 1408)"
      ]
     },
     "execution_count": 9,
     "metadata": {},
     "output_type": "execute_result"
    }
   ],
   "source": [
    "# TEST IMAGES EMBEDDINGS\n",
    "\n",
    "# test_image_embs = np.load(\"../input/happywhaleeffnetembs/effb0-test.npy\")\n",
    "\n",
    "# uncomment to generate embeddings manually\n",
    "embeddings = []\n",
    "\n",
    "for bind, img in enumerate(tqdm(whale_test_dataloader)):\n",
    "    img = img.to(Config.device)\n",
    "    embs = model(img)\n",
    "    \n",
    "    embeddings.append(embs.cpu().detach().numpy())    \n",
    "    \n",
    "    del img, embs\n",
    "    gc.collect()\n",
    "\n",
    "test_image_embs = np.concatenate(embeddings).squeeze()\n",
    "\n",
    "del model, embeddings\n",
    "gc.collect()\n",
    "\n",
    "test_image_embs.shape"
   ]
  },
  {
   "cell_type": "markdown",
   "id": "ed3e1703",
   "metadata": {
    "papermill": {
     "duration": 0.024944,
     "end_time": "2022-02-15T11:58:07.878633",
     "exception": false,
     "start_time": "2022-02-15T11:58:07.853689",
     "status": "completed"
    },
    "tags": []
   },
   "source": [
    "### FIT DBSCAN "
   ]
  },
  {
   "cell_type": "code",
   "execution_count": 10,
   "id": "41ed9976",
   "metadata": {
    "execution": {
     "iopub.execute_input": "2022-02-15T11:58:07.935655Z",
     "iopub.status.busy": "2022-02-15T11:58:07.935050Z",
     "iopub.status.idle": "2022-02-15T11:58:07.937591Z",
     "shell.execute_reply": "2022-02-15T11:58:07.937207Z",
     "shell.execute_reply.started": "2022-02-15T09:58:33.467776Z"
    },
    "papermill": {
     "duration": 0.033663,
     "end_time": "2022-02-15T11:58:07.937691",
     "exception": false,
     "start_time": "2022-02-15T11:58:07.904028",
     "status": "completed"
    },
    "tags": []
   },
   "outputs": [],
   "source": [
    "def train_dbscan(eps, min_samples, image_embs, verbose=True, metric = Config.dbscan_metric):\n",
    "    \n",
    "    db = DBSCAN(eps = eps, \n",
    "                min_samples = min_samples, \n",
    "                metric = 'euclidean', \n",
    "                calc_core_sample_indices = True,\n",
    "                verbose = 0)\n",
    "\n",
    "    # trick to use cosine by normalizing euclidean\n",
    "    # https://medium.com/ai-for-real/relationship-between-cosine-similarity-and-euclidean-distance-7e283a277dff\n",
    "    if metric == 'cosine':\n",
    "        norms = cupy.linalg.norm(cupy.array(image_embs), ord=2, axis=1)\n",
    "        image_embs = image_embs/norms.get().reshape(-1, 1)\n",
    "    \n",
    "    db.fit(image_embs)\n",
    "        \n",
    "    if verbose:\n",
    "        print(f\"Generated {len(db.core_sample_indices_)} clusters from {image_embs.shape[0]} data points\")\n",
    "    \n",
    "    return db, len(db.core_sample_indices_)"
   ]
  },
  {
   "cell_type": "markdown",
   "id": "1e1a7289",
   "metadata": {
    "papermill": {
     "duration": 0.024793,
     "end_time": "2022-02-15T11:58:07.987652",
     "exception": false,
     "start_time": "2022-02-15T11:58:07.962859",
     "status": "completed"
    },
    "tags": []
   },
   "source": [
    "### CALCULATE TRAIN CV SCORE"
   ]
  },
  {
   "cell_type": "markdown",
   "id": "0dc3a8a4",
   "metadata": {
    "papermill": {
     "duration": 0.024882,
     "end_time": "2022-02-15T11:58:08.037714",
     "exception": false,
     "start_time": "2022-02-15T11:58:08.012832",
     "status": "completed"
    },
    "tags": []
   },
   "source": [
    "<h1 style=\"text-align: left; font-family: arial; font-size: 15px; color: #91450a; background-color: #ffffff;\">\n",
    "    eps \n",
    "   \n",
    "    It is the most important parameter in DBSCAN. It is the maximum distance between two samples for one to be considered as in the neighborhood of the other.\n",
    "    \n",
    "    We will tune this parameter, by maximizing validation mAP score. The total number of individual ids in train set must be the number of clusters in the train set. Let us sweep different values of eps to select the best one.\n",
    "    \n",
    "</h1>"
   ]
  },
  {
   "cell_type": "code",
   "execution_count": 11,
   "id": "520288d5",
   "metadata": {
    "execution": {
     "iopub.execute_input": "2022-02-15T11:58:08.114487Z",
     "iopub.status.busy": "2022-02-15T11:58:08.113716Z",
     "iopub.status.idle": "2022-02-15T12:00:47.837976Z",
     "shell.execute_reply": "2022-02-15T12:00:47.837307Z",
     "shell.execute_reply.started": "2022-02-15T09:58:33.469499Z"
    },
    "papermill": {
     "duration": 159.774568,
     "end_time": "2022-02-15T12:00:47.838114",
     "exception": false,
     "start_time": "2022-02-15T11:58:08.063546",
     "status": "completed"
    },
    "tags": []
   },
   "outputs": [
    {
     "data": {
      "application/vnd.jupyter.widget-view+json": {
       "model_id": "efb0e66e5cca44b384dbe47d86e8ed1c",
       "version_major": 2,
       "version_minor": 0
      },
      "text/plain": [
       "  0%|          | 0/60 [00:00<?, ?it/s]"
      ]
     },
     "metadata": {},
     "output_type": "display_data"
    },
    {
     "data": {
      "image/png": "[encoded data removed]",
      "text/plain": [
       "<Figure size 432x288 with 1 Axes>"
      ]
     },
     "metadata": {
      "needs_background": "light"
     },
     "output_type": "display_data"
    }
   ],
   "source": [
    "# trying out all values from 2 to 8 with steps of 0.1\n",
    "\n",
    "numclus = []\n",
    "for eps in tqdm(np.arange(2, 8, 0.1)):    \n",
    "    numclus.append(train_dbscan(eps, 2, image_embs, verbose=False)[1])\n",
    "    \n",
    "    \n",
    "plt.plot(np.arange(2, 8, 0.1), numclus)\n",
    "plt.show()"
   ]
  },
  {
   "cell_type": "code",
   "execution_count": 12,
   "id": "4713df94",
   "metadata": {
    "_kg_hide-input": true,
    "execution": {
     "iopub.execute_input": "2022-02-15T12:00:47.911854Z",
     "iopub.status.busy": "2022-02-15T12:00:47.910675Z",
     "iopub.status.idle": "2022-02-15T12:00:47.917243Z",
     "shell.execute_reply": "2022-02-15T12:00:47.917915Z",
     "shell.execute_reply.started": "2022-02-15T04:54:49.091967Z"
    },
    "papermill": {
     "duration": 0.052333,
     "end_time": "2022-02-15T12:00:47.918128",
     "exception": false,
     "start_time": "2022-02-15T12:00:47.865795",
     "status": "completed"
    },
    "tags": []
   },
   "outputs": [
    {
     "name": "stdout",
     "output_type": "stream",
     "text": [
      "Train set has 15587 different ids\n"
     ]
    }
   ],
   "source": [
    "print(f\"Train set has {len(train.individual_id.value_counts())} different ids\")"
   ]
  },
  {
   "cell_type": "markdown",
   "id": "f950dc93",
   "metadata": {
    "execution": {
     "iopub.execute_input": "2022-02-14T16:35:58.828855Z",
     "iopub.status.busy": "2022-02-14T16:35:58.828446Z",
     "iopub.status.idle": "2022-02-14T16:35:59.014488Z",
     "shell.execute_reply": "2022-02-14T16:35:59.013797Z",
     "shell.execute_reply.started": "2022-02-14T16:35:58.828816Z"
    },
    "papermill": {
     "duration": 0.029474,
     "end_time": "2022-02-15T12:00:47.979466",
     "exception": false,
     "start_time": "2022-02-15T12:00:47.949992",
     "status": "completed"
    },
    "tags": []
   },
   "source": [
    "<h1 style=\"text-align: left; font-family: arial; font-size: 17px; color: #000000; background-color: #ffffff;\">\n",
    "    \n",
    "    From the graph we can see that the best eps should be 5.5 (approx)  , Let us train with this eps and check validation score\n",
    "    \n",
    "</h1>"
   ]
  },
  {
   "cell_type": "code",
   "execution_count": 13,
   "id": "9e9ca77a",
   "metadata": {
    "execution": {
     "iopub.execute_input": "2022-02-15T12:00:48.043548Z",
     "iopub.status.busy": "2022-02-15T12:00:48.042629Z",
     "iopub.status.idle": "2022-02-15T12:00:48.044783Z",
     "shell.execute_reply": "2022-02-15T12:00:48.045178Z",
     "shell.execute_reply.started": "2022-02-15T04:54:49.117001Z"
    },
    "papermill": {
     "duration": 0.038481,
     "end_time": "2022-02-15T12:00:48.045321",
     "exception": false,
     "start_time": "2022-02-15T12:00:48.006840",
     "status": "completed"
    },
    "tags": []
   },
   "outputs": [],
   "source": [
    "def dbscan_predict(db, train_embs, test_embs, metric = Config.dbscan_metric):\n",
    "    \n",
    "    core_samples_embs = train_embs[db.core_sample_indices_, :]\n",
    "    print(\"Core image embeddings shape \", core_samples_embs.shape)\n",
    "    \n",
    "    predictions = []\n",
    "    \n",
    "    print(f\"Predicting on {test_embs.shape[0]} test embeddings\")\n",
    "    for i in tqdm(range(test_embs.shape[0])):\n",
    "        pred = []\n",
    "        \n",
    "        dists = pairwise_distances(core_samples_embs, test_embs[[i,], :], metric = metric)\n",
    "        top5 = sorted(list(zip(dists, db.core_sample_indices_)))[:5]\n",
    "        \n",
    "        vals = [x[0] for x in top5]\n",
    "        inds = [x[1] for x in top5]\n",
    "        indids = [train.loc[x, 'individual_id'] for x in inds]\n",
    "        \n",
    "        if vals[0] > db.eps:\n",
    "            pred.append(-1)\n",
    "            pred.extend(indids[:4])\n",
    "        else:\n",
    "            pred.extend(indids)\n",
    "            \n",
    "        predictions.append(pred)\n",
    "        \n",
    "    print(f\"Generated {len(predictions)} predictions for the test set\")\n",
    "    \n",
    "    return predictions"
   ]
  },
  {
   "cell_type": "code",
   "execution_count": 14,
   "id": "44cca8d6",
   "metadata": {
    "execution": {
     "iopub.execute_input": "2022-02-15T12:00:48.105058Z",
     "iopub.status.busy": "2022-02-15T12:00:48.104356Z",
     "iopub.status.idle": "2022-02-15T12:23:48.599951Z",
     "shell.execute_reply": "2022-02-15T12:23:48.601089Z",
     "shell.execute_reply.started": "2022-02-15T04:54:49.129528Z"
    },
    "papermill": {
     "duration": 1380.529087,
     "end_time": "2022-02-15T12:23:48.601314",
     "exception": false,
     "start_time": "2022-02-15T12:00:48.072227",
     "status": "completed"
    },
    "tags": []
   },
   "outputs": [
    {
     "name": "stdout",
     "output_type": "stream",
     "text": [
      "Generated 27386 clusters from 51033 data points\n",
      "Core image embeddings shape  (27386, 1408)\n",
      "Predicting on 2500 test embeddings\n"
     ]
    },
    {
     "data": {
      "application/vnd.jupyter.widget-view+json": {
       "model_id": "6933c33c70874652b02c2fff178614f0",
       "version_major": 2,
       "version_minor": 0
      },
      "text/plain": [
       "  0%|          | 0/2500 [00:00<?, ?it/s]"
      ]
     },
     "metadata": {},
     "output_type": "display_data"
    },
    {
     "name": "stdout",
     "output_type": "stream",
     "text": [
      "Generated 2500 predictions for the test set\n",
      "CV score -  0.5493\n"
     ]
    }
   ],
   "source": [
    "dbscan_model, _ = train_dbscan(eps = 5.5,\n",
    "                            min_samples = 2,\n",
    "                            image_embs = image_embs)\n",
    "  \n",
    "\n",
    "# takes too much time to check complete train set - increase this if you want to check for more\n",
    "CHECK_SIZE = 2500\n",
    "\n",
    "predictions = dbscan_predict(dbscan_model, image_embs, image_embs[:CHECK_SIZE])\n",
    "score = map_per_set(train.individual_id.tolist()[:CHECK_SIZE], predictions)\n",
    "\n",
    "print(f\"CV score - \", score)"
   ]
  },
  {
   "cell_type": "markdown",
   "id": "1f43d218",
   "metadata": {
    "papermill": {
     "duration": 0.0477,
     "end_time": "2022-02-15T12:23:48.697657",
     "exception": false,
     "start_time": "2022-02-15T12:23:48.649957",
     "status": "completed"
    },
    "tags": []
   },
   "source": [
    "### TEST PREDICTION"
   ]
  },
  {
   "cell_type": "code",
   "execution_count": 15,
   "id": "c6a50381",
   "metadata": {
    "execution": {
     "iopub.execute_input": "2022-02-15T12:23:48.805651Z",
     "iopub.status.busy": "2022-02-15T12:23:48.797757Z",
     "iopub.status.idle": "2022-02-15T12:23:48.812704Z",
     "shell.execute_reply": "2022-02-15T12:23:48.812064Z",
     "shell.execute_reply.started": "2022-02-15T05:07:03.566956Z"
    },
    "papermill": {
     "duration": 0.068579,
     "end_time": "2022-02-15T12:23:48.812888",
     "exception": false,
     "start_time": "2022-02-15T12:23:48.744309",
     "status": "completed"
    },
    "tags": []
   },
   "outputs": [
    {
     "data": {
      "text/html": [
       "<div>\n",
       "<style scoped>\n",
       "    .dataframe tbody tr th:only-of-type {\n",
       "        vertical-align: middle;\n",
       "    }\n",
       "\n",
       "    .dataframe tbody tr th {\n",
       "        vertical-align: top;\n",
       "    }\n",
       "\n",
       "    .dataframe thead th {\n",
       "        text-align: right;\n",
       "    }\n",
       "</style>\n",
       "<table border=\"1\" class=\"dataframe\">\n",
       "  <thead>\n",
       "    <tr style=\"text-align: right;\">\n",
       "      <th></th>\n",
       "      <th>image</th>\n",
       "      <th>predictions</th>\n",
       "    </tr>\n",
       "  </thead>\n",
       "  <tbody>\n",
       "    <tr>\n",
       "      <th>0</th>\n",
       "      <td>000110707af0ba.jpg</td>\n",
       "      <td>37c7aba965a5 114207cab555 a6e325d8e924 19fbb96...</td>\n",
       "    </tr>\n",
       "    <tr>\n",
       "      <th>1</th>\n",
       "      <td>0006287ec424cb.jpg</td>\n",
       "      <td>37c7aba965a5 114207cab555 a6e325d8e924 19fbb96...</td>\n",
       "    </tr>\n",
       "    <tr>\n",
       "      <th>2</th>\n",
       "      <td>000809ecb2ccad.jpg</td>\n",
       "      <td>37c7aba965a5 114207cab555 a6e325d8e924 19fbb96...</td>\n",
       "    </tr>\n",
       "    <tr>\n",
       "      <th>3</th>\n",
       "      <td>00098d1376dab2.jpg</td>\n",
       "      <td>37c7aba965a5 114207cab555 a6e325d8e924 19fbb96...</td>\n",
       "    </tr>\n",
       "    <tr>\n",
       "      <th>4</th>\n",
       "      <td>000b8d89c738bd.jpg</td>\n",
       "      <td>37c7aba965a5 114207cab555 a6e325d8e924 19fbb96...</td>\n",
       "    </tr>\n",
       "    <tr>\n",
       "      <th>...</th>\n",
       "      <td>...</td>\n",
       "      <td>...</td>\n",
       "    </tr>\n",
       "    <tr>\n",
       "      <th>27951</th>\n",
       "      <td>fff6ff1989b5cd.jpg</td>\n",
       "      <td>37c7aba965a5 114207cab555 a6e325d8e924 19fbb96...</td>\n",
       "    </tr>\n",
       "    <tr>\n",
       "      <th>27952</th>\n",
       "      <td>fff8fd932b42cb.jpg</td>\n",
       "      <td>37c7aba965a5 114207cab555 a6e325d8e924 19fbb96...</td>\n",
       "    </tr>\n",
       "    <tr>\n",
       "      <th>27953</th>\n",
       "      <td>fff96371332c16.jpg</td>\n",
       "      <td>37c7aba965a5 114207cab555 a6e325d8e924 19fbb96...</td>\n",
       "    </tr>\n",
       "    <tr>\n",
       "      <th>27954</th>\n",
       "      <td>fffc1c4d3eabc7.jpg</td>\n",
       "      <td>37c7aba965a5 114207cab555 a6e325d8e924 19fbb96...</td>\n",
       "    </tr>\n",
       "    <tr>\n",
       "      <th>27955</th>\n",
       "      <td>fffc50be10c175.jpg</td>\n",
       "      <td>37c7aba965a5 114207cab555 a6e325d8e924 19fbb96...</td>\n",
       "    </tr>\n",
       "  </tbody>\n",
       "</table>\n",
       "<p>27956 rows × 2 columns</p>\n",
       "</div>"
      ],
      "text/plain": [
       "                    image                                        predictions\n",
       "0      000110707af0ba.jpg  37c7aba965a5 114207cab555 a6e325d8e924 19fbb96...\n",
       "1      0006287ec424cb.jpg  37c7aba965a5 114207cab555 a6e325d8e924 19fbb96...\n",
       "2      000809ecb2ccad.jpg  37c7aba965a5 114207cab555 a6e325d8e924 19fbb96...\n",
       "3      00098d1376dab2.jpg  37c7aba965a5 114207cab555 a6e325d8e924 19fbb96...\n",
       "4      000b8d89c738bd.jpg  37c7aba965a5 114207cab555 a6e325d8e924 19fbb96...\n",
       "...                   ...                                                ...\n",
       "27951  fff6ff1989b5cd.jpg  37c7aba965a5 114207cab555 a6e325d8e924 19fbb96...\n",
       "27952  fff8fd932b42cb.jpg  37c7aba965a5 114207cab555 a6e325d8e924 19fbb96...\n",
       "27953  fff96371332c16.jpg  37c7aba965a5 114207cab555 a6e325d8e924 19fbb96...\n",
       "27954  fffc1c4d3eabc7.jpg  37c7aba965a5 114207cab555 a6e325d8e924 19fbb96...\n",
       "27955  fffc50be10c175.jpg  37c7aba965a5 114207cab555 a6e325d8e924 19fbb96...\n",
       "\n",
       "[27956 rows x 2 columns]"
      ]
     },
     "execution_count": 15,
     "metadata": {},
     "output_type": "execute_result"
    }
   ],
   "source": [
    "test"
   ]
  },
  {
   "cell_type": "code",
   "execution_count": 16,
   "id": "f0ca3d2b",
   "metadata": {
    "execution": {
     "iopub.execute_input": "2022-02-15T12:23:48.916701Z",
     "iopub.status.busy": "2022-02-15T12:23:48.915990Z",
     "iopub.status.idle": "2022-02-15T16:41:01.597499Z",
     "shell.execute_reply": "2022-02-15T16:41:01.598669Z",
     "shell.execute_reply.started": "2022-02-15T05:07:03.5803Z"
    },
    "papermill": {
     "duration": 15432.738867,
     "end_time": "2022-02-15T16:41:01.598915",
     "exception": false,
     "start_time": "2022-02-15T12:23:48.860048",
     "status": "completed"
    },
    "tags": []
   },
   "outputs": [
    {
     "name": "stdout",
     "output_type": "stream",
     "text": [
      "Core image embeddings shape  (27386, 1408)\n",
      "Predicting on 27956 test embeddings\n"
     ]
    },
    {
     "data": {
      "application/vnd.jupyter.widget-view+json": {
       "model_id": "fcdfec1362a04f00930ee55a3dbce3b1",
       "version_major": 2,
       "version_minor": 0
      },
      "text/plain": [
       "  0%|          | 0/27956 [00:00<?, ?it/s]"
      ]
     },
     "metadata": {},
     "output_type": "display_data"
    },
    {
     "name": "stdout",
     "output_type": "stream",
     "text": [
      "Generated 27956 predictions for the test set\n"
     ]
    },
    {
     "data": {
      "text/html": [
       "<div>\n",
       "<style scoped>\n",
       "    .dataframe tbody tr th:only-of-type {\n",
       "        vertical-align: middle;\n",
       "    }\n",
       "\n",
       "    .dataframe tbody tr th {\n",
       "        vertical-align: top;\n",
       "    }\n",
       "\n",
       "    .dataframe thead th {\n",
       "        text-align: right;\n",
       "    }\n",
       "</style>\n",
       "<table border=\"1\" class=\"dataframe\">\n",
       "  <thead>\n",
       "    <tr style=\"text-align: right;\">\n",
       "      <th></th>\n",
       "      <th>image</th>\n",
       "      <th>predictions</th>\n",
       "    </tr>\n",
       "  </thead>\n",
       "  <tbody>\n",
       "    <tr>\n",
       "      <th>0</th>\n",
       "      <td>000110707af0ba.jpg</td>\n",
       "      <td>new_individual 398bc836ee35 fbe2b15b5481 a68e...</td>\n",
       "    </tr>\n",
       "    <tr>\n",
       "      <th>1</th>\n",
       "      <td>0006287ec424cb.jpg</td>\n",
       "      <td>new_individual 64cbd1f56354 f1dbe8514b17 69c5...</td>\n",
       "    </tr>\n",
       "    <tr>\n",
       "      <th>2</th>\n",
       "      <td>000809ecb2ccad.jpg</td>\n",
       "      <td>1ce3ba6a3c29 5a698db177c5 afbfd0d6b694 f46973...</td>\n",
       "    </tr>\n",
       "    <tr>\n",
       "      <th>3</th>\n",
       "      <td>00098d1376dab2.jpg</td>\n",
       "      <td>new_individual 8beb43dfa67e 938b7e931166 ad96...</td>\n",
       "    </tr>\n",
       "    <tr>\n",
       "      <th>4</th>\n",
       "      <td>000b8d89c738bd.jpg</td>\n",
       "      <td>da9cc7804e3a b29b59f352f5 e133efaea0f4 9a1324...</td>\n",
       "    </tr>\n",
       "  </tbody>\n",
       "</table>\n",
       "</div>"
      ],
      "text/plain": [
       "                image                                        predictions\n",
       "0  000110707af0ba.jpg   new_individual 398bc836ee35 fbe2b15b5481 a68e...\n",
       "1  0006287ec424cb.jpg   new_individual 64cbd1f56354 f1dbe8514b17 69c5...\n",
       "2  000809ecb2ccad.jpg   1ce3ba6a3c29 5a698db177c5 afbfd0d6b694 f46973...\n",
       "3  00098d1376dab2.jpg   new_individual 8beb43dfa67e 938b7e931166 ad96...\n",
       "4  000b8d89c738bd.jpg   da9cc7804e3a b29b59f352f5 e133efaea0f4 9a1324..."
      ]
     },
     "execution_count": 16,
     "metadata": {},
     "output_type": "execute_result"
    }
   ],
   "source": [
    "predictions = dbscan_predict(dbscan_model, image_embs, test_image_embs)\n",
    "\n",
    "\n",
    "def process_preds(pred):\n",
    "    s = \" \"\n",
    "    if pred[0] == -1:\n",
    "        s += \"new_individual \"\n",
    "    else:\n",
    "        s += str(pred[0]) + \" \"\n",
    "\n",
    "    s += \" \".join([str(x) for x in pred[1:]])\n",
    "\n",
    "    s.strip()\n",
    "\n",
    "    return s\n",
    "\n",
    "test.loc[:, 'predlist'] = predictions\n",
    "test.loc[:, 'predictions'] = test['predlist'].apply(process_preds)\n",
    "\n",
    "test[['image', 'predictions']].to_csv(\"submission.csv\", index=False)\n",
    "pd.read_csv(\"submission.csv\").head()"
   ]
  },
  {
   "cell_type": "code",
   "execution_count": null,
   "id": "7dae0ed3",
   "metadata": {
    "papermill": {
     "duration": 0.058603,
     "end_time": "2022-02-15T16:41:01.721412",
     "exception": false,
     "start_time": "2022-02-15T16:41:01.662809",
     "status": "completed"
    },
    "tags": []
   },
   "outputs": [],
   "source": []
  },
  {
   "cell_type": "markdown",
   "id": "7881dec9",
   "metadata": {
    "papermill": {
     "duration": 0.049492,
     "end_time": "2022-02-15T16:41:01.822088",
     "exception": false,
     "start_time": "2022-02-15T16:41:01.772596",
     "status": "completed"
    },
    "tags": []
   },
   "source": [
    "<br>\n",
    "<h1 style=\"text-align: left; font-family: roboto; font-size: 25px; font-style: normal; font-weight: bold; text-decoration: none; text-transform: none; letter-spacing: 3px; color: #c75d16; background-color: #ffffff;\">\n",
    "POSSIBLE IMPROVEMENTS\n",
    "</h1>\n",
    "\n",
    "<ul>\n",
    "    <li> We can use larger efficientnets to extract embeddings. </li>\n",
    "    <li> We can train all the folds with DBSCAN and then combine the predictions  </li>\n",
    "    <li> We can also train the efficients with ArcFace loss and then perform DBSCAN for better clusters </li>\n",
    "</ul>\n",
    "\n",
    "<h1 style=\"text-align: left; font-family: roboto; font-size: 20px; font-style: normal; font-weight: none; text-decoration: none; text-transform: none; font-variant: none;  color: #eb8f52; background-color: #ffffff;\">\n",
    "    Show your appreciation by a simple upvote! 😊\n",
    "\n",
    "</h1>"
   ]
  },
  {
   "cell_type": "code",
   "execution_count": null,
   "id": "e3bfdb46",
   "metadata": {
    "papermill": {
     "duration": 0.049776,
     "end_time": "2022-02-15T16:41:01.920972",
     "exception": false,
     "start_time": "2022-02-15T16:41:01.871196",
     "status": "completed"
    },
    "tags": []
   },
   "outputs": [],
   "source": []
  },
  {
   "cell_type": "code",
   "execution_count": null,
   "id": "beb0fc61",
   "metadata": {
    "papermill": {
     "duration": 0.035138,
     "end_time": "2022-02-15T16:41:02.005357",
     "exception": false,
     "start_time": "2022-02-15T16:41:01.970219",
     "status": "completed"
    },
    "tags": []
   },
   "outputs": [],
   "source": []
  }
 ],
 "metadata": {
  "kernelspec": {
   "display_name": "Python 3",
   "language": "python",
   "name": "python3"
  },
  "language_info": {
   "codemirror_mode": {
    "name": "ipython",
    "version": 3
   },
   "file_extension": ".py",
   "mimetype": "text/x-python",
   "name": "python",
   "nbconvert_exporter": "python",
   "pygments_lexer": "ipython3",
   "version": "3.7.12"
  },
  "papermill": {
   "default_parameters": {},
   "duration": 22040.155683,
   "end_time": "2022-02-15T16:41:05.322728",
   "environment_variables": {},
   "exception": null,
   "input_path": "__notebook__.ipynb",
   "output_path": "__notebook__.ipynb",
   "parameters": {},
   "start_time": "2022-02-15T10:33:45.167045",
   "version": "2.3.3"
  },
  "widgets": {
   "application/vnd.jupyter.widget-state+json": {
    "state": {
     "08d57870e6c64be886727d4bd140c044": {
      "model_module": "@jupyter-widgets/controls",
      "model_module_version": "1.5.0",
      "model_name": "FloatProgressModel",
      "state": {
       "_dom_classes": [],
       "_model_module": "@jupyter-widgets/controls",
       "_model_module_version": "1.5.0",
       "_model_name": "FloatProgressModel",
       "_view_count": null,
       "_view_module": "@jupyter-widgets/controls",
       "_view_module_version": "1.5.0",
       "_view_name": "ProgressView",
       "bar_style": "success",
       "description": "",
       "description_tooltip": null,
       "layout": "IPY_MODEL_e528f27bc0d24823a1e7b15e836819e0",
       "max": 60.0,
       "min": 0.0,
       "orientation": "horizontal",
       "style": "IPY_MODEL_58b561055fcb4dd8babca56374800c86",
       "value": 60.0
      }
     },
     "0aa9804a40824b6697e91982e9c454e2": {
      "model_module": "@jupyter-widgets/base",
      "model_module_version": "1.2.0",
      "model_name": "LayoutModel",
      "state": {
       "_model_module": "@jupyter-widgets/base",
       "_model_module_version": "1.2.0",
       "_model_name": "LayoutModel",
       "_view_count": null,
       "_view_module": "@jupyter-widgets/base",
       "_view_module_version": "1.2.0",
       "_view_name": "LayoutView",
       "align_content": null,
       "align_items": null,
       "align_self": null,
       "border": null,
       "bottom": null,
       "display": null,
       "flex": null,
       "flex_flow": null,
       "grid_area": null,
       "grid_auto_columns": null,
       "grid_auto_flow": null,
       "grid_auto_rows": null,
       "grid_column": null,
       "grid_gap": null,
       "grid_row": null,
       "grid_template_areas": null,
       "grid_template_columns": null,
       "grid_template_rows": null,
       "height": null,
       "justify_content": null,
       "justify_items": null,
       "left": null,
       "margin": null,
       "max_height": null,
       "max_width": null,
       "min_height": null,
       "min_width": null,
       "object_fit": null,
       "object_position": null,
       "order": null,
       "overflow": null,
       "overflow_x": null,
       "overflow_y": null,
       "padding": null,
       "right": null,
       "top": null,
       "visibility": null,
       "width": null
      }
     },
     "0ae9203221834c96b38dd9a74c190a07": {
      "model_module": "@jupyter-widgets/base",
      "model_module_version": "1.2.0",
      "model_name": "LayoutModel",
      "state": {
       "_model_module": "@jupyter-widgets/base",
       "_model_module_version": "1.2.0",
       "_model_name": "LayoutModel",
       "_view_count": null,
       "_view_module": "@jupyter-widgets/base",
       "_view_module_version": "1.2.0",
       "_view_name": "LayoutView",
       "align_content": null,
       "align_items": null,
       "align_self": null,
       "border": null,
       "bottom": null,
       "display": null,
       "flex": null,
       "flex_flow": null,
       "grid_area": null,
       "grid_auto_columns": null,
       "grid_auto_flow": null,
       "grid_auto_rows": null,
       "grid_column": null,
       "grid_gap": null,
       "grid_row": null,
       "grid_template_areas": null,
       "grid_template_columns": null,
       "grid_template_rows": null,
       "height": null,
       "justify_content": null,
       "justify_items": null,
       "left": null,
       "margin": null,
       "max_height": null,
       "max_width": null,
       "min_height": null,
       "min_width": null,
       "object_fit": null,
       "object_position": null,
       "order": null,
       "overflow": null,
       "overflow_x": null,
       "overflow_y": null,
       "padding": null,
       "right": null,
       "top": null,
       "visibility": null,
       "width": null
      }
     },
     "0c85328f3fa441b0a443aa1ce152ee52": {
      "model_module": "@jupyter-widgets/base",
      "model_module_version": "1.2.0",
      "model_name": "LayoutModel",
      "state": {
       "_model_module": "@jupyter-widgets/base",
       "_model_module_version": "1.2.0",
       "_model_name": "LayoutModel",
       "_view_count": null,
       "_view_module": "@jupyter-widgets/base",
       "_view_module_version": "1.2.0",
       "_view_name": "LayoutView",
       "align_content": null,
       "align_items": null,
       "align_self": null,
       "border": null,
       "bottom": null,
       "display": null,
       "flex": null,
       "flex_flow": null,
       "grid_area": null,
       "grid_auto_columns": null,
       "grid_auto_flow": null,
       "grid_auto_rows": null,
       "grid_column": null,
       "grid_gap": null,
       "grid_row": null,
       "grid_template_areas": null,
       "grid_template_columns": null,
       "grid_template_rows": null,
       "height": null,
       "justify_content": null,
       "justify_items": null,
       "left": null,
       "margin": null,
       "max_height": null,
       "max_width": null,
       "min_height": null,
       "min_width": null,
       "object_fit": null,
       "object_position": null,
       "order": null,
       "overflow": null,
       "overflow_x": null,
       "overflow_y": null,
       "padding": null,
       "right": null,
       "top": null,
       "visibility": null,
       "width": null
      }
     },
     "13884e81714b4e029a5f1fd1c1d13a44": {
      "model_module": "@jupyter-widgets/base",
      "model_module_version": "1.2.0",
      "model_name": "LayoutModel",
      "state": {
       "_model_module": "@jupyter-widgets/base",
       "_model_module_version": "1.2.0",
       "_model_name": "LayoutModel",
       "_view_count": null,
       "_view_module": "@jupyter-widgets/base",
       "_view_module_version": "1.2.0",
       "_view_name": "LayoutView",
       "align_content": null,
       "align_items": null,
       "align_self": null,
       "border": null,
       "bottom": null,
       "display": null,
       "flex": null,
       "flex_flow": null,
       "grid_area": null,
       "grid_auto_columns": null,
       "grid_auto_flow": null,
       "grid_auto_rows": null,
       "grid_column": null,
       "grid_gap": null,
       "grid_row": null,
       "grid_template_areas": null,
       "grid_template_columns": null,
       "grid_template_rows": null,
       "height": null,
       "justify_content": null,
       "justify_items": null,
       "left": null,
       "margin": null,
       "max_height": null,
       "max_width": null,
       "min_height": null,
       "min_width": null,
       "object_fit": null,
       "object_position": null,
       "order": null,
       "overflow": null,
       "overflow_x": null,
       "overflow_y": null,
       "padding": null,
       "right": null,
       "top": null,
       "visibility": null,
       "width": null
      }
     },
     "1d98521af98241908b00929c2b8e13d2": {
      "model_module": "@jupyter-widgets/controls",
      "model_module_version": "1.5.0",
      "model_name": "HTMLModel",
      "state": {
       "_dom_classes": [],
       "_model_module": "@jupyter-widgets/controls",
       "_model_module_version": "1.5.0",
       "_model_name": "HTMLModel",
       "_view_count": null,
       "_view_module": "@jupyter-widgets/controls",
       "_view_module_version": "1.5.0",
       "_view_name": "HTMLView",
       "description": "",
       "description_tooltip": null,
       "layout": "IPY_MODEL_349ee8525f7447d3ad81d3c23db53733",
       "placeholder": "​",
       "style": "IPY_MODEL_a86262d7efe141c9b5942d90e38f4ca6",
       "value": "100%"
      }
     },
     "2519fff4280346518dcd5e45b8c50f7b": {
      "model_module": "@jupyter-widgets/base",
      "model_module_version": "1.2.0",
      "model_name": "LayoutModel",
      "state": {
       "_model_module": "@jupyter-widgets/base",
       "_model_module_version": "1.2.0",
       "_model_name": "LayoutModel",
       "_view_count": null,
       "_view_module": "@jupyter-widgets/base",
       "_view_module_version": "1.2.0",
       "_view_name": "LayoutView",
       "align_content": null,
       "align_items": null,
       "align_self": null,
       "border": null,
       "bottom": null,
       "display": null,
       "flex": null,
       "flex_flow": null,
       "grid_area": null,
       "grid_auto_columns": null,
       "grid_auto_flow": null,
       "grid_auto_rows": null,
       "grid_column": null,
       "grid_gap": null,
       "grid_row": null,
       "grid_template_areas": null,
       "grid_template_columns": null,
       "grid_template_rows": null,
       "height": null,
       "justify_content": null,
       "justify_items": null,
       "left": null,
       "margin": null,
       "max_height": null,
       "max_width": null,
       "min_height": null,
       "min_width": null,
       "object_fit": null,
       "object_position": null,
       "order": null,
       "overflow": null,
       "overflow_x": null,
       "overflow_y": null,
       "padding": null,
       "right": null,
       "top": null,
       "visibility": null,
       "width": null
      }
     },
     "2afcd79502ad41ed85b5fa03f4a455a0": {
      "model_module": "@jupyter-widgets/base",
      "model_module_version": "1.2.0",
      "model_name": "LayoutModel",
      "state": {
       "_model_module": "@jupyter-widgets/base",
       "_model_module_version": "1.2.0",
       "_model_name": "LayoutModel",
       "_view_count": null,
       "_view_module": "@jupyter-widgets/base",
       "_view_module_version": "1.2.0",
       "_view_name": "LayoutView",
       "align_content": null,
       "align_items": null,
       "align_self": null,
       "border": null,
       "bottom": null,
       "display": null,
       "flex": null,
       "flex_flow": null,
       "grid_area": null,
       "grid_auto_columns": null,
       "grid_auto_flow": null,
       "grid_auto_rows": null,
       "grid_column": null,
       "grid_gap": null,
       "grid_row": null,
       "grid_template_areas": null,
       "grid_template_columns": null,
       "grid_template_rows": null,
       "height": null,
       "justify_content": null,
       "justify_items": null,
       "left": null,
       "margin": null,
       "max_height": null,
       "max_width": null,
       "min_height": null,
       "min_width": null,
       "object_fit": null,
       "object_position": null,
       "order": null,
       "overflow": null,
       "overflow_x": null,
       "overflow_y": null,
       "padding": null,
       "right": null,
       "top": null,
       "visibility": null,
       "width": null
      }
     },
     "2ca3de849a99472ea936d4e0bd76dcec": {
      "model_module": "@jupyter-widgets/controls",
      "model_module_version": "1.5.0",
      "model_name": "ProgressStyleModel",
      "state": {
       "_model_module": "@jupyter-widgets/controls",
       "_model_module_version": "1.5.0",
       "_model_name": "ProgressStyleModel",
       "_view_count": null,
       "_view_module": "@jupyter-widgets/base",
       "_view_module_version": "1.2.0",
       "_view_name": "StyleView",
       "bar_color": null,
       "description_width": ""
      }
     },
     "349ee8525f7447d3ad81d3c23db53733": {
      "model_module": "@jupyter-widgets/base",
      "model_module_version": "1.2.0",
      "model_name": "LayoutModel",
      "state": {
       "_model_module": "@jupyter-widgets/base",
       "_model_module_version": "1.2.0",
       "_model_name": "LayoutModel",
       "_view_count": null,
       "_view_module": "@jupyter-widgets/base",
       "_view_module_version": "1.2.0",
       "_view_name": "LayoutView",
       "align_content": null,
       "align_items": null,
       "align_self": null,
       "border": null,
       "bottom": null,
       "display": null,
       "flex": null,
       "flex_flow": null,
       "grid_area": null,
       "grid_auto_columns": null,
       "grid_auto_flow": null,
       "grid_auto_rows": null,
       "grid_column": null,
       "grid_gap": null,
       "grid_row": null,
       "grid_template_areas": null,
       "grid_template_columns": null,
       "grid_template_rows": null,
       "height": null,
       "justify_content": null,
       "justify_items": null,
       "left": null,
       "margin": null,
       "max_height": null,
       "max_width": null,
       "min_height": null,
       "min_width": null,
       "object_fit": null,
       "object_position": null,
       "order": null,
       "overflow": null,
       "overflow_x": null,
       "overflow_y": null,
       "padding": null,
       "right": null,
       "top": null,
       "visibility": null,
       "width": null
      }
     },
     "3668e98a935543f5b2ad725e9bc2e199": {
      "model_module": "@jupyter-widgets/base",
      "model_module_version": "1.2.0",
      "model_name": "LayoutModel",
      "state": {
       "_model_module": "@jupyter-widgets/base",
       "_model_module_version": "1.2.0",
       "_model_name": "LayoutModel",
       "_view_count": null,
       "_view_module": "@jupyter-widgets/base",
       "_view_module_version": "1.2.0",
       "_view_name": "LayoutView",
       "align_content": null,
       "align_items": null,
       "align_self": null,
       "border": null,
       "bottom": null,
       "display": null,
       "flex": null,
       "flex_flow": null,
       "grid_area": null,
       "grid_auto_columns": null,
       "grid_auto_flow": null,
       "grid_auto_rows": null,
       "grid_column": null,
       "grid_gap": null,
       "grid_row": null,
       "grid_template_areas": null,
       "grid_template_columns": null,
       "grid_template_rows": null,
       "height": null,
       "justify_content": null,
       "justify_items": null,
       "left": null,
       "margin": null,
       "max_height": null,
       "max_width": null,
       "min_height": null,
       "min_width": null,
       "object_fit": null,
       "object_position": null,
       "order": null,
       "overflow": null,
       "overflow_x": null,
       "overflow_y": null,
       "padding": null,
       "right": null,
       "top": null,
       "visibility": null,
       "width": null
      }
     },
     "3945e66ee7134a948f21cd5f89a8c9d1": {
      "model_module": "@jupyter-widgets/controls",
      "model_module_version": "1.5.0",
      "model_name": "ProgressStyleModel",
      "state": {
       "_model_module": "@jupyter-widgets/controls",
       "_model_module_version": "1.5.0",
       "_model_name": "ProgressStyleModel",
       "_view_count": null,
       "_view_module": "@jupyter-widgets/base",
       "_view_module_version": "1.2.0",
       "_view_name": "StyleView",
       "bar_color": null,
       "description_width": ""
      }
     },
     "412f8ac0ccc5449a94937ab5b3c21372": {
      "model_module": "@jupyter-widgets/controls",
      "model_module_version": "1.5.0",
      "model_name": "HTMLModel",
      "state": {
       "_dom_classes": [],
       "_model_module": "@jupyter-widgets/controls",
       "_model_module_version": "1.5.0",
       "_model_name": "HTMLModel",
       "_view_count": null,
       "_view_module": "@jupyter-widgets/controls",
       "_view_module_version": "1.5.0",
       "_view_name": "HTMLView",
       "description": "",
       "description_tooltip": null,
       "layout": "IPY_MODEL_2afcd79502ad41ed85b5fa03f4a455a0",
       "placeholder": "​",
       "style": "IPY_MODEL_54710199355b47418f0c897cddd03fe0",
       "value": "100%"
      }
     },
     "41c235467dc54560b382f226c3dcf329": {
      "model_module": "@jupyter-widgets/base",
      "model_module_version": "1.2.0",
      "model_name": "LayoutModel",
      "state": {
       "_model_module": "@jupyter-widgets/base",
       "_model_module_version": "1.2.0",
       "_model_name": "LayoutModel",
       "_view_count": null,
       "_view_module": "@jupyter-widgets/base",
       "_view_module_version": "1.2.0",
       "_view_name": "LayoutView",
       "align_content": null,
       "align_items": null,
       "align_self": null,
       "border": null,
       "bottom": null,
       "display": null,
       "flex": null,
       "flex_flow": null,
       "grid_area": null,
       "grid_auto_columns": null,
       "grid_auto_flow": null,
       "grid_auto_rows": null,
       "grid_column": null,
       "grid_gap": null,
       "grid_row": null,
       "grid_template_areas": null,
       "grid_template_columns": null,
       "grid_template_rows": null,
       "height": null,
       "justify_content": null,
       "justify_items": null,
       "left": null,
       "margin": null,
       "max_height": null,
       "max_width": null,
       "min_height": null,
       "min_width": null,
       "object_fit": null,
       "object_position": null,
       "order": null,
       "overflow": null,
       "overflow_x": null,
       "overflow_y": null,
       "padding": null,
       "right": null,
       "top": null,
       "visibility": null,
       "width": null
      }
     },
     "452923c4d3c3470bac9a2177a3067cb3": {
      "model_module": "@jupyter-widgets/controls",
      "model_module_version": "1.5.0",
      "model_name": "HBoxModel",
      "state": {
       "_dom_classes": [],
       "_model_module": "@jupyter-widgets/controls",
       "_model_module_version": "1.5.0",
       "_model_name": "HBoxModel",
       "_view_count": null,
       "_view_module": "@jupyter-widgets/controls",
       "_view_module_version": "1.5.0",
       "_view_name": "HBoxView",
       "box_style": "",
       "children": [
        "IPY_MODEL_b8622e62b85b4726bfbef3dc7cdcf649",
        "IPY_MODEL_5ea00643ee9e4ae7a72df0777813d590",
        "IPY_MODEL_f4ca5b2b70ef45d295cac4af35b29b39"
       ],
       "layout": "IPY_MODEL_a692e5e7246b48bba0b7bcc1553192f7"
      }
     },
     "4558a097ed5e4914a795537f86e0cc88": {
      "model_module": "@jupyter-widgets/controls",
      "model_module_version": "1.5.0",
      "model_name": "HTMLModel",
      "state": {
       "_dom_classes": [],
       "_model_module": "@jupyter-widgets/controls",
       "_model_module_version": "1.5.0",
       "_model_name": "HTMLModel",
       "_view_count": null,
       "_view_module": "@jupyter-widgets/controls",
       "_view_module_version": "1.5.0",
       "_view_name": "HTMLView",
       "description": "",
       "description_tooltip": null,
       "layout": "IPY_MODEL_3668e98a935543f5b2ad725e9bc2e199",
       "placeholder": "​",
       "style": "IPY_MODEL_5e8987ee38f44233a99ff2bf608c720a",
       "value": "100%"
      }
     },
     "54710199355b47418f0c897cddd03fe0": {
      "model_module": "@jupyter-widgets/controls",
      "model_module_version": "1.5.0",
      "model_name": "DescriptionStyleModel",
      "state": {
       "_model_module": "@jupyter-widgets/controls",
       "_model_module_version": "1.5.0",
       "_model_name": "DescriptionStyleModel",
       "_view_count": null,
       "_view_module": "@jupyter-widgets/base",
       "_view_module_version": "1.2.0",
       "_view_name": "StyleView",
       "description_width": ""
      }
     },
     "575afb8b44c043a0a3e7dadad783480c": {
      "model_module": "@jupyter-widgets/base",
      "model_module_version": "1.2.0",
      "model_name": "LayoutModel",
      "state": {
       "_model_module": "@jupyter-widgets/base",
       "_model_module_version": "1.2.0",
       "_model_name": "LayoutModel",
       "_view_count": null,
       "_view_module": "@jupyter-widgets/base",
       "_view_module_version": "1.2.0",
       "_view_name": "LayoutView",
       "align_content": null,
       "align_items": null,
       "align_self": null,
       "border": null,
       "bottom": null,
       "display": null,
       "flex": null,
       "flex_flow": null,
       "grid_area": null,
       "grid_auto_columns": null,
       "grid_auto_flow": null,
       "grid_auto_rows": null,
       "grid_column": null,
       "grid_gap": null,
       "grid_row": null,
       "grid_template_areas": null,
       "grid_template_columns": null,
       "grid_template_rows": null,
       "height": null,
       "justify_content": null,
       "justify_items": null,
       "left": null,
       "margin": null,
       "max_height": null,
       "max_width": null,
       "min_height": null,
       "min_width": null,
       "object_fit": null,
       "object_position": null,
       "order": null,
       "overflow": null,
       "overflow_x": null,
       "overflow_y": null,
       "padding": null,
       "right": null,
       "top": null,
       "visibility": null,
       "width": null
      }
     },
     "58b561055fcb4dd8babca56374800c86": {
      "model_module": "@jupyter-widgets/controls",
      "model_module_version": "1.5.0",
      "model_name": "ProgressStyleModel",
      "state": {
       "_model_module": "@jupyter-widgets/controls",
       "_model_module_version": "1.5.0",
       "_model_name": "ProgressStyleModel",
       "_view_count": null,
       "_view_module": "@jupyter-widgets/base",
       "_view_module_version": "1.2.0",
       "_view_name": "StyleView",
       "bar_color": null,
       "description_width": ""
      }
     },
     "5e8987ee38f44233a99ff2bf608c720a": {
      "model_module": "@jupyter-widgets/controls",
      "model_module_version": "1.5.0",
      "model_name": "DescriptionStyleModel",
      "state": {
       "_model_module": "@jupyter-widgets/controls",
       "_model_module_version": "1.5.0",
       "_model_name": "DescriptionStyleModel",
       "_view_count": null,
       "_view_module": "@jupyter-widgets/base",
       "_view_module_version": "1.2.0",
       "_view_name": "StyleView",
       "description_width": ""
      }
     },
     "5ea00643ee9e4ae7a72df0777813d590": {
      "model_module": "@jupyter-widgets/controls",
      "model_module_version": "1.5.0",
      "model_name": "FloatProgressModel",
      "state": {
       "_dom_classes": [],
       "_model_module": "@jupyter-widgets/controls",
       "_model_module_version": "1.5.0",
       "_model_name": "FloatProgressModel",
       "_view_count": null,
       "_view_module": "@jupyter-widgets/controls",
       "_view_module_version": "1.5.0",
       "_view_name": "ProgressView",
       "bar_style": "success",
       "description": "",
       "description_tooltip": null,
       "layout": "IPY_MODEL_2519fff4280346518dcd5e45b8c50f7b",
       "max": 1748.0,
       "min": 0.0,
       "orientation": "horizontal",
       "style": "IPY_MODEL_3945e66ee7134a948f21cd5f89a8c9d1",
       "value": 1748.0
      }
     },
     "5effb25e357440c08a75b30c41c00964": {
      "model_module": "@jupyter-widgets/controls",
      "model_module_version": "1.5.0",
      "model_name": "ProgressStyleModel",
      "state": {
       "_model_module": "@jupyter-widgets/controls",
       "_model_module_version": "1.5.0",
       "_model_name": "ProgressStyleModel",
       "_view_count": null,
       "_view_module": "@jupyter-widgets/base",
       "_view_module_version": "1.2.0",
       "_view_name": "StyleView",
       "bar_color": null,
       "description_width": ""
      }
     },
     "5f0bce0c4a7046f1bdc9c071fb74a517": {
      "model_module": "@jupyter-widgets/controls",
      "model_module_version": "1.5.0",
      "model_name": "FloatProgressModel",
      "state": {
       "_dom_classes": [],
       "_model_module": "@jupyter-widgets/controls",
       "_model_module_version": "1.5.0",
       "_model_name": "FloatProgressModel",
       "_view_count": null,
       "_view_module": "@jupyter-widgets/controls",
       "_view_module_version": "1.5.0",
       "_view_name": "ProgressView",
       "bar_style": "success",
       "description": "",
       "description_tooltip": null,
       "layout": "IPY_MODEL_0aa9804a40824b6697e91982e9c454e2",
       "max": 27956.0,
       "min": 0.0,
       "orientation": "horizontal",
       "style": "IPY_MODEL_2ca3de849a99472ea936d4e0bd76dcec",
       "value": 27956.0
      }
     },
     "64a1957dcea942398058d1a76610e853": {
      "model_module": "@jupyter-widgets/controls",
      "model_module_version": "1.5.0",
      "model_name": "ProgressStyleModel",
      "state": {
       "_model_module": "@jupyter-widgets/controls",
       "_model_module_version": "1.5.0",
       "_model_name": "ProgressStyleModel",
       "_view_count": null,
       "_view_module": "@jupyter-widgets/base",
       "_view_module_version": "1.2.0",
       "_view_name": "StyleView",
       "bar_color": null,
       "description_width": ""
      }
     },
     "6933c33c70874652b02c2fff178614f0": {
      "model_module": "@jupyter-widgets/controls",
      "model_module_version": "1.5.0",
      "model_name": "HBoxModel",
      "state": {
       "_dom_classes": [],
       "_model_module": "@jupyter-widgets/controls",
       "_model_module_version": "1.5.0",
       "_model_name": "HBoxModel",
       "_view_count": null,
       "_view_module": "@jupyter-widgets/controls",
       "_view_module_version": "1.5.0",
       "_view_name": "HBoxView",
       "box_style": "",
       "children": [
        "IPY_MODEL_4558a097ed5e4914a795537f86e0cc88",
        "IPY_MODEL_cb1f97639b3c4564be2f3be39b613010",
        "IPY_MODEL_d3b4dec662354ab49e3647337c383ba1"
       ],
       "layout": "IPY_MODEL_575afb8b44c043a0a3e7dadad783480c"
      }
     },
     "69c1e7b32da5478a95c6e4fbbf8d9970": {
      "model_module": "@jupyter-widgets/controls",
      "model_module_version": "1.5.0",
      "model_name": "DescriptionStyleModel",
      "state": {
       "_model_module": "@jupyter-widgets/controls",
       "_model_module_version": "1.5.0",
       "_model_name": "DescriptionStyleModel",
       "_view_count": null,
       "_view_module": "@jupyter-widgets/base",
       "_view_module_version": "1.2.0",
       "_view_name": "StyleView",
       "description_width": ""
      }
     },
     "6c3ee6c244ca420b8c911bcaff09e541": {
      "model_module": "@jupyter-widgets/controls",
      "model_module_version": "1.5.0",
      "model_name": "DescriptionStyleModel",
      "state": {
       "_model_module": "@jupyter-widgets/controls",
       "_model_module_version": "1.5.0",
       "_model_name": "DescriptionStyleModel",
       "_view_count": null,
       "_view_module": "@jupyter-widgets/base",
       "_view_module_version": "1.2.0",
       "_view_name": "StyleView",
       "description_width": ""
      }
     },
     "764b4e6eef8f403c95212232cbe82b88": {
      "model_module": "@jupyter-widgets/controls",
      "model_module_version": "1.5.0",
      "model_name": "DescriptionStyleModel",
      "state": {
       "_model_module": "@jupyter-widgets/controls",
       "_model_module_version": "1.5.0",
       "_model_name": "DescriptionStyleModel",
       "_view_count": null,
       "_view_module": "@jupyter-widgets/base",
       "_view_module_version": "1.2.0",
       "_view_name": "StyleView",
       "description_width": ""
      }
     },
     "76acf45bc4a74364a619f63cacca30d1": {
      "model_module": "@jupyter-widgets/controls",
      "model_module_version": "1.5.0",
      "model_name": "HTMLModel",
      "state": {
       "_dom_classes": [],
       "_model_module": "@jupyter-widgets/controls",
       "_model_module_version": "1.5.0",
       "_model_name": "HTMLModel",
       "_view_count": null,
       "_view_module": "@jupyter-widgets/controls",
       "_view_module_version": "1.5.0",
       "_view_name": "HTMLView",
       "description": "",
       "description_tooltip": null,
       "layout": "IPY_MODEL_41c235467dc54560b382f226c3dcf329",
       "placeholder": "​",
       "style": "IPY_MODEL_7e68644b462a4357b080d2d002043166",
       "value": "100%"
      }
     },
     "77966ef6abf149fcb7ea16df528766e8": {
      "model_module": "@jupyter-widgets/base",
      "model_module_version": "1.2.0",
      "model_name": "LayoutModel",
      "state": {
       "_model_module": "@jupyter-widgets/base",
       "_model_module_version": "1.2.0",
       "_model_name": "LayoutModel",
       "_view_count": null,
       "_view_module": "@jupyter-widgets/base",
       "_view_module_version": "1.2.0",
       "_view_name": "LayoutView",
       "align_content": null,
       "align_items": null,
       "align_self": null,
       "border": null,
       "bottom": null,
       "display": null,
       "flex": null,
       "flex_flow": null,
       "grid_area": null,
       "grid_auto_columns": null,
       "grid_auto_flow": null,
       "grid_auto_rows": null,
       "grid_column": null,
       "grid_gap": null,
       "grid_row": null,
       "grid_template_areas": null,
       "grid_template_columns": null,
       "grid_template_rows": null,
       "height": null,
       "justify_content": null,
       "justify_items": null,
       "left": null,
       "margin": null,
       "max_height": null,
       "max_width": null,
       "min_height": null,
       "min_width": null,
       "object_fit": null,
       "object_position": null,
       "order": null,
       "overflow": null,
       "overflow_x": null,
       "overflow_y": null,
       "padding": null,
       "right": null,
       "top": null,
       "visibility": null,
       "width": null
      }
     },
     "7ddc0636f52643cdb6d79353aea87fa6": {
      "model_module": "@jupyter-widgets/controls",
      "model_module_version": "1.5.0",
      "model_name": "HTMLModel",
      "state": {
       "_dom_classes": [],
       "_model_module": "@jupyter-widgets/controls",
       "_model_module_version": "1.5.0",
       "_model_name": "HTMLModel",
       "_view_count": null,
       "_view_module": "@jupyter-widgets/controls",
       "_view_module_version": "1.5.0",
       "_view_name": "HTMLView",
       "description": "",
       "description_tooltip": null,
       "layout": "IPY_MODEL_13884e81714b4e029a5f1fd1c1d13a44",
       "placeholder": "​",
       "style": "IPY_MODEL_c7d124ac1d06479488a7ac59d056879a",
       "value": " 60/60 [02:39&lt;00:00,  2.92s/it]"
      }
     },
     "7e68644b462a4357b080d2d002043166": {
      "model_module": "@jupyter-widgets/controls",
      "model_module_version": "1.5.0",
      "model_name": "DescriptionStyleModel",
      "state": {
       "_model_module": "@jupyter-widgets/controls",
       "_model_module_version": "1.5.0",
       "_model_name": "DescriptionStyleModel",
       "_view_count": null,
       "_view_module": "@jupyter-widgets/base",
       "_view_module_version": "1.2.0",
       "_view_name": "StyleView",
       "description_width": ""
      }
     },
     "82bb0400fde74428a1788125bd7cf0c9": {
      "model_module": "@jupyter-widgets/base",
      "model_module_version": "1.2.0",
      "model_name": "LayoutModel",
      "state": {
       "_model_module": "@jupyter-widgets/base",
       "_model_module_version": "1.2.0",
       "_model_name": "LayoutModel",
       "_view_count": null,
       "_view_module": "@jupyter-widgets/base",
       "_view_module_version": "1.2.0",
       "_view_name": "LayoutView",
       "align_content": null,
       "align_items": null,
       "align_self": null,
       "border": null,
       "bottom": null,
       "display": null,
       "flex": null,
       "flex_flow": null,
       "grid_area": null,
       "grid_auto_columns": null,
       "grid_auto_flow": null,
       "grid_auto_rows": null,
       "grid_column": null,
       "grid_gap": null,
       "grid_row": null,
       "grid_template_areas": null,
       "grid_template_columns": null,
       "grid_template_rows": null,
       "height": null,
       "justify_content": null,
       "justify_items": null,
       "left": null,
       "margin": null,
       "max_height": null,
       "max_width": null,
       "min_height": null,
       "min_width": null,
       "object_fit": null,
       "object_position": null,
       "order": null,
       "overflow": null,
       "overflow_x": null,
       "overflow_y": null,
       "padding": null,
       "right": null,
       "top": null,
       "visibility": null,
       "width": null
      }
     },
     "82f5e2f6ce3a4d019b22d6521e4460f0": {
      "model_module": "@jupyter-widgets/base",
      "model_module_version": "1.2.0",
      "model_name": "LayoutModel",
      "state": {
       "_model_module": "@jupyter-widgets/base",
       "_model_module_version": "1.2.0",
       "_model_name": "LayoutModel",
       "_view_count": null,
       "_view_module": "@jupyter-widgets/base",
       "_view_module_version": "1.2.0",
       "_view_name": "LayoutView",
       "align_content": null,
       "align_items": null,
       "align_self": null,
       "border": null,
       "bottom": null,
       "display": null,
       "flex": null,
       "flex_flow": null,
       "grid_area": null,
       "grid_auto_columns": null,
       "grid_auto_flow": null,
       "grid_auto_rows": null,
       "grid_column": null,
       "grid_gap": null,
       "grid_row": null,
       "grid_template_areas": null,
       "grid_template_columns": null,
       "grid_template_rows": null,
       "height": null,
       "justify_content": null,
       "justify_items": null,
       "left": null,
       "margin": null,
       "max_height": null,
       "max_width": null,
       "min_height": null,
       "min_width": null,
       "object_fit": null,
       "object_position": null,
       "order": null,
       "overflow": null,
       "overflow_x": null,
       "overflow_y": null,
       "padding": null,
       "right": null,
       "top": null,
       "visibility": null,
       "width": null
      }
     },
     "85679e941d294983af62fb6231c9e6c7": {
      "model_module": "@jupyter-widgets/base",
      "model_module_version": "1.2.0",
      "model_name": "LayoutModel",
      "state": {
       "_model_module": "@jupyter-widgets/base",
       "_model_module_version": "1.2.0",
       "_model_name": "LayoutModel",
       "_view_count": null,
       "_view_module": "@jupyter-widgets/base",
       "_view_module_version": "1.2.0",
       "_view_name": "LayoutView",
       "align_content": null,
       "align_items": null,
       "align_self": null,
       "border": null,
       "bottom": null,
       "display": null,
       "flex": null,
       "flex_flow": null,
       "grid_area": null,
       "grid_auto_columns": null,
       "grid_auto_flow": null,
       "grid_auto_rows": null,
       "grid_column": null,
       "grid_gap": null,
       "grid_row": null,
       "grid_template_areas": null,
       "grid_template_columns": null,
       "grid_template_rows": null,
       "height": null,
       "justify_content": null,
       "justify_items": null,
       "left": null,
       "margin": null,
       "max_height": null,
       "max_width": null,
       "min_height": null,
       "min_width": null,
       "object_fit": null,
       "object_position": null,
       "order": null,
       "overflow": null,
       "overflow_x": null,
       "overflow_y": null,
       "padding": null,
       "right": null,
       "top": null,
       "visibility": null,
       "width": null
      }
     },
     "88cef705d44840fa81f74da4e3ce0a30": {
      "model_module": "@jupyter-widgets/base",
      "model_module_version": "1.2.0",
      "model_name": "LayoutModel",
      "state": {
       "_model_module": "@jupyter-widgets/base",
       "_model_module_version": "1.2.0",
       "_model_name": "LayoutModel",
       "_view_count": null,
       "_view_module": "@jupyter-widgets/base",
       "_view_module_version": "1.2.0",
       "_view_name": "LayoutView",
       "align_content": null,
       "align_items": null,
       "align_self": null,
       "border": null,
       "bottom": null,
       "display": null,
       "flex": null,
       "flex_flow": null,
       "grid_area": null,
       "grid_auto_columns": null,
       "grid_auto_flow": null,
       "grid_auto_rows": null,
       "grid_column": null,
       "grid_gap": null,
       "grid_row": null,
       "grid_template_areas": null,
       "grid_template_columns": null,
       "grid_template_rows": null,
       "height": null,
       "justify_content": null,
       "justify_items": null,
       "left": null,
       "margin": null,
       "max_height": null,
       "max_width": null,
       "min_height": null,
       "min_width": null,
       "object_fit": null,
       "object_position": null,
       "order": null,
       "overflow": null,
       "overflow_x": null,
       "overflow_y": null,
       "padding": null,
       "right": null,
       "top": null,
       "visibility": null,
       "width": null
      }
     },
     "92127e8ae89f4085965e01e3dabc5b7a": {
      "model_module": "@jupyter-widgets/controls",
      "model_module_version": "1.5.0",
      "model_name": "HTMLModel",
      "state": {
       "_dom_classes": [],
       "_model_module": "@jupyter-widgets/controls",
       "_model_module_version": "1.5.0",
       "_model_name": "HTMLModel",
       "_view_count": null,
       "_view_module": "@jupyter-widgets/controls",
       "_view_module_version": "1.5.0",
       "_view_name": "HTMLView",
       "description": "",
       "description_tooltip": null,
       "layout": "IPY_MODEL_77966ef6abf149fcb7ea16df528766e8",
       "placeholder": "​",
       "style": "IPY_MODEL_ea2953b4f0824d3ca6a223176deacc4c",
       "value": " 27956/27956 [4:17:12&lt;00:00,  1.86it/s]"
      }
     },
     "a2b1d23d72df45d893ef61deb18ba2d0": {
      "model_module": "@jupyter-widgets/controls",
      "model_module_version": "1.5.0",
      "model_name": "HTMLModel",
      "state": {
       "_dom_classes": [],
       "_model_module": "@jupyter-widgets/controls",
       "_model_module_version": "1.5.0",
       "_model_name": "HTMLModel",
       "_view_count": null,
       "_view_module": "@jupyter-widgets/controls",
       "_view_module_version": "1.5.0",
       "_view_name": "HTMLView",
       "description": "",
       "description_tooltip": null,
       "layout": "IPY_MODEL_85679e941d294983af62fb6231c9e6c7",
       "placeholder": "​",
       "style": "IPY_MODEL_764b4e6eef8f403c95212232cbe82b88",
       "value": " 3190/3190 [54:20&lt;00:00,  1.19it/s]"
      }
     },
     "a32a3675bf6145e2b2367c4a38389389": {
      "model_module": "@jupyter-widgets/base",
      "model_module_version": "1.2.0",
      "model_name": "LayoutModel",
      "state": {
       "_model_module": "@jupyter-widgets/base",
       "_model_module_version": "1.2.0",
       "_model_name": "LayoutModel",
       "_view_count": null,
       "_view_module": "@jupyter-widgets/base",
       "_view_module_version": "1.2.0",
       "_view_name": "LayoutView",
       "align_content": null,
       "align_items": null,
       "align_self": null,
       "border": null,
       "bottom": null,
       "display": null,
       "flex": null,
       "flex_flow": null,
       "grid_area": null,
       "grid_auto_columns": null,
       "grid_auto_flow": null,
       "grid_auto_rows": null,
       "grid_column": null,
       "grid_gap": null,
       "grid_row": null,
       "grid_template_areas": null,
       "grid_template_columns": null,
       "grid_template_rows": null,
       "height": null,
       "justify_content": null,
       "justify_items": null,
       "left": null,
       "margin": null,
       "max_height": null,
       "max_width": null,
       "min_height": null,
       "min_width": null,
       "object_fit": null,
       "object_position": null,
       "order": null,
       "overflow": null,
       "overflow_x": null,
       "overflow_y": null,
       "padding": null,
       "right": null,
       "top": null,
       "visibility": null,
       "width": null
      }
     },
     "a692e5e7246b48bba0b7bcc1553192f7": {
      "model_module": "@jupyter-widgets/base",
      "model_module_version": "1.2.0",
      "model_name": "LayoutModel",
      "state": {
       "_model_module": "@jupyter-widgets/base",
       "_model_module_version": "1.2.0",
       "_model_name": "LayoutModel",
       "_view_count": null,
       "_view_module": "@jupyter-widgets/base",
       "_view_module_version": "1.2.0",
       "_view_name": "LayoutView",
       "align_content": null,
       "align_items": null,
       "align_self": null,
       "border": null,
       "bottom": null,
       "display": null,
       "flex": null,
       "flex_flow": null,
       "grid_area": null,
       "grid_auto_columns": null,
       "grid_auto_flow": null,
       "grid_auto_rows": null,
       "grid_column": null,
       "grid_gap": null,
       "grid_row": null,
       "grid_template_areas": null,
       "grid_template_columns": null,
       "grid_template_rows": null,
       "height": null,
       "justify_content": null,
       "justify_items": null,
       "left": null,
       "margin": null,
       "max_height": null,
       "max_width": null,
       "min_height": null,
       "min_width": null,
       "object_fit": null,
       "object_position": null,
       "order": null,
       "overflow": null,
       "overflow_x": null,
       "overflow_y": null,
       "padding": null,
       "right": null,
       "top": null,
       "visibility": null,
       "width": null
      }
     },
     "a86262d7efe141c9b5942d90e38f4ca6": {
      "model_module": "@jupyter-widgets/controls",
      "model_module_version": "1.5.0",
      "model_name": "DescriptionStyleModel",
      "state": {
       "_model_module": "@jupyter-widgets/controls",
       "_model_module_version": "1.5.0",
       "_model_name": "DescriptionStyleModel",
       "_view_count": null,
       "_view_module": "@jupyter-widgets/base",
       "_view_module_version": "1.2.0",
       "_view_name": "StyleView",
       "description_width": ""
      }
     },
     "b8622e62b85b4726bfbef3dc7cdcf649": {
      "model_module": "@jupyter-widgets/controls",
      "model_module_version": "1.5.0",
      "model_name": "HTMLModel",
      "state": {
       "_dom_classes": [],
       "_model_module": "@jupyter-widgets/controls",
       "_model_module_version": "1.5.0",
       "_model_name": "HTMLModel",
       "_view_count": null,
       "_view_module": "@jupyter-widgets/controls",
       "_view_module_version": "1.5.0",
       "_view_name": "HTMLView",
       "description": "",
       "description_tooltip": null,
       "layout": "IPY_MODEL_e2aaae8595b84df78be1c9caba148754",
       "placeholder": "​",
       "style": "IPY_MODEL_cc2b5323f91e4b96b7fff7ecc4652a4e",
       "value": "100%"
      }
     },
     "c7d124ac1d06479488a7ac59d056879a": {
      "model_module": "@jupyter-widgets/controls",
      "model_module_version": "1.5.0",
      "model_name": "DescriptionStyleModel",
      "state": {
       "_model_module": "@jupyter-widgets/controls",
       "_model_module_version": "1.5.0",
       "_model_name": "DescriptionStyleModel",
       "_view_count": null,
       "_view_module": "@jupyter-widgets/base",
       "_view_module_version": "1.2.0",
       "_view_name": "StyleView",
       "description_width": ""
      }
     },
     "cb1f97639b3c4564be2f3be39b613010": {
      "model_module": "@jupyter-widgets/controls",
      "model_module_version": "1.5.0",
      "model_name": "FloatProgressModel",
      "state": {
       "_dom_classes": [],
       "_model_module": "@jupyter-widgets/controls",
       "_model_module_version": "1.5.0",
       "_model_name": "FloatProgressModel",
       "_view_count": null,
       "_view_module": "@jupyter-widgets/controls",
       "_view_module_version": "1.5.0",
       "_view_name": "ProgressView",
       "bar_style": "success",
       "description": "",
       "description_tooltip": null,
       "layout": "IPY_MODEL_82f5e2f6ce3a4d019b22d6521e4460f0",
       "max": 2500.0,
       "min": 0.0,
       "orientation": "horizontal",
       "style": "IPY_MODEL_5effb25e357440c08a75b30c41c00964",
       "value": 2500.0
      }
     },
     "cc2b5323f91e4b96b7fff7ecc4652a4e": {
      "model_module": "@jupyter-widgets/controls",
      "model_module_version": "1.5.0",
      "model_name": "DescriptionStyleModel",
      "state": {
       "_model_module": "@jupyter-widgets/controls",
       "_model_module_version": "1.5.0",
       "_model_name": "DescriptionStyleModel",
       "_view_count": null,
       "_view_module": "@jupyter-widgets/base",
       "_view_module_version": "1.2.0",
       "_view_name": "StyleView",
       "description_width": ""
      }
     },
     "d261add6b6724f95bf959b8ecf07e611": {
      "model_module": "@jupyter-widgets/base",
      "model_module_version": "1.2.0",
      "model_name": "LayoutModel",
      "state": {
       "_model_module": "@jupyter-widgets/base",
       "_model_module_version": "1.2.0",
       "_model_name": "LayoutModel",
       "_view_count": null,
       "_view_module": "@jupyter-widgets/base",
       "_view_module_version": "1.2.0",
       "_view_name": "LayoutView",
       "align_content": null,
       "align_items": null,
       "align_self": null,
       "border": null,
       "bottom": null,
       "display": null,
       "flex": null,
       "flex_flow": null,
       "grid_area": null,
       "grid_auto_columns": null,
       "grid_auto_flow": null,
       "grid_auto_rows": null,
       "grid_column": null,
       "grid_gap": null,
       "grid_row": null,
       "grid_template_areas": null,
       "grid_template_columns": null,
       "grid_template_rows": null,
       "height": null,
       "justify_content": null,
       "justify_items": null,
       "left": null,
       "margin": null,
       "max_height": null,
       "max_width": null,
       "min_height": null,
       "min_width": null,
       "object_fit": null,
       "object_position": null,
       "order": null,
       "overflow": null,
       "overflow_x": null,
       "overflow_y": null,
       "padding": null,
       "right": null,
       "top": null,
       "visibility": null,
       "width": null
      }
     },
     "d3b4dec662354ab49e3647337c383ba1": {
      "model_module": "@jupyter-widgets/controls",
      "model_module_version": "1.5.0",
      "model_name": "HTMLModel",
      "state": {
       "_dom_classes": [],
       "_model_module": "@jupyter-widgets/controls",
       "_model_module_version": "1.5.0",
       "_model_name": "HTMLModel",
       "_view_count": null,
       "_view_module": "@jupyter-widgets/controls",
       "_view_module_version": "1.5.0",
       "_view_name": "HTMLView",
       "description": "",
       "description_tooltip": null,
       "layout": "IPY_MODEL_a32a3675bf6145e2b2367c4a38389389",
       "placeholder": "​",
       "style": "IPY_MODEL_69c1e7b32da5478a95c6e4fbbf8d9970",
       "value": " 2500/2500 [22:57&lt;00:00,  1.82it/s]"
      }
     },
     "e2aaae8595b84df78be1c9caba148754": {
      "model_module": "@jupyter-widgets/base",
      "model_module_version": "1.2.0",
      "model_name": "LayoutModel",
      "state": {
       "_model_module": "@jupyter-widgets/base",
       "_model_module_version": "1.2.0",
       "_model_name": "LayoutModel",
       "_view_count": null,
       "_view_module": "@jupyter-widgets/base",
       "_view_module_version": "1.2.0",
       "_view_name": "LayoutView",
       "align_content": null,
       "align_items": null,
       "align_self": null,
       "border": null,
       "bottom": null,
       "display": null,
       "flex": null,
       "flex_flow": null,
       "grid_area": null,
       "grid_auto_columns": null,
       "grid_auto_flow": null,
       "grid_auto_rows": null,
       "grid_column": null,
       "grid_gap": null,
       "grid_row": null,
       "grid_template_areas": null,
       "grid_template_columns": null,
       "grid_template_rows": null,
       "height": null,
       "justify_content": null,
       "justify_items": null,
       "left": null,
       "margin": null,
       "max_height": null,
       "max_width": null,
       "min_height": null,
       "min_width": null,
       "object_fit": null,
       "object_position": null,
       "order": null,
       "overflow": null,
       "overflow_x": null,
       "overflow_y": null,
       "padding": null,
       "right": null,
       "top": null,
       "visibility": null,
       "width": null
      }
     },
     "e528f27bc0d24823a1e7b15e836819e0": {
      "model_module": "@jupyter-widgets/base",
      "model_module_version": "1.2.0",
      "model_name": "LayoutModel",
      "state": {
       "_model_module": "@jupyter-widgets/base",
       "_model_module_version": "1.2.0",
       "_model_name": "LayoutModel",
       "_view_count": null,
       "_view_module": "@jupyter-widgets/base",
       "_view_module_version": "1.2.0",
       "_view_name": "LayoutView",
       "align_content": null,
       "align_items": null,
       "align_self": null,
       "border": null,
       "bottom": null,
       "display": null,
       "flex": null,
       "flex_flow": null,
       "grid_area": null,
       "grid_auto_columns": null,
       "grid_auto_flow": null,
       "grid_auto_rows": null,
       "grid_column": null,
       "grid_gap": null,
       "grid_row": null,
       "grid_template_areas": null,
       "grid_template_columns": null,
       "grid_template_rows": null,
       "height": null,
       "justify_content": null,
       "justify_items": null,
       "left": null,
       "margin": null,
       "max_height": null,
       "max_width": null,
       "min_height": null,
       "min_width": null,
       "object_fit": null,
       "object_position": null,
       "order": null,
       "overflow": null,
       "overflow_x": null,
       "overflow_y": null,
       "padding": null,
       "right": null,
       "top": null,
       "visibility": null,
       "width": null
      }
     },
     "ea2953b4f0824d3ca6a223176deacc4c": {
      "model_module": "@jupyter-widgets/controls",
      "model_module_version": "1.5.0",
      "model_name": "DescriptionStyleModel",
      "state": {
       "_model_module": "@jupyter-widgets/controls",
       "_model_module_version": "1.5.0",
       "_model_name": "DescriptionStyleModel",
       "_view_count": null,
       "_view_module": "@jupyter-widgets/base",
       "_view_module_version": "1.2.0",
       "_view_name": "StyleView",
       "description_width": ""
      }
     },
     "ef547c0c1dc442c5957e0b697d757439": {
      "model_module": "@jupyter-widgets/controls",
      "model_module_version": "1.5.0",
      "model_name": "FloatProgressModel",
      "state": {
       "_dom_classes": [],
       "_model_module": "@jupyter-widgets/controls",
       "_model_module_version": "1.5.0",
       "_model_name": "FloatProgressModel",
       "_view_count": null,
       "_view_module": "@jupyter-widgets/controls",
       "_view_module_version": "1.5.0",
       "_view_name": "ProgressView",
       "bar_style": "success",
       "description": "",
       "description_tooltip": null,
       "layout": "IPY_MODEL_d261add6b6724f95bf959b8ecf07e611",
       "max": 3190.0,
       "min": 0.0,
       "orientation": "horizontal",
       "style": "IPY_MODEL_64a1957dcea942398058d1a76610e853",
       "value": 3190.0
      }
     },
     "efb0e66e5cca44b384dbe47d86e8ed1c": {
      "model_module": "@jupyter-widgets/controls",
      "model_module_version": "1.5.0",
      "model_name": "HBoxModel",
      "state": {
       "_dom_classes": [],
       "_model_module": "@jupyter-widgets/controls",
       "_model_module_version": "1.5.0",
       "_model_name": "HBoxModel",
       "_view_count": null,
       "_view_module": "@jupyter-widgets/controls",
       "_view_module_version": "1.5.0",
       "_view_name": "HBoxView",
       "box_style": "",
       "children": [
        "IPY_MODEL_1d98521af98241908b00929c2b8e13d2",
        "IPY_MODEL_08d57870e6c64be886727d4bd140c044",
        "IPY_MODEL_7ddc0636f52643cdb6d79353aea87fa6"
       ],
       "layout": "IPY_MODEL_82bb0400fde74428a1788125bd7cf0c9"
      }
     },
     "f4ca5b2b70ef45d295cac4af35b29b39": {
      "model_module": "@jupyter-widgets/controls",
      "model_module_version": "1.5.0",
      "model_name": "HTMLModel",
      "state": {
       "_dom_classes": [],
       "_model_module": "@jupyter-widgets/controls",
       "_model_module_version": "1.5.0",
       "_model_name": "HTMLModel",
       "_view_count": null,
       "_view_module": "@jupyter-widgets/controls",
       "_view_module_version": "1.5.0",
       "_view_name": "HTMLView",
       "description": "",
       "description_tooltip": null,
       "layout": "IPY_MODEL_0c85328f3fa441b0a443aa1ce152ee52",
       "placeholder": "​",
       "style": "IPY_MODEL_6c3ee6c244ca420b8c911bcaff09e541",
       "value": " 1748/1748 [29:38&lt;00:00,  1.61it/s]"
      }
     },
     "fb744f4e814e4df2a103f7e73500595d": {
      "model_module": "@jupyter-widgets/controls",
      "model_module_version": "1.5.0",
      "model_name": "HBoxModel",
      "state": {
       "_dom_classes": [],
       "_model_module": "@jupyter-widgets/controls",
       "_model_module_version": "1.5.0",
       "_model_name": "HBoxModel",
       "_view_count": null,
       "_view_module": "@jupyter-widgets/controls",
       "_view_module_version": "1.5.0",
       "_view_name": "HBoxView",
       "box_style": "",
       "children": [
        "IPY_MODEL_412f8ac0ccc5449a94937ab5b3c21372",
        "IPY_MODEL_ef547c0c1dc442c5957e0b697d757439",
        "IPY_MODEL_a2b1d23d72df45d893ef61deb18ba2d0"
       ],
       "layout": "IPY_MODEL_88cef705d44840fa81f74da4e3ce0a30"
      }
     },
     "fcdfec1362a04f00930ee55a3dbce3b1": {
      "model_module": "@jupyter-widgets/controls",
      "model_module_version": "1.5.0",
      "model_name": "HBoxModel",
      "state": {
       "_dom_classes": [],
       "_model_module": "@jupyter-widgets/controls",
       "_model_module_version": "1.5.0",
       "_model_name": "HBoxModel",
       "_view_count": null,
       "_view_module": "@jupyter-widgets/controls",
       "_view_module_version": "1.5.0",
       "_view_name": "HBoxView",
       "box_style": "",
       "children": [
        "IPY_MODEL_76acf45bc4a74364a619f63cacca30d1",
        "IPY_MODEL_5f0bce0c4a7046f1bdc9c071fb74a517",
        "IPY_MODEL_92127e8ae89f4085965e01e3dabc5b7a"
       ],
       "layout": "IPY_MODEL_0ae9203221834c96b38dd9a74c190a07"
      }
     }
    },
    "version_major": 2,
    "version_minor": 0
   }
  }
 },
 "nbformat": 4,
 "nbformat_minor": 5
}
